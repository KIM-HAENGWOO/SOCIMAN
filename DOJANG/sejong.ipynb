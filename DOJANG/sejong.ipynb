{
 "cells": [
  {
   "cell_type": "code",
   "execution_count": null,
   "metadata": {},
   "outputs": [],
   "source": [
    "a = 'python'\n",
    "b = 123\n",
    "c = 1.2\n",
    "d = ['a', 'b']\n",
    "e = {'name':'haengwoo'}"
   ]
  },
  {
   "cell_type": "code",
   "execution_count": null,
   "metadata": {},
   "outputs": [],
   "source": [
    "a = 100 # 주석문"
   ]
  },
  {
   "cell_type": "code",
   "execution_count": null,
   "metadata": {},
   "outputs": [],
   "source": [
    "a"
   ]
  },
  {
   "cell_type": "code",
   "execution_count": null,
   "metadata": {},
   "outputs": [],
   "source": [
    "a, b = 'var1', 'var2'"
   ]
  },
  {
   "cell_type": "code",
   "execution_count": null,
   "metadata": {},
   "outputs": [],
   "source": [
    "a"
   ]
  },
  {
   "cell_type": "code",
   "execution_count": null,
   "metadata": {},
   "outputs": [],
   "source": [
    "b"
   ]
  },
  {
   "cell_type": "code",
   "execution_count": null,
   "metadata": {},
   "outputs": [],
   "source": [
    "c=('tuple1', 'tuple2')\n",
    "d=['list1', 'list2']\n",
    "\n",
    "print(a)\n",
    "print(b)\n",
    "print(c)\n",
    "print(d)"
   ]
  },
  {
   "cell_type": "code",
   "execution_count": null,
   "metadata": {},
   "outputs": [],
   "source": [
    "a=10\n",
    "b=3.14\n",
    "c=True\n",
    "\n",
    "print(\"a의 값은?\", a)\n",
    "print(\"a의 데이터 변수 형태는? :\", type(a))\n",
    "print(\"b의 값은?\", b)\n",
    "print(\"b의 데이터 변수 형태는? :\", type(b))\n",
    "print(\"c의 값은?\", c)\n",
    "print(\"c의 데이터 변수 형태는? :\", type(c))"
   ]
  },
  {
   "cell_type": "code",
   "execution_count": null,
   "metadata": {},
   "outputs": [],
   "source": [
    "a=100\n",
    "b=3.14\n",
    "print(a)\n",
    "print(b)\n",
    "print(bin(a))\n",
    "print(hex(a))\n",
    "print(oct(a))"
   ]
  },
  {
   "cell_type": "code",
   "execution_count": null,
   "metadata": {},
   "outputs": [],
   "source": [
    "a=True\n",
    "type(a)"
   ]
  },
  {
   "cell_type": "code",
   "execution_count": null,
   "metadata": {},
   "outputs": [],
   "source": [
    "b=False\n",
    "type(b)"
   ]
  },
  {
   "cell_type": "code",
   "execution_count": null,
   "metadata": {},
   "outputs": [],
   "source": [
    "print(10 == 10)\n",
    "print(10 != 10)\n",
    "print(10 < 10)\n",
    "print(10 > 10)\n",
    "print(10 <= 10)\n",
    "print(10 >= 10)"
   ]
  },
  {
   "cell_type": "code",
   "execution_count": null,
   "metadata": {},
   "outputs": [],
   "source": [
    "sentence = '안녕하세요. ' + '반갑습니다.'\n",
    "sentence"
   ]
  },
  {
   "cell_type": "code",
   "execution_count": null,
   "metadata": {},
   "outputs": [],
   "source": [
    "sentence.split()"
   ]
  },
  {
   "cell_type": "code",
   "execution_count": null,
   "metadata": {},
   "outputs": [],
   "source": [
    "sentence.find('반갑습니다')"
   ]
  },
  {
   "cell_type": "code",
   "execution_count": null,
   "metadata": {},
   "outputs": [],
   "source": [
    "sentence.replace('.', '!')"
   ]
  },
  {
   "cell_type": "code",
   "execution_count": null,
   "metadata": {},
   "outputs": [],
   "source": [
    "sentence.strip('안녕')"
   ]
  },
  {
   "cell_type": "code",
   "execution_count": null,
   "metadata": {},
   "outputs": [],
   "source": [
    "data = [10, 20, 30, 40, 50, 60]\n",
    "print(data)\n",
    "print(type(data))"
   ]
  },
  {
   "cell_type": "code",
   "execution_count": null,
   "metadata": {},
   "outputs": [],
   "source": [
    "print(data[0])\n",
    "print(data[4])\n",
    "print(data)\n",
    "data[0] = data[4]\n",
    "print(data)"
   ]
  },
  {
   "cell_type": "code",
   "execution_count": null,
   "metadata": {},
   "outputs": [],
   "source": [
    "data = ['사과', '배', '포도', '딸기', '토마토', '메론']\n",
    "print(data)\n",
    "\n",
    "print(\"리스트 인덱싱을 통해 하나의 값을 표현 : \", data[2])\n",
    "print('리스트 슬라이싱을 통해 여러 값을 표현 : ', data[1:4])"
   ]
  },
  {
   "cell_type": "code",
   "execution_count": null,
   "metadata": {},
   "outputs": [],
   "source": [
    "data_1 = [10, 20, 30, 40, 50]\n",
    "data_2 = [5, 10, 15, 20, 25]\n",
    "\n",
    "data_1 + data_2"
   ]
  },
  {
   "cell_type": "code",
   "execution_count": null,
   "metadata": {},
   "outputs": [],
   "source": [
    "lists = [1, 100, 'python']\n",
    "print(lists)\n",
    "print(type(lists))\n",
    "print()\n",
    "\n",
    "lists.append('PY')\n",
    "print(\"PY라는 값을 추가한 후의 lists : \", lists)\n",
    "\n",
    "lists.insert(1, '0.5')\n",
    "lists"
   ]
  },
  {
   "cell_type": "code",
   "execution_count": null,
   "metadata": {},
   "outputs": [],
   "source": [
    "print(lists)\n",
    "lists.remove('python')\n",
    "print(lists)"
   ]
  },
  {
   "cell_type": "code",
   "execution_count": null,
   "metadata": {},
   "outputs": [],
   "source": [
    "data_list = [10, 20, 30, 40, 50, 60, 70]\n",
    "print(\"최소값\", min(data_list))\n",
    "print(\"최대값\", max(data_list))"
   ]
  },
  {
   "cell_type": "code",
   "execution_count": null,
   "metadata": {},
   "outputs": [],
   "source": [
    "data_list = [50, 20, 40, 30, 10, 60, 90]\n",
    "data_list.sort()\n",
    "print(data_list)"
   ]
  },
  {
   "cell_type": "code",
   "execution_count": null,
   "metadata": {},
   "outputs": [],
   "source": [
    "tuples = (1, 1000, '수학', 100, 100)\n",
    "print(tuples[0])\n",
    "print(tuples[2])\n",
    "print(tuples[1])"
   ]
  },
  {
   "cell_type": "code",
   "execution_count": null,
   "metadata": {},
   "outputs": [],
   "source": [
    "tuples.count(100)"
   ]
  },
  {
   "cell_type": "code",
   "execution_count": null,
   "metadata": {},
   "outputs": [],
   "source": [
    "tuple1 = (1, 2, 3, 'a', 'b', 'c')\n",
    "tuple1[:3]"
   ]
  },
  {
   "cell_type": "code",
   "execution_count": null,
   "metadata": {},
   "outputs": [],
   "source": [
    "tuple1[3:]"
   ]
  },
  {
   "cell_type": "code",
   "execution_count": null,
   "metadata": {},
   "outputs": [],
   "source": [
    "tuple2 = ('가', '나', '다')\n",
    "tuple1 + tuple2"
   ]
  },
  {
   "cell_type": "code",
   "execution_count": null,
   "metadata": {},
   "outputs": [],
   "source": [
    "tuple1 * 3"
   ]
  },
  {
   "cell_type": "code",
   "execution_count": null,
   "metadata": {},
   "outputs": [],
   "source": [
    "print(lists)"
   ]
  },
  {
   "cell_type": "code",
   "execution_count": null,
   "metadata": {},
   "outputs": [],
   "source": [
    "lists.append('과학')\n",
    "lists"
   ]
  },
  {
   "cell_type": "code",
   "execution_count": null,
   "metadata": {},
   "outputs": [],
   "source": [
    "lists.insert(3, 'math')\n",
    "lists # 동일 명령 3번 실행"
   ]
  },
  {
   "cell_type": "code",
   "execution_count": null,
   "metadata": {},
   "outputs": [],
   "source": [
    "lists.remove('math')\n",
    "lists"
   ]
  },
  {
   "cell_type": "markdown",
   "metadata": {},
   "source": [
    "# 조건문"
   ]
  },
  {
   "cell_type": "code",
   "execution_count": null,
   "metadata": {},
   "outputs": [],
   "source": [
    "a = 100\n",
    "if a == 100:\n",
    "    print('일치')\n",
    "else:\n",
    "    print('불일치')"
   ]
  },
  {
   "cell_type": "code",
   "execution_count": null,
   "metadata": {},
   "outputs": [],
   "source": [
    "a = 1\n",
    "while a <= 5:\n",
    "    print(a)\n",
    "    a += 1"
   ]
  },
  {
   "cell_type": "code",
   "execution_count": null,
   "metadata": {},
   "outputs": [],
   "source": [
    "num_list = [1, 2, 3, 4, 5]\n",
    "for num in num_list:\n",
    "    print(num)"
   ]
  },
  {
   "cell_type": "code",
   "execution_count": null,
   "metadata": {},
   "outputs": [],
   "source": [
    "def f(x):\n",
    "    return x + 10\n",
    "\n",
    "f(2)"
   ]
  },
  {
   "cell_type": "code",
   "execution_count": null,
   "metadata": {},
   "outputs": [],
   "source": [
    "dictionary = {\n",
    "    'name' : '김행우',\n",
    "    'Email' : 'haengwoo@me.com',\n",
    "    'address' : 'hanam-si, KOREA'\n",
    "}\n",
    "type(dictionary)"
   ]
  },
  {
   "cell_type": "code",
   "execution_count": null,
   "metadata": {},
   "outputs": [],
   "source": [
    "dictionary.keys()"
   ]
  },
  {
   "cell_type": "code",
   "execution_count": null,
   "metadata": {},
   "outputs": [],
   "source": [
    "dictionary.values()"
   ]
  },
  {
   "cell_type": "code",
   "execution_count": null,
   "metadata": {},
   "outputs": [],
   "source": [
    "dictionary.items()"
   ]
  },
  {
   "cell_type": "code",
   "execution_count": null,
   "metadata": {},
   "outputs": [],
   "source": [
    "for item in dictionary.items():\n",
    "    print(item)"
   ]
  },
  {
   "cell_type": "code",
   "execution_count": null,
   "metadata": {},
   "outputs": [],
   "source": [
    "set1 = set(['서울', '대구', '대전', '부산', '인천', '강원'])\n",
    "set2 = set(['서울', '부산', '강원', '충청', '광주'])\n",
    "\n",
    "print(set1.union(set2))\n",
    "print(set1.intersection(set2))\n",
    "print(set1.difference(set2))\n",
    "print(set1.symmetric_difference(set2))"
   ]
  },
  {
   "cell_type": "code",
   "execution_count": null,
   "metadata": {},
   "outputs": [],
   "source": [
    "nup = [1.0, 10.4, 3.2, 5.1, 7.5, 2.7]\n",
    "flotV = [nup, nup, nup]\n",
    "flotV"
   ]
  },
  {
   "cell_type": "code",
   "execution_count": null,
   "metadata": {},
   "outputs": [],
   "source": [
    "flotV[0]"
   ]
  },
  {
   "cell_type": "code",
   "execution_count": null,
   "metadata": {},
   "outputs": [],
   "source": [
    "flotV[2]"
   ]
  },
  {
   "cell_type": "code",
   "execution_count": null,
   "metadata": {},
   "outputs": [],
   "source": [
    "flotV[0] = 'Python'\n",
    "flotV"
   ]
  },
  {
   "cell_type": "code",
   "execution_count": null,
   "metadata": {},
   "outputs": [],
   "source": [
    "import numpy as np\n",
    "a = np.array([1, 2.5, 4.0, 5.5, 7.5])\n",
    "a[3:]"
   ]
  },
  {
   "cell_type": "code",
   "execution_count": null,
   "metadata": {},
   "outputs": [],
   "source": [
    "a.sum()"
   ]
  },
  {
   "cell_type": "code",
   "execution_count": null,
   "metadata": {},
   "outputs": [],
   "source": [
    "a.std()"
   ]
  },
  {
   "cell_type": "code",
   "execution_count": null,
   "metadata": {},
   "outputs": [],
   "source": [
    "a.cumsum()"
   ]
  },
  {
   "cell_type": "code",
   "execution_count": null,
   "metadata": {},
   "outputs": [],
   "source": [
    "print(a)\n",
    "print(a*2)\n",
    "print(a**2)\n",
    "print(np.sqrt(a))"
   ]
  },
  {
   "cell_type": "code",
   "execution_count": null,
   "metadata": {},
   "outputs": [],
   "source": [
    "b = np.array([a, a**2])\n",
    "b"
   ]
  },
  {
   "cell_type": "code",
   "execution_count": null,
   "metadata": {},
   "outputs": [],
   "source": [
    "b.sum(axis=0)"
   ]
  },
  {
   "cell_type": "code",
   "execution_count": null,
   "metadata": {},
   "outputs": [],
   "source": [
    "b.sum(axis=1)"
   ]
  },
  {
   "cell_type": "code",
   "execution_count": null,
   "metadata": {},
   "outputs": [],
   "source": [
    "np.array([[0,0,0],[0,0,0]])"
   ]
  },
  {
   "cell_type": "code",
   "execution_count": null,
   "metadata": {},
   "outputs": [],
   "source": [
    "values = np.zeros((2,3), dtype='i')\n",
    "values"
   ]
  },
  {
   "cell_type": "code",
   "execution_count": null,
   "metadata": {},
   "outputs": [],
   "source": [
    "import pandas as pd\n",
    "import numpy as np\n",
    "\n",
    "pandas_series = pd.Series([3000,3200, 2700]\n",
    "                          , index=['2016-11-10', '2016-11-11', '2016-11-12'])\n",
    "print(type(pandas_series))\n",
    "pandas_series"
   ]
  },
  {
   "cell_type": "code",
   "execution_count": null,
   "metadata": {},
   "outputs": [],
   "source": [
    "pandas_series[1:]"
   ]
  },
  {
   "cell_type": "code",
   "execution_count": null,
   "metadata": {},
   "outputs": [],
   "source": [
    "import pandas as pd\n",
    "import numpy as np\n",
    "\n",
    "df = pd.DataFrame([100, 150, 200, 250, 300], columns=['numbers'],\n",
    "                  index=['a', 'b', 'c', 'd', 'e'])\n",
    "df"
   ]
  },
  {
   "cell_type": "code",
   "execution_count": null,
   "metadata": {},
   "outputs": [],
   "source": [
    "df.index"
   ]
  },
  {
   "cell_type": "code",
   "execution_count": null,
   "metadata": {},
   "outputs": [],
   "source": [
    "df.columns"
   ]
  },
  {
   "cell_type": "code",
   "execution_count": null,
   "metadata": {},
   "outputs": [],
   "source": [
    "df.numbers['c']"
   ]
  },
  {
   "cell_type": "code",
   "execution_count": null,
   "metadata": {},
   "outputs": [],
   "source": [
    "df.ix['c']"
   ]
  },
  {
   "cell_type": "code",
   "execution_count": null,
   "metadata": {},
   "outputs": [],
   "source": [
    "df.sum()"
   ]
  },
  {
   "cell_type": "code",
   "execution_count": null,
   "metadata": {},
   "outputs": [],
   "source": [
    "df.numbers**2"
   ]
  },
  {
   "cell_type": "code",
   "execution_count": null,
   "metadata": {},
   "outputs": [],
   "source": [
    "df['values'] = [10, 50, 40, 30, 60]"
   ]
  },
  {
   "cell_type": "code",
   "execution_count": null,
   "metadata": {},
   "outputs": [],
   "source": [
    "df"
   ]
  },
  {
   "cell_type": "code",
   "execution_count": null,
   "metadata": {},
   "outputs": [],
   "source": [
    "df['values'] = pd.DataFrame(['Forth', 'Second', 'First', 'Fifth', 'Third'],\n",
    "                            index = ['d', 'b', 'a', 'e', 'c'])\n",
    "df"
   ]
  },
  {
   "cell_type": "code",
   "execution_count": null,
   "metadata": {},
   "outputs": [],
   "source": [
    "del df['values']"
   ]
  },
  {
   "cell_type": "code",
   "execution_count": null,
   "metadata": {},
   "outputs": [],
   "source": [
    "df_1 = pd.DataFrame(['1', '2', '3'], columns=['A'])\n",
    "df_2 = pd.DataFrame(['4', '5', '6', '7'], columns=['B'])\n",
    "\n",
    "df = df_1.join(df_2, how='outer')\n",
    "df"
   ]
  },
  {
   "cell_type": "code",
   "execution_count": null,
   "metadata": {},
   "outputs": [],
   "source": [
    "import pandas as pd\n",
    "import numpy as np\n",
    "\n",
    "df = pd.DataFrame(np.random.randn(5,5))\n",
    "df.columns = ['A', 'B', 'C', 'D', 'E']\n",
    "\n",
    "df"
   ]
  },
  {
   "cell_type": "code",
   "execution_count": null,
   "metadata": {},
   "outputs": [],
   "source": [
    "df.max()"
   ]
  },
  {
   "cell_type": "code",
   "execution_count": null,
   "metadata": {},
   "outputs": [],
   "source": [
    "df.min()"
   ]
  },
  {
   "cell_type": "code",
   "execution_count": null,
   "metadata": {},
   "outputs": [],
   "source": [
    "df.mean()"
   ]
  },
  {
   "cell_type": "code",
   "execution_count": null,
   "metadata": {},
   "outputs": [],
   "source": [
    "df.std()"
   ]
  },
  {
   "cell_type": "code",
   "execution_count": null,
   "metadata": {},
   "outputs": [],
   "source": [
    "df.cumsum()"
   ]
  },
  {
   "cell_type": "code",
   "execution_count": null,
   "metadata": {},
   "outputs": [],
   "source": [
    "df.describe()"
   ]
  },
  {
   "cell_type": "code",
   "execution_count": null,
   "metadata": {},
   "outputs": [],
   "source": [
    "df['division'] = ['X', 'Y', 'X', 'Y', 'Z']\n",
    "df"
   ]
  },
  {
   "cell_type": "code",
   "execution_count": null,
   "metadata": {},
   "outputs": [],
   "source": [
    "df.groupby(['division']).mean()"
   ]
  },
  {
   "cell_type": "code",
   "execution_count": null,
   "metadata": {},
   "outputs": [],
   "source": [
    "num_list = [1,2,3,4,5]\n",
    "for num in num_list:\n",
    "    print(num)"
   ]
  },
  {
   "cell_type": "code",
   "execution_count": null,
   "metadata": {},
   "outputs": [],
   "source": [
    "import matplotlib as mpl\n",
    "import matplotlib.pyplot as plt\n",
    "import numpy as np\n",
    "\n",
    "%matplotlib inline"
   ]
  },
  {
   "cell_type": "code",
   "execution_count": null,
   "metadata": {},
   "outputs": [],
   "source": [
    "value = np.random.standard_normal(40)\n",
    "value"
   ]
  },
  {
   "cell_type": "code",
   "execution_count": null,
   "metadata": {},
   "outputs": [],
   "source": [
    "index = range(len(value))\n",
    "plt.plot(index, value)\n",
    "plt.xlim(0,20)\n",
    "plt.ylim(np.min(value)-1, np.max(value)+1)"
   ]
  },
  {
   "cell_type": "code",
   "execution_count": null,
   "metadata": {},
   "outputs": [],
   "source": [
    "plt.figure(figsize=(7,4))\n",
    "plt.plot(value.cumsum(), 'b', lw=1.5)\n",
    "plt.plot(value.cumsum(), 'ro')\n",
    "plt.xlabel('index')\n",
    "plt.ylabel('value')\n",
    "plt.title('Line plot 1')"
   ]
  },
  {
   "cell_type": "code",
   "execution_count": null,
   "metadata": {},
   "outputs": [],
   "source": [
    "value = np.random.standard_normal((30, 2))\n",
    "value"
   ]
  },
  {
   "cell_type": "code",
   "execution_count": null,
   "metadata": {},
   "outputs": [],
   "source": [
    "plt.figure(figsize=(10, 4))\n",
    "plt.plot(value[:, 0], lw=1.5, label='1st')\n",
    "plt.plot(value[:, 1], lw=1.5, label='2nd')\n",
    "plt.plot(value, 'ro')\n",
    "plt.grid(True)\n",
    "plt.legend(loc=0)\n",
    "plt.xlabel('index')\n",
    "plt.ylabel('value')\n",
    "plt.title('Line plot 2')"
   ]
  },
  {
   "cell_type": "code",
   "execution_count": null,
   "metadata": {},
   "outputs": [],
   "source": [
    "plt.figure(figsize=(10, 5))\n",
    "plt.subplot(211)\n",
    "plt.plot(value[:,0], lw=1.5, label='1st')\n",
    "plt.plot(value[:,0], 'ro')\n",
    "plt.grid(True)\n",
    "plt.legend(loc=0)\n",
    "plt.ylabel('value')\n",
    "plt.title('Line plot 3')\n",
    "\n",
    "plt.subplot(212)\n",
    "plt.plot(value[:,1], 'g', lw=1.5, label='2nd')\n",
    "plt.grid(True)\n",
    "plt.legend(loc=0)\n",
    "plt.axis('tight')\n",
    "plt.ylabel('value')"
   ]
  },
  {
   "cell_type": "code",
   "execution_count": null,
   "metadata": {},
   "outputs": [],
   "source": [
    "# 1번째\n",
    "plt.figure(figsize=(13, 5))\n",
    "plt.subplot(231)\n",
    "plt.plot(value[:,0], lw=1.5, label='1st')\n",
    "plt.plot(value[:,0], 'co')\n",
    "plt.grid(True)\n",
    "plt.legend(loc=0)\n",
    "plt.ylabel('value')\n",
    "plt.title('Line plot 3')\n",
    "\n",
    "# 2번째\n",
    "plt.subplot(232)\n",
    "plt.plot(value[:,0], 'g-.', lw=1.5, label='1st')\n",
    "plt.grid(True)\n",
    "plt.legend(loc=0)\n",
    "plt.axis('tight')\n",
    "plt.ylabel('value')\n",
    "\n",
    "# 3번째\n",
    "plt.subplot(233)\n",
    "plt.plot(value[:,0], 'g', lw=1.5, label='1st')\n",
    "plt.plot(value[:,0], 'bD')\n",
    "plt.grid(True)\n",
    "plt.legend(loc=0)\n",
    "plt.axis('tight')\n",
    "plt.ylabel('value')\n",
    "\n",
    "# 4번째\n",
    "plt.subplot(234)\n",
    "plt.plot(value[:,1], '*', lw=1.5, label='2nd')\n",
    "plt.grid(True)\n",
    "plt.legend(loc=0)\n",
    "plt.axis('tight')\n",
    "plt.ylabel('value')\n",
    "\n",
    "# 5번째\n",
    "plt.subplot(235)\n",
    "plt.plot(value[:,1], 'b', lw=1.5, label='2nd')\n",
    "plt.plot(value[:,1], 'ms')\n",
    "plt.grid(True)\n",
    "plt.legend(loc=0)\n",
    "plt.axis('tight')\n",
    "plt.ylabel('value')\n",
    "\n",
    "# 6번째\n",
    "plt.subplot(236)\n",
    "plt.plot(value[:,1], 'r--', lw=1.5, label='2nd')\n",
    "plt.grid(True)\n",
    "plt.legend(loc=0)\n",
    "plt.axis('tight')\n",
    "plt.ylabel('value')"
   ]
  },
  {
   "cell_type": "code",
   "execution_count": null,
   "metadata": {},
   "outputs": [],
   "source": [
    "import matplotlib as mpl\n",
    "import matplotlib.pyplot as plt\n",
    "import numpy as np\n",
    "\n",
    "%matplotlib inline"
   ]
  },
  {
   "cell_type": "code",
   "execution_count": null,
   "metadata": {},
   "outputs": [],
   "source": [
    "value = np.random.standard_normal((500,2))\n",
    "plt.plot(value[:,0], value[:,1], 'ro')\n",
    "plt.grid(False)\n",
    "plt.xlabel('value1')\n",
    "plt.ylabel('value2')\n",
    "plt.title('Scatter Plot 1')"
   ]
  },
  {
   "cell_type": "code",
   "execution_count": null,
   "metadata": {},
   "outputs": [],
   "source": [
    "plt.figure(figsize=(7,5))\n",
    "plt.scatter(value[:,0], value[:,1], marker='o')\n",
    "plt.grid(True)\n",
    "plt.xlabel('value1')\n",
    "plt.ylabel('value2')\n",
    "plt.title('Scatter Plot 2')\n"
   ]
  },
  {
   "cell_type": "code",
   "execution_count": null,
   "metadata": {},
   "outputs": [],
   "source": [
    "color = np.random.randint(0,10,len(value))\n",
    "\n",
    "plt.figure(figsize=(10,5))\n",
    "plt.scatter(value[:,0], value[:,1], c=color, marker='o')\n",
    "plt.colorbar()\n",
    "plt.xlabel('value1')\n",
    "plt.ylabel('value2')\n",
    "plt.title('Scatter Plot 3')"
   ]
  },
  {
   "cell_type": "code",
   "execution_count": null,
   "metadata": {},
   "outputs": [],
   "source": [
    "plt.figure(figsize=(12,7))\n",
    "plt.hist(value, label=['1st', '2nd'], bins=30)\n",
    "plt.grid(True)\n",
    "plt.legend(bbox_to_anchor=(1.2, 1), loc='upper right')\n",
    "plt.xlabel('value')\n",
    "plt.ylabel('frequency')\n",
    "plt.title('Histogram 1')"
   ]
  },
  {
   "cell_type": "code",
   "execution_count": null,
   "metadata": {},
   "outputs": [],
   "source": [
    "plt.figure(figsize=(12,6))\n",
    "plt.hist(value, label=['1st', '2nd'], bins=30, color=('yellow', 'green'))\n",
    "plt.grid(True)\n",
    "plt.legend(bbox_to_anchor=(1.2,1), loc='upper right')\n",
    "plt.xlabel('value')\n",
    "plt.ylabel('frequency')\n",
    "plt.title('Histogram 2')"
   ]
  },
  {
   "cell_type": "code",
   "execution_count": null,
   "metadata": {},
   "outputs": [],
   "source": [
    "value = np.random.standard_normal(500)\n",
    "cm = plt.cm.get_cmap('Spectral')\n",
    "plt.figure(figsize=(12,6))\n",
    "\n",
    "n, bins, patches = plt.hist(value, bins=30, color='green')\n",
    "print('1. bins : '+str(bins))\n",
    "print('2. the length of bins : '+str(len(bins)))\n",
    "bin_centers=0.5*(bins[:-1]+bins[1:])\n",
    "print('3. bin_centers : '+str(bin_centers))\n",
    "\n",
    "col = (bin_centers - min(bin_centers)) / (max(bin_centers) - min(bin_centers))\n",
    "print('4. col : '+str(col))\n",
    "\n",
    "for c, p in zip(col, patches):\n",
    "    plt.setp(p, 'facecolor', cm(c))\n",
    "    \n",
    "plt.xlabel('value')\n",
    "plt.ylabel('frequency')\n",
    "plt.title('Histogram 3')\n",
    "plt.show()"
   ]
  },
  {
   "cell_type": "code",
   "execution_count": null,
   "metadata": {},
   "outputs": [],
   "source": [
    "import seaborn as sns\n",
    "sns.set(style='whitegrid', palette='pastel')\n",
    "\n",
    "data = sns.load_dataset('tips')\n",
    "data"
   ]
  },
  {
   "cell_type": "code",
   "execution_count": null,
   "metadata": {},
   "outputs": [],
   "source": [
    "sns.boxplot(x='day', y='tip', hue='sex', data=data, palette='muted')"
   ]
  },
  {
   "cell_type": "code",
   "execution_count": null,
   "metadata": {},
   "outputs": [],
   "source": [
    "data2 = sns.load_dataset('flights')\n",
    "data2"
   ]
  },
  {
   "cell_type": "code",
   "execution_count": null,
   "metadata": {},
   "outputs": [],
   "source": [
    "pivoted_data = data2.pivot('year', 'month', 'passengers')\n",
    "pivoted_data"
   ]
  },
  {
   "cell_type": "code",
   "execution_count": null,
   "metadata": {},
   "outputs": [],
   "source": [
    "sns.set(context=\"poster\", font=\"monospace\")\n",
    "\n",
    "sns.heatmap(pivoted_data, annot=True, fmt=\"d\", linewidth=3)"
   ]
  },
  {
   "cell_type": "code",
   "execution_count": null,
   "metadata": {},
   "outputs": [],
   "source": [
    "sns.set()\n",
    "sns.reset_orig()\n",
    "sns.heatmap(pivoted_data, annot=True, fmt='d', linewidth=3)"
   ]
  },
  {
   "cell_type": "code",
   "execution_count": null,
   "metadata": {},
   "outputs": [],
   "source": [
    "import pandas as pd\n",
    "from pandas import scatter_matrix\n",
    "value = np.random.randn(500,4)\n",
    "df = pd.DataFrame(value, columns = ['value1', 'value2', 'value3', 'value4'])\n",
    "df"
   ]
  },
  {
   "cell_type": "code",
   "execution_count": null,
   "metadata": {},
   "outputs": [],
   "source": [
    "scatter_matrix(df, alpha=0.2, figsize=(6,6), diagonal='hist')"
   ]
  },
  {
   "cell_type": "code",
   "execution_count": null,
   "metadata": {},
   "outputs": [],
   "source": [
    "import numpy as np\n",
    "import matplotlib.pyplot as plt\n",
    "%matplotlib inline"
   ]
  },
  {
   "cell_type": "code",
   "execution_count": null,
   "metadata": {},
   "outputs": [],
   "source": [
    "x = np.arange(0,100)\n",
    "y = x * 2\n",
    "z = x ** 2\n",
    "plt.subplot(211)\n",
    "plt.plot(x,y,color=\"blue\", lw=5)\n",
    "plt.xlabel(\"X\")\n",
    "plt.ylabel(\"Y\")\n",
    "plt.title(\"First\")\n",
    "plt.subplot(212)\n",
    "plt.plot(x,z,color=\"red\", lw=3, ls=\"--\")\n",
    "plt.xlabel(\"X\")\n",
    "plt.ylabel(\"Z\")\n",
    "plt.title(\"Second\")"
   ]
  },
  {
   "cell_type": "code",
   "execution_count": null,
   "metadata": {},
   "outputs": [],
   "source": [
    "from sklearn import datasets\n",
    "from sklearn.tree import DecisionTreeClassifier\n",
    "from sklearn.model_selection import train_test_split\n",
    "from sklearn.model_selection import StratifiedKFold\n",
    "from sklearn.model_selection import cross_val_score\n",
    "from sklearn.metrics import confusion_matrix\n",
    "from sklearn.metrics import accuracy_score\n",
    "from sklearn.metrics import classification_report\n",
    "from sklearn.metrics import roc_auc_score\n",
    "from sklearn.metrics import mean_squared_error"
   ]
  },
  {
   "cell_type": "code",
   "execution_count": null,
   "metadata": {},
   "outputs": [],
   "source": [
    "data = datasets.load_breast_cancer()\n",
    "X = data.data\n",
    "y = data.target\n",
    "print(data)"
   ]
  },
  {
   "cell_type": "code",
   "execution_count": null,
   "metadata": {},
   "outputs": [],
   "source": [
    "X_train, X_test, y_train, y_test = train_test_split(X, y, test_size=0.2)\n",
    "X_train"
   ]
  },
  {
   "cell_type": "code",
   "execution_count": null,
   "metadata": {},
   "outputs": [],
   "source": [
    "clf = DecisionTreeClassifier()\n",
    "clf.fit(X_train, y_train)\n",
    "clf"
   ]
  },
  {
   "cell_type": "code",
   "execution_count": null,
   "metadata": {},
   "outputs": [],
   "source": [
    "y_pred = clf.predict(X_test)\n",
    "y_pred\n",
    "print('Confusion Matrix')\n",
    "print(confusion_matrix(y_test, y_pred))"
   ]
  },
  {
   "cell_type": "code",
   "execution_count": null,
   "metadata": {},
   "outputs": [],
   "source": [
    "print('Accuracy')\n",
    "print(accuracy_score(y_test, y_pred, normalize=True))"
   ]
  },
  {
   "cell_type": "code",
   "execution_count": null,
   "metadata": {},
   "outputs": [],
   "source": [
    "print('Classification Report')\n",
    "print(classification_report(y_test, y_pred))"
   ]
  },
  {
   "cell_type": "code",
   "execution_count": null,
   "metadata": {},
   "outputs": [],
   "source": [
    "print('AUC')\n",
    "print(roc_auc_score(y_test, y_pred))"
   ]
  },
  {
   "cell_type": "code",
   "execution_count": null,
   "metadata": {},
   "outputs": [],
   "source": [
    "print('Mean Squared Error')\n",
    "print(mean_squared_error(y_test, y_pred))"
   ]
  },
  {
   "cell_type": "code",
   "execution_count": null,
   "metadata": {},
   "outputs": [],
   "source": [
    "skf = StratifiedKFold(n_splits=10)\n",
    "skf.get_n_splits(X, y)\n",
    "print(skf)"
   ]
  },
  {
   "cell_type": "code",
   "execution_count": null,
   "metadata": {},
   "outputs": [],
   "source": [
    "for train_index, test_index in skf.split(X, y):\n",
    "    print('Train set : ', train_index)\n",
    "    print('Test set : ', test_index)"
   ]
  },
  {
   "cell_type": "code",
   "execution_count": null,
   "metadata": {},
   "outputs": [],
   "source": [
    "clf = DecisionTreeClassifier()\n",
    "scores = cross_val_score(clf, X, y, cv=skf)\n",
    "print('K Fold Cross Validation Score')\n",
    "print(scores)\n",
    "print('Average Accuracy')\n",
    "print(scores.mean())"
   ]
  },
  {
   "cell_type": "code",
   "execution_count": null,
   "metadata": {},
   "outputs": [],
   "source": [
    "skf_sh = StratifiedKFold(n_splits=10, shuffle=True)\n",
    "skf_sh.get_n_splits(X, y)\n",
    "print(skf_sh)"
   ]
  },
  {
   "cell_type": "code",
   "execution_count": null,
   "metadata": {},
   "outputs": [],
   "source": [
    "for train_index, test_index in skf_sh.split(X, y):\n",
    "    print('Train set : ', train_index)\n",
    "    print('Test set : ', test_index)"
   ]
  },
  {
   "cell_type": "code",
   "execution_count": null,
   "metadata": {},
   "outputs": [],
   "source": [
    "clf = DecisionTreeClassifier()\n",
    "scores = cross_val_score(clf, X, y, cv=skf_sh)\n",
    "print('K Fold Cross Validation Score')\n",
    "print(scores)\n",
    "print('Average Accuracy')\n",
    "print(scores.mean())"
   ]
  },
  {
   "cell_type": "code",
   "execution_count": null,
   "metadata": {},
   "outputs": [],
   "source": [
    "from sklearn import linear_model\n",
    "import numpy as np\n",
    "import pandas as pd\n",
    "import matplotlib\n",
    "import matplotlib.pyplot as plt\n",
    "%matplotlib inline\n",
    "matplotlib.style.use('ggplot')"
   ]
  },
  {
   "cell_type": "code",
   "execution_count": null,
   "metadata": {},
   "outputs": [],
   "source": [
    "import pandas as pd\n",
    "import numpy as np\n",
    "import matplotlib.pyplot as plt"
   ]
  },
  {
   "cell_type": "code",
   "execution_count": null,
   "metadata": {},
   "outputs": [],
   "source": [
    "data = pd.read_csv('2015_data.csv', encoding=\"cp949\")\n",
    "data.tail()"
   ]
  },
  {
   "cell_type": "code",
   "execution_count": null,
   "metadata": {},
   "outputs": [],
   "source": [
    "data_seoul = data[data.Location.isin(['서울'])]\n",
    "data_seoul.tail()"
   ]
  },
  {
   "cell_type": "code",
   "execution_count": null,
   "metadata": {},
   "outputs": [],
   "source": [
    "data_seoul.corr()"
   ]
  },
  {
   "cell_type": "code",
   "execution_count": null,
   "metadata": {},
   "outputs": [],
   "source": [
    "import seaborn as sns\n",
    "%matplotlib inline\n",
    "\n",
    "sns.set(font_scale=1.5)\n",
    "f, ax = plt.subplots(figsize=(20,10))\n",
    "\n",
    "sns_heatmap = sns.heatmap(data_seoul.corr(), annot=True, fmt='.2f', linewidth=.5, cmap='RdBu_r')"
   ]
  },
  {
   "cell_type": "code",
   "execution_count": null,
   "metadata": {},
   "outputs": [],
   "source": [
    "import pandas as pd\n",
    "import numpy as np\n",
    "import seaborn as sns\n",
    "import matplotlib.pyplot as plt\n",
    "%matplotlib inline"
   ]
  },
  {
   "cell_type": "code",
   "execution_count": null,
   "metadata": {},
   "outputs": [],
   "source": [
    "data=pd.read_csv('total_weather.csv', encoding=\"cp949\")\n",
    "print(\"데이터의 총 수 : \", len(data))\n",
    "data.tail()"
   ]
  },
  {
   "cell_type": "code",
   "execution_count": null,
   "metadata": {},
   "outputs": [],
   "source": [
    "data_seoul=data[data.Location.isin(['서울'])]\n",
    "date_dict={\"01\":\"겨울\",\"02\":\"겨울\",\"03\":\"봄\",\"04\":\"봄\",\"05\":\"봄\",\"06\":\"여름\",\"07\":\"여름\",\"08\":\"여름\",\"09\":\"가을\",\"10\":\"가을\",\"11\":\"가을\",\"12\":\"겨울\"}\n",
    "data_seoul['Season']=data_seoul.Date.str[5:7].map(date_dict)"
   ]
  },
  {
   "cell_type": "code",
   "execution_count": null,
   "metadata": {},
   "outputs": [],
   "source": [
    "data_seoul=data_seoul[data_seoul.Season.isin(['겨울'])]\n",
    "data_seoul.tail()"
   ]
  },
  {
   "cell_type": "code",
   "execution_count": null,
   "metadata": {},
   "outputs": [],
   "source": [
    "sns.set(font_scale=1.5)\n",
    "f, ax=plt.subplots(figsize=(20,10))\n",
    "sns_heatmap=sns.heatmap(data_seoul.corr(), annot=True, fmt=\".2f\", linewidths=.5, cmap=\"RdBu_r\")"
   ]
  },
  {
   "cell_type": "code",
   "execution_count": null,
   "metadata": {},
   "outputs": [],
   "source": [
    "from sklearn import linear_model\n",
    "import numpy as np\n",
    "import pandas as pd\n",
    "import matplotlib\n",
    "import matplotlib.pyplot as plt\n",
    "%matplotlib inline\n",
    "matplotlib.style.use('ggplot')"
   ]
  },
  {
   "cell_type": "code",
   "execution_count": null,
   "metadata": {},
   "outputs": [],
   "source": [
    "data = {'x' : [59, 49, 75, 54, 78, 56, 60, 82, 69, 83, 88, 94, 47, 65, 89, 70], 'y' : [209, 180, 195, 192, 215, 197, 208, 189, 213, 201, 214, 212, 205, 186, 200, 204]}\n",
    "data=pd.DataFrame(data)\n",
    "data"
   ]
  },
  {
   "cell_type": "code",
   "execution_count": null,
   "metadata": {},
   "outputs": [],
   "source": [
    "data.plot(kind=\"scatter\", x='x', y='y', figsize=(5,5), color=\"red\")"
   ]
  },
  {
   "cell_type": "code",
   "execution_count": null,
   "metadata": {},
   "outputs": [],
   "source": [
    "linear_regression=linear_model.LinearRegression()\n",
    "linear_regression.fit(X=pd.DataFrame(data[\"x\"]), y=data[\"y\"])\n",
    "prediction=linear_regression.predict(X=pd.DataFrame(data[\"x\"]))\n",
    "print('a value = ', linear_regression.intercept_)\n",
    "print('b value = ', linear_regression.coef_)"
   ]
  },
  {
   "cell_type": "code",
   "execution_count": null,
   "metadata": {},
   "outputs": [],
   "source": [
    "residuals=data[\"y\"]-prediction\n",
    "residuals.describe()"
   ]
  },
  {
   "cell_type": "code",
   "execution_count": null,
   "metadata": {},
   "outputs": [],
   "source": [
    "SSE=(residuals**2).sum()\n",
    "SST=((data[\"y\"]-data[\"y\"].mean())**2).sum()\n",
    "R_squared=1-(SSE/SST)\n",
    "print('R_squared = ', R_squared)"
   ]
  },
  {
   "cell_type": "code",
   "execution_count": null,
   "metadata": {},
   "outputs": [],
   "source": [
    "data.plot(kind=\"scatter\", x='x', y='y', figsize=(5,5), color='red')\n",
    "plt.plot(data['x'], prediction, color='blue')"
   ]
  },
  {
   "cell_type": "code",
   "execution_count": null,
   "metadata": {},
   "outputs": [],
   "source": [
    "from sklearn.metrics import mean_squared_error\n",
    "print('score = ', linear_regression.score(X=pd.DataFrame(data['x']), y=data['y']))\n",
    "print('Mean_Squared_Error = ', mean_squared_error(prediction, data['y']))\n",
    "print('RMSE = ', mean_squared_error(prediction, data['y'])**0.5)"
   ]
  },
  {
   "cell_type": "code",
   "execution_count": null,
   "metadata": {},
   "outputs": [],
   "source": [
    "from sklearn import datasets\n",
    "boston_house_prices=datasets.load_boston()\n",
    "print(boston_house_prices.keys())\n",
    "print(boston_house_prices.data.shape)\n",
    "print(boston_house_prices.feature_names)"
   ]
  },
  {
   "cell_type": "code",
   "execution_count": null,
   "metadata": {},
   "outputs": [],
   "source": [
    "print(boston_house_prices.DESCR)"
   ]
  },
  {
   "cell_type": "code",
   "execution_count": null,
   "metadata": {},
   "outputs": [],
   "source": [
    "data_frame=pd.DataFrame(boston_house_prices.data)\n",
    "data_frame.tail(10)"
   ]
  },
  {
   "cell_type": "code",
   "execution_count": null,
   "metadata": {},
   "outputs": [],
   "source": [
    "data_frame.columns=boston_house_prices.feature_names\n",
    "data_frame.tail()"
   ]
  },
  {
   "cell_type": "code",
   "execution_count": 32,
   "metadata": {},
   "outputs": [
    {
     "output_type": "execute_result",
     "data": {
      "text/plain": [
       "        CRIM   ZN  INDUS  CHAS    NOX     RM   AGE     DIS  RAD    TAX  \\\n",
       "501  0.06263  0.0  11.93   0.0  0.573  6.593  69.1  2.4786  1.0  273.0   \n",
       "502  0.04527  0.0  11.93   0.0  0.573  6.120  76.7  2.2875  1.0  273.0   \n",
       "503  0.06076  0.0  11.93   0.0  0.573  6.976  91.0  2.1675  1.0  273.0   \n",
       "504  0.10959  0.0  11.93   0.0  0.573  6.794  89.3  2.3889  1.0  273.0   \n",
       "505  0.04741  0.0  11.93   0.0  0.573  6.030  80.8  2.5050  1.0  273.0   \n",
       "\n",
       "     PTRATIO       B  LSTAT  Price  \n",
       "501     21.0  391.99   9.67   22.4  \n",
       "502     21.0  396.90   9.08   20.6  \n",
       "503     21.0  396.90   5.64   23.9  \n",
       "504     21.0  393.45   6.48   22.0  \n",
       "505     21.0  396.90   7.88   11.9  "
      ],
      "text/html": "<div>\n<style scoped>\n    .dataframe tbody tr th:only-of-type {\n        vertical-align: middle;\n    }\n\n    .dataframe tbody tr th {\n        vertical-align: top;\n    }\n\n    .dataframe thead th {\n        text-align: right;\n    }\n</style>\n<table border=\"1\" class=\"dataframe\">\n  <thead>\n    <tr style=\"text-align: right;\">\n      <th></th>\n      <th>CRIM</th>\n      <th>ZN</th>\n      <th>INDUS</th>\n      <th>CHAS</th>\n      <th>NOX</th>\n      <th>RM</th>\n      <th>AGE</th>\n      <th>DIS</th>\n      <th>RAD</th>\n      <th>TAX</th>\n      <th>PTRATIO</th>\n      <th>B</th>\n      <th>LSTAT</th>\n      <th>Price</th>\n    </tr>\n  </thead>\n  <tbody>\n    <tr>\n      <th>501</th>\n      <td>0.06263</td>\n      <td>0.0</td>\n      <td>11.93</td>\n      <td>0.0</td>\n      <td>0.573</td>\n      <td>6.593</td>\n      <td>69.1</td>\n      <td>2.4786</td>\n      <td>1.0</td>\n      <td>273.0</td>\n      <td>21.0</td>\n      <td>391.99</td>\n      <td>9.67</td>\n      <td>22.4</td>\n    </tr>\n    <tr>\n      <th>502</th>\n      <td>0.04527</td>\n      <td>0.0</td>\n      <td>11.93</td>\n      <td>0.0</td>\n      <td>0.573</td>\n      <td>6.120</td>\n      <td>76.7</td>\n      <td>2.2875</td>\n      <td>1.0</td>\n      <td>273.0</td>\n      <td>21.0</td>\n      <td>396.90</td>\n      <td>9.08</td>\n      <td>20.6</td>\n    </tr>\n    <tr>\n      <th>503</th>\n      <td>0.06076</td>\n      <td>0.0</td>\n      <td>11.93</td>\n      <td>0.0</td>\n      <td>0.573</td>\n      <td>6.976</td>\n      <td>91.0</td>\n      <td>2.1675</td>\n      <td>1.0</td>\n      <td>273.0</td>\n      <td>21.0</td>\n      <td>396.90</td>\n      <td>5.64</td>\n      <td>23.9</td>\n    </tr>\n    <tr>\n      <th>504</th>\n      <td>0.10959</td>\n      <td>0.0</td>\n      <td>11.93</td>\n      <td>0.0</td>\n      <td>0.573</td>\n      <td>6.794</td>\n      <td>89.3</td>\n      <td>2.3889</td>\n      <td>1.0</td>\n      <td>273.0</td>\n      <td>21.0</td>\n      <td>393.45</td>\n      <td>6.48</td>\n      <td>22.0</td>\n    </tr>\n    <tr>\n      <th>505</th>\n      <td>0.04741</td>\n      <td>0.0</td>\n      <td>11.93</td>\n      <td>0.0</td>\n      <td>0.573</td>\n      <td>6.030</td>\n      <td>80.8</td>\n      <td>2.5050</td>\n      <td>1.0</td>\n      <td>273.0</td>\n      <td>21.0</td>\n      <td>396.90</td>\n      <td>7.88</td>\n      <td>11.9</td>\n    </tr>\n  </tbody>\n</table>\n</div>"
     },
     "metadata": {},
     "execution_count": 32
    }
   ],
   "source": [
    "data_frame['Price']=boston_house_prices.target\n",
    "data_frame.tail()"
   ]
  },
  {
   "source": [
    "data_frame.plot(kind='scatter',x='RM',y='Price',figsize=(6,6),color='red',xlim=(4,8),ylim=(10,45))"
   ],
   "cell_type": "code",
   "metadata": {},
   "execution_count": 31,
   "outputs": [
    {
     "output_type": "execute_result",
     "data": {
      "text/plain": [
       "<AxesSubplot:xlabel='RM', ylabel='Price'>"
      ]
     },
     "metadata": {},
     "execution_count": 31
    },
    {
     "output_type": "display_data",
     "data": {
      "text/plain": "<Figure size 432x432 with 1 Axes>",
      "image/svg+xml": "<?xml version=\"1.0\" encoding=\"utf-8\" standalone=\"no\"?>\n<!DOCTYPE svg PUBLIC \"-//W3C//DTD SVG 1.1//EN\"\n  \"http://www.w3.org/Graphics/SVG/1.1/DTD/svg11.dtd\">\n<!-- Created with matplotlib (https://matplotlib.org/) -->\n<svg height=\"379.031016pt\" version=\"1.1\" viewBox=\"0 0 393.553437 379.031016\" width=\"393.553437pt\" xmlns=\"http://www.w3.org/2000/svg\" xmlns:xlink=\"http://www.w3.org/1999/xlink\">\n <metadata>\n  <rdf:RDF xmlns:cc=\"http://creativecommons.org/ns#\" xmlns:dc=\"http://purl.org/dc/elements/1.1/\" xmlns:rdf=\"http://www.w3.org/1999/02/22-rdf-syntax-ns#\">\n   <cc:Work>\n    <dc:type rdf:resource=\"http://purl.org/dc/dcmitype/StillImage\"/>\n    <dc:date>2020-12-01T18:34:40.777612</dc:date>\n    <dc:format>image/svg+xml</dc:format>\n    <dc:creator>\n     <cc:Agent>\n      <dc:title>Matplotlib v3.3.2, https://matplotlib.org/</dc:title>\n     </cc:Agent>\n    </dc:creator>\n   </cc:Work>\n  </rdf:RDF>\n </metadata>\n <defs>\n  <style type=\"text/css\">*{stroke-linecap:butt;stroke-linejoin:round;}</style>\n </defs>\n <g id=\"figure_1\">\n  <g id=\"patch_1\">\n   <path d=\"M 0 379.031016 \nL 393.553437 379.031016 \nL 393.553437 0 \nL 0 0 \nz\n\" style=\"fill:#ffffff;\"/>\n  </g>\n  <g id=\"axes_1\">\n   <g id=\"patch_2\">\n    <path d=\"M 43.908438 337.296797 \nL 378.708438 337.296797 \nL 378.708438 11.136797 \nL 43.908438 11.136797 \nz\n\" style=\"fill:#e5e5e5;\"/>\n   </g>\n   <g id=\"matplotlib.axis_1\">\n    <g id=\"xtick_1\">\n     <g id=\"line2d_1\">\n      <path clip-path=\"url(#pb5462ef6cf)\" d=\"M 43.908437 337.296797 \nL 43.908437 11.136797 \n\" style=\"fill:none;stroke:#ffffff;stroke-linecap:round;\"/>\n     </g>\n     <g id=\"text_1\">\n      <!-- 4.0 -->\n      <g style=\"fill:#555555;\" transform=\"translate(36.263437 354.670391)scale(0.11 -0.11)\">\n       <defs>\n        <path d=\"M 32.328125 0 \nL 32.328125 17.140625 \nL 1.265625 17.140625 \nL 1.265625 25.203125 \nL 33.9375 71.578125 \nL 41.109375 71.578125 \nL 41.109375 25.203125 \nL 50.78125 25.203125 \nL 50.78125 17.140625 \nL 41.109375 17.140625 \nL 41.109375 0 \nz\nM 32.328125 25.203125 \nL 32.328125 57.46875 \nL 9.90625 25.203125 \nz\n\" id=\"ArialMT-52\"/>\n        <path d=\"M 9.078125 0 \nL 9.078125 10.015625 \nL 19.09375 10.015625 \nL 19.09375 0 \nz\n\" id=\"ArialMT-46\"/>\n        <path d=\"M 4.15625 35.296875 \nQ 4.15625 48 6.765625 55.734375 \nQ 9.375 63.484375 14.515625 67.671875 \nQ 19.671875 71.875 27.484375 71.875 \nQ 33.25 71.875 37.59375 69.546875 \nQ 41.9375 67.234375 44.765625 62.859375 \nQ 47.609375 58.5 49.21875 52.21875 \nQ 50.828125 45.953125 50.828125 35.296875 \nQ 50.828125 22.703125 48.234375 14.96875 \nQ 45.65625 7.234375 40.5 3 \nQ 35.359375 -1.21875 27.484375 -1.21875 \nQ 17.140625 -1.21875 11.234375 6.203125 \nQ 4.15625 15.140625 4.15625 35.296875 \nz\nM 13.1875 35.296875 \nQ 13.1875 17.671875 17.3125 11.828125 \nQ 21.4375 6 27.484375 6 \nQ 33.546875 6 37.671875 11.859375 \nQ 41.796875 17.71875 41.796875 35.296875 \nQ 41.796875 52.984375 37.671875 58.78125 \nQ 33.546875 64.59375 27.390625 64.59375 \nQ 21.34375 64.59375 17.71875 59.46875 \nQ 13.1875 52.9375 13.1875 35.296875 \nz\n\" id=\"ArialMT-48\"/>\n       </defs>\n       <use xlink:href=\"#ArialMT-52\"/>\n       <use x=\"55.615234\" xlink:href=\"#ArialMT-46\"/>\n       <use x=\"83.398438\" xlink:href=\"#ArialMT-48\"/>\n      </g>\n     </g>\n    </g>\n    <g id=\"xtick_2\">\n     <g id=\"line2d_2\">\n      <path clip-path=\"url(#pb5462ef6cf)\" d=\"M 85.758438 337.296797 \nL 85.758438 11.136797 \n\" style=\"fill:none;stroke:#ffffff;stroke-linecap:round;\"/>\n     </g>\n     <g id=\"text_2\">\n      <!-- 4.5 -->\n      <g style=\"fill:#555555;\" transform=\"translate(78.113438 354.670391)scale(0.11 -0.11)\">\n       <defs>\n        <path d=\"M 4.15625 18.75 \nL 13.375 19.53125 \nQ 14.40625 12.796875 18.140625 9.390625 \nQ 21.875 6 27.15625 6 \nQ 33.5 6 37.890625 10.78125 \nQ 42.28125 15.578125 42.28125 23.484375 \nQ 42.28125 31 38.0625 35.34375 \nQ 33.84375 39.703125 27 39.703125 \nQ 22.75 39.703125 19.328125 37.765625 \nQ 15.921875 35.84375 13.96875 32.765625 \nL 5.71875 33.84375 \nL 12.640625 70.609375 \nL 48.25 70.609375 \nL 48.25 62.203125 \nL 19.671875 62.203125 \nL 15.828125 42.96875 \nQ 22.265625 47.46875 29.34375 47.46875 \nQ 38.71875 47.46875 45.15625 40.96875 \nQ 51.609375 34.46875 51.609375 24.265625 \nQ 51.609375 14.546875 45.953125 7.46875 \nQ 39.0625 -1.21875 27.15625 -1.21875 \nQ 17.390625 -1.21875 11.203125 4.25 \nQ 5.03125 9.71875 4.15625 18.75 \nz\n\" id=\"ArialMT-53\"/>\n       </defs>\n       <use xlink:href=\"#ArialMT-52\"/>\n       <use x=\"55.615234\" xlink:href=\"#ArialMT-46\"/>\n       <use x=\"83.398438\" xlink:href=\"#ArialMT-53\"/>\n      </g>\n     </g>\n    </g>\n    <g id=\"xtick_3\">\n     <g id=\"line2d_3\">\n      <path clip-path=\"url(#pb5462ef6cf)\" d=\"M 127.608437 337.296797 \nL 127.608437 11.136797 \n\" style=\"fill:none;stroke:#ffffff;stroke-linecap:round;\"/>\n     </g>\n     <g id=\"text_3\">\n      <!-- 5.0 -->\n      <g style=\"fill:#555555;\" transform=\"translate(119.963437 354.670391)scale(0.11 -0.11)\">\n       <use xlink:href=\"#ArialMT-53\"/>\n       <use x=\"55.615234\" xlink:href=\"#ArialMT-46\"/>\n       <use x=\"83.398438\" xlink:href=\"#ArialMT-48\"/>\n      </g>\n     </g>\n    </g>\n    <g id=\"xtick_4\">\n     <g id=\"line2d_4\">\n      <path clip-path=\"url(#pb5462ef6cf)\" d=\"M 169.458438 337.296797 \nL 169.458438 11.136797 \n\" style=\"fill:none;stroke:#ffffff;stroke-linecap:round;\"/>\n     </g>\n     <g id=\"text_4\">\n      <!-- 5.5 -->\n      <g style=\"fill:#555555;\" transform=\"translate(161.813437 354.670391)scale(0.11 -0.11)\">\n       <use xlink:href=\"#ArialMT-53\"/>\n       <use x=\"55.615234\" xlink:href=\"#ArialMT-46\"/>\n       <use x=\"83.398438\" xlink:href=\"#ArialMT-53\"/>\n      </g>\n     </g>\n    </g>\n    <g id=\"xtick_5\">\n     <g id=\"line2d_5\">\n      <path clip-path=\"url(#pb5462ef6cf)\" d=\"M 211.308438 337.296797 \nL 211.308438 11.136797 \n\" style=\"fill:none;stroke:#ffffff;stroke-linecap:round;\"/>\n     </g>\n     <g id=\"text_5\">\n      <!-- 6.0 -->\n      <g style=\"fill:#555555;\" transform=\"translate(203.663438 354.670391)scale(0.11 -0.11)\">\n       <defs>\n        <path d=\"M 49.75 54.046875 \nL 41.015625 53.375 \nQ 39.84375 58.546875 37.703125 60.890625 \nQ 34.125 64.65625 28.90625 64.65625 \nQ 24.703125 64.65625 21.53125 62.3125 \nQ 17.390625 59.28125 14.984375 53.46875 \nQ 12.59375 47.65625 12.5 36.921875 \nQ 15.671875 41.75 20.265625 44.09375 \nQ 24.859375 46.4375 29.890625 46.4375 \nQ 38.671875 46.4375 44.84375 39.96875 \nQ 51.03125 33.5 51.03125 23.25 \nQ 51.03125 16.5 48.125 10.71875 \nQ 45.21875 4.9375 40.140625 1.859375 \nQ 35.0625 -1.21875 28.609375 -1.21875 \nQ 17.625 -1.21875 10.6875 6.859375 \nQ 3.765625 14.9375 3.765625 33.5 \nQ 3.765625 54.25 11.421875 63.671875 \nQ 18.109375 71.875 29.4375 71.875 \nQ 37.890625 71.875 43.28125 67.140625 \nQ 48.6875 62.40625 49.75 54.046875 \nz\nM 13.875 23.1875 \nQ 13.875 18.65625 15.796875 14.5 \nQ 17.71875 10.359375 21.1875 8.171875 \nQ 24.65625 6 28.46875 6 \nQ 34.03125 6 38.03125 10.484375 \nQ 42.046875 14.984375 42.046875 22.703125 \nQ 42.046875 30.125 38.078125 34.390625 \nQ 34.125 38.671875 28.125 38.671875 \nQ 22.171875 38.671875 18.015625 34.390625 \nQ 13.875 30.125 13.875 23.1875 \nz\n\" id=\"ArialMT-54\"/>\n       </defs>\n       <use xlink:href=\"#ArialMT-54\"/>\n       <use x=\"55.615234\" xlink:href=\"#ArialMT-46\"/>\n       <use x=\"83.398438\" xlink:href=\"#ArialMT-48\"/>\n      </g>\n     </g>\n    </g>\n    <g id=\"xtick_6\">\n     <g id=\"line2d_6\">\n      <path clip-path=\"url(#pb5462ef6cf)\" d=\"M 253.158438 337.296797 \nL 253.158438 11.136797 \n\" style=\"fill:none;stroke:#ffffff;stroke-linecap:round;\"/>\n     </g>\n     <g id=\"text_6\">\n      <!-- 6.5 -->\n      <g style=\"fill:#555555;\" transform=\"translate(245.513438 354.670391)scale(0.11 -0.11)\">\n       <use xlink:href=\"#ArialMT-54\"/>\n       <use x=\"55.615234\" xlink:href=\"#ArialMT-46\"/>\n       <use x=\"83.398438\" xlink:href=\"#ArialMT-53\"/>\n      </g>\n     </g>\n    </g>\n    <g id=\"xtick_7\">\n     <g id=\"line2d_7\">\n      <path clip-path=\"url(#pb5462ef6cf)\" d=\"M 295.008437 337.296797 \nL 295.008437 11.136797 \n\" style=\"fill:none;stroke:#ffffff;stroke-linecap:round;\"/>\n     </g>\n     <g id=\"text_7\">\n      <!-- 7.0 -->\n      <g style=\"fill:#555555;\" transform=\"translate(287.363437 354.670391)scale(0.11 -0.11)\">\n       <defs>\n        <path d=\"M 4.734375 62.203125 \nL 4.734375 70.65625 \nL 51.078125 70.65625 \nL 51.078125 63.8125 \nQ 44.234375 56.546875 37.515625 44.484375 \nQ 30.8125 32.421875 27.15625 19.671875 \nQ 24.515625 10.6875 23.78125 0 \nL 14.75 0 \nQ 14.890625 8.453125 18.0625 20.40625 \nQ 21.234375 32.375 27.171875 43.484375 \nQ 33.109375 54.59375 39.796875 62.203125 \nz\n\" id=\"ArialMT-55\"/>\n       </defs>\n       <use xlink:href=\"#ArialMT-55\"/>\n       <use x=\"55.615234\" xlink:href=\"#ArialMT-46\"/>\n       <use x=\"83.398438\" xlink:href=\"#ArialMT-48\"/>\n      </g>\n     </g>\n    </g>\n    <g id=\"xtick_8\">\n     <g id=\"line2d_8\">\n      <path clip-path=\"url(#pb5462ef6cf)\" d=\"M 336.858437 337.296797 \nL 336.858437 11.136797 \n\" style=\"fill:none;stroke:#ffffff;stroke-linecap:round;\"/>\n     </g>\n     <g id=\"text_8\">\n      <!-- 7.5 -->\n      <g style=\"fill:#555555;\" transform=\"translate(329.213437 354.670391)scale(0.11 -0.11)\">\n       <use xlink:href=\"#ArialMT-55\"/>\n       <use x=\"55.615234\" xlink:href=\"#ArialMT-46\"/>\n       <use x=\"83.398438\" xlink:href=\"#ArialMT-53\"/>\n      </g>\n     </g>\n    </g>\n    <g id=\"xtick_9\">\n     <g id=\"line2d_9\">\n      <path clip-path=\"url(#pb5462ef6cf)\" d=\"M 378.708438 337.296797 \nL 378.708438 11.136797 \n\" style=\"fill:none;stroke:#ffffff;stroke-linecap:round;\"/>\n     </g>\n     <g id=\"text_9\">\n      <!-- 8.0 -->\n      <g style=\"fill:#555555;\" transform=\"translate(371.063438 354.670391)scale(0.11 -0.11)\">\n       <defs>\n        <path d=\"M 17.671875 38.8125 \nQ 12.203125 40.828125 9.5625 44.53125 \nQ 6.9375 48.25 6.9375 53.421875 \nQ 6.9375 61.234375 12.546875 66.546875 \nQ 18.171875 71.875 27.484375 71.875 \nQ 36.859375 71.875 42.578125 66.421875 \nQ 48.296875 60.984375 48.296875 53.171875 \nQ 48.296875 48.1875 45.671875 44.5 \nQ 43.0625 40.828125 37.75 38.8125 \nQ 44.34375 36.671875 47.78125 31.875 \nQ 51.21875 27.09375 51.21875 20.453125 \nQ 51.21875 11.28125 44.71875 5.03125 \nQ 38.234375 -1.21875 27.640625 -1.21875 \nQ 17.046875 -1.21875 10.546875 5.046875 \nQ 4.046875 11.328125 4.046875 20.703125 \nQ 4.046875 27.6875 7.59375 32.390625 \nQ 11.140625 37.109375 17.671875 38.8125 \nz\nM 15.921875 53.71875 \nQ 15.921875 48.640625 19.1875 45.40625 \nQ 22.46875 42.1875 27.6875 42.1875 \nQ 32.765625 42.1875 36.015625 45.375 \nQ 39.265625 48.578125 39.265625 53.21875 \nQ 39.265625 58.0625 35.90625 61.359375 \nQ 32.5625 64.65625 27.59375 64.65625 \nQ 22.5625 64.65625 19.234375 61.421875 \nQ 15.921875 58.203125 15.921875 53.71875 \nz\nM 13.09375 20.65625 \nQ 13.09375 16.890625 14.875 13.375 \nQ 16.65625 9.859375 20.171875 7.921875 \nQ 23.6875 6 27.734375 6 \nQ 34.03125 6 38.125 10.046875 \nQ 42.234375 14.109375 42.234375 20.359375 \nQ 42.234375 26.703125 38.015625 30.859375 \nQ 33.796875 35.015625 27.4375 35.015625 \nQ 21.234375 35.015625 17.15625 30.90625 \nQ 13.09375 26.8125 13.09375 20.65625 \nz\n\" id=\"ArialMT-56\"/>\n       </defs>\n       <use xlink:href=\"#ArialMT-56\"/>\n       <use x=\"55.615234\" xlink:href=\"#ArialMT-46\"/>\n       <use x=\"83.398438\" xlink:href=\"#ArialMT-48\"/>\n      </g>\n     </g>\n    </g>\n    <g id=\"text_10\">\n     <!-- RM -->\n     <g style=\"fill:#555555;\" transform=\"translate(201.9775 369.446016)scale(0.12 -0.12)\">\n      <defs>\n       <path d=\"M 7.859375 0 \nL 7.859375 71.578125 \nL 39.59375 71.578125 \nQ 49.171875 71.578125 54.140625 69.640625 \nQ 59.125 67.71875 62.109375 62.828125 \nQ 65.09375 57.953125 65.09375 52.046875 \nQ 65.09375 44.4375 60.15625 39.203125 \nQ 55.21875 33.984375 44.921875 32.5625 \nQ 48.6875 30.765625 50.640625 29 \nQ 54.78125 25.203125 58.5 19.484375 \nL 70.953125 0 \nL 59.03125 0 \nL 49.5625 14.890625 \nQ 45.40625 21.34375 42.71875 24.75 \nQ 40.046875 28.171875 37.921875 29.53125 \nQ 35.796875 30.90625 33.59375 31.453125 \nQ 31.984375 31.78125 28.328125 31.78125 \nL 17.328125 31.78125 \nL 17.328125 0 \nz\nM 17.328125 39.984375 \nL 37.703125 39.984375 \nQ 44.1875 39.984375 47.84375 41.328125 \nQ 51.515625 42.671875 53.421875 45.625 \nQ 55.328125 48.578125 55.328125 52.046875 \nQ 55.328125 57.125 51.640625 60.390625 \nQ 47.953125 63.671875 39.984375 63.671875 \nL 17.328125 63.671875 \nz\n\" id=\"ArialMT-82\"/>\n       <path d=\"M 7.421875 0 \nL 7.421875 71.578125 \nL 21.6875 71.578125 \nL 38.625 20.90625 \nQ 40.96875 13.8125 42.046875 10.296875 \nQ 43.265625 14.203125 45.84375 21.78125 \nL 62.984375 71.578125 \nL 75.734375 71.578125 \nL 75.734375 0 \nL 66.609375 0 \nL 66.609375 59.90625 \nL 45.796875 0 \nL 37.25 0 \nL 16.546875 60.9375 \nL 16.546875 0 \nz\n\" id=\"ArialMT-77\"/>\n      </defs>\n      <use xlink:href=\"#ArialMT-82\"/>\n      <use x=\"72.216797\" xlink:href=\"#ArialMT-77\"/>\n     </g>\n    </g>\n   </g>\n   <g id=\"matplotlib.axis_2\">\n    <g id=\"ytick_1\">\n     <g id=\"line2d_10\">\n      <path clip-path=\"url(#pb5462ef6cf)\" d=\"M 43.908438 337.296797 \nL 378.708438 337.296797 \n\" style=\"fill:none;stroke:#ffffff;stroke-linecap:round;\"/>\n     </g>\n     <g id=\"text_11\">\n      <!-- 10 -->\n      <g style=\"fill:#555555;\" transform=\"translate(22.174375 341.233594)scale(0.11 -0.11)\">\n       <defs>\n        <path d=\"M 37.25 0 \nL 28.46875 0 \nL 28.46875 56 \nQ 25.296875 52.984375 20.140625 49.953125 \nQ 14.984375 46.921875 10.890625 45.40625 \nL 10.890625 53.90625 \nQ 18.265625 57.375 23.78125 62.296875 \nQ 29.296875 67.234375 31.59375 71.875 \nL 37.25 71.875 \nz\n\" id=\"ArialMT-49\"/>\n       </defs>\n       <use xlink:href=\"#ArialMT-49\"/>\n       <use x=\"55.615234\" xlink:href=\"#ArialMT-48\"/>\n      </g>\n     </g>\n    </g>\n    <g id=\"ytick_2\">\n     <g id=\"line2d_11\">\n      <path clip-path=\"url(#pb5462ef6cf)\" d=\"M 43.908438 290.702511 \nL 378.708438 290.702511 \n\" style=\"fill:none;stroke:#ffffff;stroke-linecap:round;\"/>\n     </g>\n     <g id=\"text_12\">\n      <!-- 15 -->\n      <g style=\"fill:#555555;\" transform=\"translate(22.174375 294.639308)scale(0.11 -0.11)\">\n       <use xlink:href=\"#ArialMT-49\"/>\n       <use x=\"55.615234\" xlink:href=\"#ArialMT-53\"/>\n      </g>\n     </g>\n    </g>\n    <g id=\"ytick_3\">\n     <g id=\"line2d_12\">\n      <path clip-path=\"url(#pb5462ef6cf)\" d=\"M 43.908438 244.108225 \nL 378.708438 244.108225 \n\" style=\"fill:none;stroke:#ffffff;stroke-linecap:round;\"/>\n     </g>\n     <g id=\"text_13\">\n      <!-- 20 -->\n      <g style=\"fill:#555555;\" transform=\"translate(22.174375 248.045022)scale(0.11 -0.11)\">\n       <defs>\n        <path d=\"M 50.34375 8.453125 \nL 50.34375 0 \nL 3.03125 0 \nQ 2.9375 3.171875 4.046875 6.109375 \nQ 5.859375 10.9375 9.828125 15.625 \nQ 13.8125 20.3125 21.34375 26.46875 \nQ 33.015625 36.03125 37.109375 41.625 \nQ 41.21875 47.21875 41.21875 52.203125 \nQ 41.21875 57.421875 37.46875 61 \nQ 33.734375 64.59375 27.734375 64.59375 \nQ 21.390625 64.59375 17.578125 60.78125 \nQ 13.765625 56.984375 13.71875 50.25 \nL 4.6875 51.171875 \nQ 5.609375 61.28125 11.65625 66.578125 \nQ 17.71875 71.875 27.9375 71.875 \nQ 38.234375 71.875 44.234375 66.15625 \nQ 50.25 60.453125 50.25 52 \nQ 50.25 47.703125 48.484375 43.546875 \nQ 46.734375 39.40625 42.65625 34.8125 \nQ 38.578125 30.21875 29.109375 22.21875 \nQ 21.1875 15.578125 18.9375 13.203125 \nQ 16.703125 10.84375 15.234375 8.453125 \nz\n\" id=\"ArialMT-50\"/>\n       </defs>\n       <use xlink:href=\"#ArialMT-50\"/>\n       <use x=\"55.615234\" xlink:href=\"#ArialMT-48\"/>\n      </g>\n     </g>\n    </g>\n    <g id=\"ytick_4\">\n     <g id=\"line2d_13\">\n      <path clip-path=\"url(#pb5462ef6cf)\" d=\"M 43.908438 197.51394 \nL 378.708438 197.51394 \n\" style=\"fill:none;stroke:#ffffff;stroke-linecap:round;\"/>\n     </g>\n     <g id=\"text_14\">\n      <!-- 25 -->\n      <g style=\"fill:#555555;\" transform=\"translate(22.174375 201.450737)scale(0.11 -0.11)\">\n       <use xlink:href=\"#ArialMT-50\"/>\n       <use x=\"55.615234\" xlink:href=\"#ArialMT-53\"/>\n      </g>\n     </g>\n    </g>\n    <g id=\"ytick_5\">\n     <g id=\"line2d_14\">\n      <path clip-path=\"url(#pb5462ef6cf)\" d=\"M 43.908438 150.919654 \nL 378.708438 150.919654 \n\" style=\"fill:none;stroke:#ffffff;stroke-linecap:round;\"/>\n     </g>\n     <g id=\"text_15\">\n      <!-- 30 -->\n      <g style=\"fill:#555555;\" transform=\"translate(22.174375 154.856451)scale(0.11 -0.11)\">\n       <defs>\n        <path d=\"M 4.203125 18.890625 \nL 12.984375 20.0625 \nQ 14.5 12.59375 18.140625 9.296875 \nQ 21.78125 6 27 6 \nQ 33.203125 6 37.46875 10.296875 \nQ 41.75 14.59375 41.75 20.953125 \nQ 41.75 27 37.796875 30.921875 \nQ 33.84375 34.859375 27.734375 34.859375 \nQ 25.25 34.859375 21.53125 33.890625 \nL 22.515625 41.609375 \nQ 23.390625 41.5 23.921875 41.5 \nQ 29.546875 41.5 34.03125 44.421875 \nQ 38.53125 47.359375 38.53125 53.46875 \nQ 38.53125 58.296875 35.25 61.46875 \nQ 31.984375 64.65625 26.8125 64.65625 \nQ 21.6875 64.65625 18.265625 61.421875 \nQ 14.84375 58.203125 13.875 51.765625 \nL 5.078125 53.328125 \nQ 6.6875 62.15625 12.390625 67.015625 \nQ 18.109375 71.875 26.609375 71.875 \nQ 32.46875 71.875 37.390625 69.359375 \nQ 42.328125 66.84375 44.9375 62.5 \nQ 47.5625 58.15625 47.5625 53.265625 \nQ 47.5625 48.640625 45.0625 44.828125 \nQ 42.578125 41.015625 37.703125 38.765625 \nQ 44.046875 37.3125 47.5625 32.6875 \nQ 51.078125 28.078125 51.078125 21.140625 \nQ 51.078125 11.765625 44.234375 5.25 \nQ 37.40625 -1.265625 26.953125 -1.265625 \nQ 17.53125 -1.265625 11.296875 4.34375 \nQ 5.078125 9.96875 4.203125 18.890625 \nz\n\" id=\"ArialMT-51\"/>\n       </defs>\n       <use xlink:href=\"#ArialMT-51\"/>\n       <use x=\"55.615234\" xlink:href=\"#ArialMT-48\"/>\n      </g>\n     </g>\n    </g>\n    <g id=\"ytick_6\">\n     <g id=\"line2d_15\">\n      <path clip-path=\"url(#pb5462ef6cf)\" d=\"M 43.908438 104.325368 \nL 378.708438 104.325368 \n\" style=\"fill:none;stroke:#ffffff;stroke-linecap:round;\"/>\n     </g>\n     <g id=\"text_16\">\n      <!-- 35 -->\n      <g style=\"fill:#555555;\" transform=\"translate(22.174375 108.262165)scale(0.11 -0.11)\">\n       <use xlink:href=\"#ArialMT-51\"/>\n       <use x=\"55.615234\" xlink:href=\"#ArialMT-53\"/>\n      </g>\n     </g>\n    </g>\n    <g id=\"ytick_7\">\n     <g id=\"line2d_16\">\n      <path clip-path=\"url(#pb5462ef6cf)\" d=\"M 43.908438 57.731083 \nL 378.708438 57.731083 \n\" style=\"fill:none;stroke:#ffffff;stroke-linecap:round;\"/>\n     </g>\n     <g id=\"text_17\">\n      <!-- 40 -->\n      <g style=\"fill:#555555;\" transform=\"translate(22.174375 61.667879)scale(0.11 -0.11)\">\n       <use xlink:href=\"#ArialMT-52\"/>\n       <use x=\"55.615234\" xlink:href=\"#ArialMT-48\"/>\n      </g>\n     </g>\n    </g>\n    <g id=\"ytick_8\">\n     <g id=\"line2d_17\">\n      <path clip-path=\"url(#pb5462ef6cf)\" d=\"M 43.908438 11.136797 \nL 378.708438 11.136797 \n\" style=\"fill:none;stroke:#ffffff;stroke-linecap:round;\"/>\n     </g>\n     <g id=\"text_18\">\n      <!-- 45 -->\n      <g style=\"fill:#555555;\" transform=\"translate(22.174375 15.073594)scale(0.11 -0.11)\">\n       <use xlink:href=\"#ArialMT-52\"/>\n       <use x=\"55.615234\" xlink:href=\"#ArialMT-53\"/>\n      </g>\n     </g>\n    </g>\n    <g id=\"text_19\">\n     <!-- Price -->\n     <g style=\"fill:#555555;\" transform=\"translate(15.789375 187.886484)rotate(-90)scale(0.12 -0.12)\">\n      <defs>\n       <path d=\"M 7.71875 0 \nL 7.71875 71.578125 \nL 34.71875 71.578125 \nQ 41.84375 71.578125 45.609375 70.90625 \nQ 50.875 70.015625 54.4375 67.546875 \nQ 58.015625 65.09375 60.1875 60.640625 \nQ 62.359375 56.203125 62.359375 50.875 \nQ 62.359375 41.75 56.546875 35.421875 \nQ 50.734375 29.109375 35.546875 29.109375 \nL 17.1875 29.109375 \nL 17.1875 0 \nz\nM 17.1875 37.546875 \nL 35.6875 37.546875 \nQ 44.875 37.546875 48.734375 40.96875 \nQ 52.59375 44.390625 52.59375 50.59375 \nQ 52.59375 55.078125 50.3125 58.265625 \nQ 48.046875 61.46875 44.34375 62.5 \nQ 41.9375 63.140625 35.5 63.140625 \nL 17.1875 63.140625 \nz\n\" id=\"ArialMT-80\"/>\n       <path d=\"M 6.5 0 \nL 6.5 51.859375 \nL 14.40625 51.859375 \nL 14.40625 44 \nQ 17.4375 49.515625 20 51.265625 \nQ 22.5625 53.03125 25.640625 53.03125 \nQ 30.078125 53.03125 34.671875 50.203125 \nL 31.640625 42.046875 \nQ 28.421875 43.953125 25.203125 43.953125 \nQ 22.3125 43.953125 20.015625 42.21875 \nQ 17.71875 40.484375 16.75 37.40625 \nQ 15.28125 32.71875 15.28125 27.15625 \nL 15.28125 0 \nz\n\" id=\"ArialMT-114\"/>\n       <path d=\"M 6.640625 61.46875 \nL 6.640625 71.578125 \nL 15.4375 71.578125 \nL 15.4375 61.46875 \nz\nM 6.640625 0 \nL 6.640625 51.859375 \nL 15.4375 51.859375 \nL 15.4375 0 \nz\n\" id=\"ArialMT-105\"/>\n       <path d=\"M 40.4375 19 \nL 49.078125 17.875 \nQ 47.65625 8.9375 41.8125 3.875 \nQ 35.984375 -1.171875 27.484375 -1.171875 \nQ 16.84375 -1.171875 10.375 5.78125 \nQ 3.90625 12.75 3.90625 25.734375 \nQ 3.90625 34.125 6.6875 40.421875 \nQ 9.46875 46.734375 15.15625 49.875 \nQ 20.84375 53.03125 27.546875 53.03125 \nQ 35.984375 53.03125 41.359375 48.75 \nQ 46.734375 44.484375 48.25 36.625 \nL 39.703125 35.296875 \nQ 38.484375 40.53125 35.375 43.15625 \nQ 32.28125 45.796875 27.875 45.796875 \nQ 21.234375 45.796875 17.078125 41.03125 \nQ 12.9375 36.28125 12.9375 25.984375 \nQ 12.9375 15.53125 16.9375 10.796875 \nQ 20.953125 6.0625 27.390625 6.0625 \nQ 32.5625 6.0625 36.03125 9.234375 \nQ 39.5 12.40625 40.4375 19 \nz\n\" id=\"ArialMT-99\"/>\n       <path d=\"M 42.09375 16.703125 \nL 51.171875 15.578125 \nQ 49.03125 7.625 43.21875 3.21875 \nQ 37.40625 -1.171875 28.375 -1.171875 \nQ 17 -1.171875 10.328125 5.828125 \nQ 3.65625 12.84375 3.65625 25.484375 \nQ 3.65625 38.578125 10.390625 45.796875 \nQ 17.140625 53.03125 27.875 53.03125 \nQ 38.28125 53.03125 44.875 45.953125 \nQ 51.46875 38.875 51.46875 26.03125 \nQ 51.46875 25.25 51.421875 23.6875 \nL 12.75 23.6875 \nQ 13.234375 15.140625 17.578125 10.59375 \nQ 21.921875 6.0625 28.421875 6.0625 \nQ 33.25 6.0625 36.671875 8.59375 \nQ 40.09375 11.140625 42.09375 16.703125 \nz\nM 13.234375 30.90625 \nL 42.1875 30.90625 \nQ 41.609375 37.453125 38.875 40.71875 \nQ 34.671875 45.796875 27.984375 45.796875 \nQ 21.921875 45.796875 17.796875 41.75 \nQ 13.671875 37.703125 13.234375 30.90625 \nz\n\" id=\"ArialMT-101\"/>\n      </defs>\n      <use xlink:href=\"#ArialMT-80\"/>\n      <use x=\"66.699219\" xlink:href=\"#ArialMT-114\"/>\n      <use x=\"100\" xlink:href=\"#ArialMT-105\"/>\n      <use x=\"122.216797\" xlink:href=\"#ArialMT-99\"/>\n      <use x=\"172.216797\" xlink:href=\"#ArialMT-101\"/>\n     </g>\n    </g>\n   </g>\n   <g id=\"PathCollection_1\">\n    <defs>\n     <path d=\"M 0 2.236068 \nC 0.593012 2.236068 1.161816 2.000462 1.581139 1.581139 \nC 2.000462 1.161816 2.236068 0.593012 2.236068 0 \nC 2.236068 -0.593012 2.000462 -1.161816 1.581139 -1.581139 \nC 1.161816 -2.000462 0.593012 -2.236068 0 -2.236068 \nC -0.593012 -2.236068 -1.161816 -2.000462 -1.581139 -1.581139 \nC -2.000462 -1.161816 -2.236068 -0.593012 -2.236068 0 \nC -2.236068 0.593012 -2.000462 1.161816 -1.581139 1.581139 \nC -1.161816 2.000462 -0.593012 2.236068 0 2.236068 \nz\n\" id=\"mb6c9780fc6\" style=\"stroke:#ff0000;stroke-width:0.5;\"/>\n    </defs>\n    <g clip-path=\"url(#pb5462ef6cf)\">\n     <use style=\"fill:#ff0000;stroke:#ff0000;stroke-width:0.5;\" x=\"259.435937\" xlink:href=\"#mb6c9780fc6\" y=\"206.832797\"/>\n     <use style=\"fill:#ff0000;stroke:#ff0000;stroke-width:0.5;\" x=\"246.546138\" xlink:href=\"#mb6c9780fc6\" y=\"229.198054\"/>\n     <use style=\"fill:#ff0000;stroke:#ff0000;stroke-width:0.5;\" x=\"310.492937\" xlink:href=\"#mb6c9780fc6\" y=\"107.121025\"/>\n     <use style=\"fill:#ff0000;stroke:#ff0000;stroke-width:0.5;\" x=\"294.841038\" xlink:href=\"#mb6c9780fc6\" y=\"119.23554\"/>\n     <use style=\"fill:#ff0000;stroke:#ff0000;stroke-width:0.5;\" x=\"307.312338\" xlink:href=\"#mb6c9780fc6\" y=\"93.14274\"/>\n     <use style=\"fill:#ff0000;stroke:#ff0000;stroke-width:0.5;\" x=\"247.299438\" xlink:href=\"#mb6c9780fc6\" y=\"163.034168\"/>\n     <use style=\"fill:#ff0000;stroke:#ff0000;stroke-width:0.5;\" x=\"212.312837\" xlink:href=\"#mb6c9780fc6\" y=\"217.08354\"/>\n     <use style=\"fill:#ff0000;stroke:#ff0000;stroke-width:0.5;\" x=\"225.704837\" xlink:href=\"#mb6c9780fc6\" y=\"177.94434\"/>\n     <use style=\"fill:#ff0000;stroke:#ff0000;stroke-width:0.5;\" x=\"180.423137\" xlink:href=\"#mb6c9780fc6\" y=\"276.724225\"/>\n     <use style=\"fill:#ff0000;stroke:#ff0000;stroke-width:0.5;\" x=\"211.643237\" xlink:href=\"#mb6c9780fc6\" y=\"254.358968\"/>\n     <use style=\"fill:#ff0000;stroke:#ff0000;stroke-width:0.5;\" x=\"242.863338\" xlink:href=\"#mb6c9780fc6\" y=\"290.702511\"/>\n     <use style=\"fill:#ff0000;stroke:#ff0000;stroke-width:0.5;\" x=\"212.061738\" xlink:href=\"#mb6c9780fc6\" y=\"254.358968\"/>\n     <use style=\"fill:#ff0000;stroke:#ff0000;stroke-width:0.5;\" x=\"202.017738\" xlink:href=\"#mb6c9780fc6\" y=\"228.266168\"/>\n     <use style=\"fill:#ff0000;stroke:#ff0000;stroke-width:0.5;\" x=\"207.039738\" xlink:href=\"#mb6c9780fc6\" y=\"240.380683\"/>\n     <use style=\"fill:#ff0000;stroke:#ff0000;stroke-width:0.5;\" x=\"219.343637\" xlink:href=\"#mb6c9780fc6\" y=\"260.882168\"/>\n     <use style=\"fill:#ff0000;stroke:#ff0000;stroke-width:0.5;\" x=\"197.414237\" xlink:href=\"#mb6c9780fc6\" y=\"245.040111\"/>\n     <use style=\"fill:#ff0000;stroke:#ff0000;stroke-width:0.5;\" x=\"205.867937\" xlink:href=\"#mb6c9780fc6\" y=\"215.219768\"/>\n     <use style=\"fill:#ff0000;stroke:#ff0000;stroke-width:0.5;\" x=\"210.471438\" xlink:href=\"#mb6c9780fc6\" y=\"267.405368\"/>\n     <use style=\"fill:#ff0000;stroke:#ff0000;stroke-width:0.5;\" x=\"165.775638\" xlink:href=\"#mb6c9780fc6\" y=\"242.244454\"/>\n     <use style=\"fill:#ff0000;stroke:#ff0000;stroke-width:0.5;\" x=\"188.458338\" xlink:href=\"#mb6c9780fc6\" y=\"260.882168\"/>\n     <use style=\"fill:#ff0000;stroke:#ff0000;stroke-width:0.5;\" x=\"175.317438\" xlink:href=\"#mb6c9780fc6\" y=\"303.748911\"/>\n     <use style=\"fill:#ff0000;stroke:#ff0000;stroke-width:0.5;\" x=\"208.378938\" xlink:href=\"#mb6c9780fc6\" y=\"247.835768\"/>\n     <use style=\"fill:#ff0000;stroke:#ff0000;stroke-width:0.5;\" x=\"223.193838\" xlink:href=\"#mb6c9780fc6\" y=\"288.83874\"/>\n     <use style=\"fill:#ff0000;stroke:#ff0000;stroke-width:0.5;\" x=\"195.656537\" xlink:href=\"#mb6c9780fc6\" y=\"295.36194\"/>\n     <use style=\"fill:#ff0000;stroke:#ff0000;stroke-width:0.5;\" x=\"204.947238\" xlink:href=\"#mb6c9780fc6\" y=\"285.111197\"/>\n     <use style=\"fill:#ff0000;stroke:#ff0000;stroke-width:0.5;\" x=\"177.744737\" xlink:href=\"#mb6c9780fc6\" y=\"300.953254\"/>\n     <use style=\"fill:#ff0000;stroke:#ff0000;stroke-width:0.5;\" x=\"195.656537\" xlink:href=\"#mb6c9780fc6\" y=\"275.79234\"/>\n     <use style=\"fill:#ff0000;stroke:#ff0000;stroke-width:0.5;\" x=\"215.242337\" xlink:href=\"#mb6c9780fc6\" y=\"292.566283\"/>\n     <use style=\"fill:#ff0000;stroke:#ff0000;stroke-width:0.5;\" x=\"252.739938\" xlink:href=\"#mb6c9780fc6\" y=\"259.018397\"/>\n     <use style=\"fill:#ff0000;stroke:#ff0000;stroke-width:0.5;\" x=\"267.722238\" xlink:href=\"#mb6c9780fc6\" y=\"234.789368\"/>\n     <use style=\"fill:#ff0000;stroke:#ff0000;stroke-width:0.5;\" x=\"187.286538\" xlink:href=\"#mb6c9780fc6\" y=\"312.135883\"/>\n     <use style=\"fill:#ff0000;stroke:#ff0000;stroke-width:0.5;\" x=\"217.334837\" xlink:href=\"#mb6c9780fc6\" y=\"295.36194\"/>\n     <use style=\"fill:#ff0000;stroke:#ff0000;stroke-width:0.5;\" x=\"207.123438\" xlink:href=\"#mb6c9780fc6\" y=\"307.476454\"/>\n     <use style=\"fill:#ff0000;stroke:#ff0000;stroke-width:0.5;\" x=\"186.282137\" xlink:href=\"#mb6c9780fc6\" y=\"308.40834\"/>\n     <use style=\"fill:#ff0000;stroke:#ff0000;stroke-width:0.5;\" x=\"219.343637\" xlink:href=\"#mb6c9780fc6\" y=\"304.680797\"/>\n     <use style=\"fill:#ff0000;stroke:#ff0000;stroke-width:0.5;\" x=\"205.700537\" xlink:href=\"#mb6c9780fc6\" y=\"254.358968\"/>\n     <use style=\"fill:#ff0000;stroke:#ff0000;stroke-width:0.5;\" x=\"198.000137\" xlink:href=\"#mb6c9780fc6\" y=\"244.108225\"/>\n     <use style=\"fill:#ff0000;stroke:#ff0000;stroke-width:0.5;\" x=\"198.753437\" xlink:href=\"#mb6c9780fc6\" y=\"234.789368\"/>\n     <use style=\"fill:#ff0000;stroke:#ff0000;stroke-width:0.5;\" x=\"208.462638\" xlink:href=\"#mb6c9780fc6\" y=\"200.309597\"/>\n     <use style=\"fill:#ff0000;stroke:#ff0000;stroke-width:0.5;\" x=\"261.109937\" xlink:href=\"#mb6c9780fc6\" y=\"143.464568\"/>\n     <use style=\"fill:#ff0000;stroke:#ff0000;stroke-width:0.5;\" x=\"297.017238\" xlink:href=\"#mb6c9780fc6\" y=\"105.257254\"/>\n     <use style=\"fill:#ff0000;stroke:#ff0000;stroke-width:0.5;\" x=\"275.757437\" xlink:href=\"#mb6c9780fc6\" y=\"182.603768\"/>\n     <use style=\"fill:#ff0000;stroke:#ff0000;stroke-width:0.5;\" x=\"225.453737\" xlink:href=\"#mb6c9780fc6\" y=\"194.718283\"/>\n     <use style=\"fill:#ff0000;stroke:#ff0000;stroke-width:0.5;\" x=\"228.969138\" xlink:href=\"#mb6c9780fc6\" y=\"200.309597\"/>\n     <use style=\"fill:#ff0000;stroke:#ff0000;stroke-width:0.5;\" x=\"217.083737\" xlink:href=\"#mb6c9780fc6\" y=\"232.925597\"/>\n     <use style=\"fill:#ff0000;stroke:#ff0000;stroke-width:0.5;\" x=\"184.691838\" xlink:href=\"#mb6c9780fc6\" y=\"250.631425\"/>\n     <use style=\"fill:#ff0000;stroke:#ff0000;stroke-width:0.5;\" x=\"193.396637\" xlink:href=\"#mb6c9780fc6\" y=\"244.108225\"/>\n     <use style=\"fill:#ff0000;stroke:#ff0000;stroke-width:0.5;\" x=\"213.819437\" xlink:href=\"#mb6c9780fc6\" y=\"275.79234\"/>\n     <use style=\"fill:#ff0000;stroke:#ff0000;stroke-width:0.5;\" x=\"161.004737\" xlink:href=\"#mb6c9780fc6\" y=\"296.293825\"/>\n     <use style=\"fill:#ff0000;stroke:#ff0000;stroke-width:0.5;\" x=\"177.995837\" xlink:href=\"#mb6c9780fc6\" y=\"249.69954\"/>\n     <use style=\"fill:#ff0000;stroke:#ff0000;stroke-width:0.5;\" x=\"208.211538\" xlink:href=\"#mb6c9780fc6\" y=\"246.903883\"/>\n     <use style=\"fill:#ff0000;stroke:#ff0000;stroke-width:0.5;\" x=\"220.933938\" xlink:href=\"#mb6c9780fc6\" y=\"239.448797\"/>\n     <use style=\"fill:#ff0000;stroke:#ff0000;stroke-width:0.5;\" x=\"254.079138\" xlink:href=\"#mb6c9780fc6\" y=\"197.51394\"/>\n     <use style=\"fill:#ff0000;stroke:#ff0000;stroke-width:0.5;\" x=\"211.141038\" xlink:href=\"#mb6c9780fc6\" y=\"212.424111\"/>\n     <use style=\"fill:#ff0000;stroke:#ff0000;stroke-width:0.5;\" x=\"201.934037\" xlink:href=\"#mb6c9780fc6\" y=\"254.358968\"/>\n     <use style=\"fill:#ff0000;stroke:#ff0000;stroke-width:0.5;\" x=\"315.849738\" xlink:href=\"#mb6c9780fc6\" y=\"100.597825\"/>\n     <use style=\"fill:#ff0000;stroke:#ff0000;stroke-width:0.5;\" x=\"243.365538\" xlink:href=\"#mb6c9780fc6\" y=\"200.309597\"/>\n     <use style=\"fill:#ff0000;stroke:#ff0000;stroke-width:0.5;\" x=\"279.607637\" xlink:href=\"#mb6c9780fc6\" y=\"136.009483\"/>\n     <use style=\"fill:#ff0000;stroke:#ff0000;stroke-width:0.5;\" x=\"223.444937\" xlink:href=\"#mb6c9780fc6\" y=\"213.355997\"/>\n     <use style=\"fill:#ff0000;stroke:#ff0000;stroke-width:0.5;\" x=\"205.198337\" xlink:href=\"#mb6c9780fc6\" y=\"247.835768\"/>\n     <use style=\"fill:#ff0000;stroke:#ff0000;stroke-width:0.5;\" x=\"189.630137\" xlink:href=\"#mb6c9780fc6\" y=\"256.22274\"/>\n     <use style=\"fill:#ff0000;stroke:#ff0000;stroke-width:0.5;\" x=\"208.462638\" xlink:href=\"#mb6c9780fc6\" y=\"281.383654\"/>\n     <use style=\"fill:#ff0000;stroke:#ff0000;stroke-width:0.5;\" x=\"249.475638\" xlink:href=\"#mb6c9780fc6\" y=\"223.60674\"/>\n     <use style=\"fill:#ff0000;stroke:#ff0000;stroke-width:0.5;\" x=\"275.087837\" xlink:href=\"#mb6c9780fc6\" y=\"197.51394\"/>\n     <use style=\"fill:#ff0000;stroke:#ff0000;stroke-width:0.5;\" x=\"303.713238\" xlink:href=\"#mb6c9780fc6\" y=\"122.963083\"/>\n     <use style=\"fill:#ff0000;stroke:#ff0000;stroke-width:0.5;\" x=\"235.581438\" xlink:href=\"#mb6c9780fc6\" y=\"211.492225\"/>\n     <use style=\"fill:#ff0000;stroke:#ff0000;stroke-width:0.5;\" x=\"193.480337\" xlink:href=\"#mb6c9780fc6\" y=\"249.69954\"/>\n     <use style=\"fill:#ff0000;stroke:#ff0000;stroke-width:0.5;\" x=\"201.097037\" xlink:href=\"#mb6c9780fc6\" y=\"225.470511\"/>\n     <use style=\"fill:#ff0000;stroke:#ff0000;stroke-width:0.5;\" x=\"177.326238\" xlink:href=\"#mb6c9780fc6\" y=\"268.337254\"/>\n     <use style=\"fill:#ff0000;stroke:#ff0000;stroke-width:0.5;\" x=\"201.682937\" xlink:href=\"#mb6c9780fc6\" y=\"235.721254\"/>\n     <use style=\"fill:#ff0000;stroke:#ff0000;stroke-width:0.5;\" x=\"246.211337\" xlink:href=\"#mb6c9780fc6\" y=\"204.969025\"/>\n     <use style=\"fill:#ff0000;stroke:#ff0000;stroke-width:0.5;\" x=\"208.044138\" xlink:href=\"#mb6c9780fc6\" y=\"228.266168\"/>\n     <use style=\"fill:#ff0000;stroke:#ff0000;stroke-width:0.5;\" x=\"216.748938\" xlink:href=\"#mb6c9780fc6\" y=\"218.015425\"/>\n     <use style=\"fill:#ff0000;stroke:#ff0000;stroke-width:0.5;\" x=\"231.814937\" xlink:href=\"#mb6c9780fc6\" y=\"212.424111\"/>\n     <use style=\"fill:#ff0000;stroke:#ff0000;stroke-width:0.5;\" x=\"234.158538\" xlink:href=\"#mb6c9780fc6\" y=\"205.900911\"/>\n     <use style=\"fill:#ff0000;stroke:#ff0000;stroke-width:0.5;\" x=\"235.246637\" xlink:href=\"#mb6c9780fc6\" y=\"231.061825\"/>\n     <use style=\"fill:#ff0000;stroke:#ff0000;stroke-width:0.5;\" x=\"234.660738\" xlink:href=\"#mb6c9780fc6\" y=\"244.108225\"/>\n     <use style=\"fill:#ff0000;stroke:#ff0000;stroke-width:0.5;\" x=\"223.026437\" xlink:href=\"#mb6c9780fc6\" y=\"236.65314\"/>\n     <use style=\"fill:#ff0000;stroke:#ff0000;stroke-width:0.5;\" x=\"230.726838\" xlink:href=\"#mb6c9780fc6\" y=\"232.925597\"/>\n     <use style=\"fill:#ff0000;stroke:#ff0000;stroke-width:0.5;\" x=\"200.762237\" xlink:href=\"#mb6c9780fc6\" y=\"241.312568\"/>\n     <use style=\"fill:#ff0000;stroke:#ff0000;stroke-width:0.5;\" x=\"272.158338\" xlink:href=\"#mb6c9780fc6\" y=\"169.557368\"/>\n     <use style=\"fill:#ff0000;stroke:#ff0000;stroke-width:0.5;\" x=\"263.118738\" xlink:href=\"#mb6c9780fc6\" y=\"207.764683\"/>\n     <use style=\"fill:#ff0000;stroke:#ff0000;stroke-width:0.5;\" x=\"236.585837\" xlink:href=\"#mb6c9780fc6\" y=\"199.377711\"/>\n     <use style=\"fill:#ff0000;stroke:#ff0000;stroke-width:0.5;\" x=\"225.286338\" xlink:href=\"#mb6c9780fc6\" y=\"217.08354\"/>\n     <use style=\"fill:#ff0000;stroke:#ff0000;stroke-width:0.5;\" x=\"243.867738\" xlink:href=\"#mb6c9780fc6\" y=\"207.764683\"/>\n     <use style=\"fill:#ff0000;stroke:#ff0000;stroke-width:0.5;\" x=\"264.039438\" xlink:href=\"#mb6c9780fc6\" y=\"182.603768\"/>\n     <use style=\"fill:#ff0000;stroke:#ff0000;stroke-width:0.5;\" x=\"212.563937\" xlink:href=\"#mb6c9780fc6\" y=\"220.811083\"/>\n     <use style=\"fill:#ff0000;stroke:#ff0000;stroke-width:0.5;\" x=\"221.436138\" xlink:href=\"#mb6c9780fc6\" y=\"223.60674\"/>\n     <use style=\"fill:#ff0000;stroke:#ff0000;stroke-width:0.5;\" x=\"295.594337\" xlink:href=\"#mb6c9780fc6\" y=\"210.56034\"/>\n     <use style=\"fill:#ff0000;stroke:#ff0000;stroke-width:0.5;\" x=\"301.620737\" xlink:href=\"#mb6c9780fc6\" y=\"163.034168\"/>\n     <use style=\"fill:#ff0000;stroke:#ff0000;stroke-width:0.5;\" x=\"246.211337\" xlink:href=\"#mb6c9780fc6\" y=\"219.879197\"/>\n     <use style=\"fill:#ff0000;stroke:#ff0000;stroke-width:0.5;\" x=\"245.206938\" xlink:href=\"#mb6c9780fc6\" y=\"225.470511\"/>\n     <use style=\"fill:#ff0000;stroke:#ff0000;stroke-width:0.5;\" x=\"248.303838\" xlink:href=\"#mb6c9780fc6\" y=\"217.08354\"/>\n     <use style=\"fill:#ff0000;stroke:#ff0000;stroke-width:0.5;\" x=\"228.969138\" xlink:href=\"#mb6c9780fc6\" y=\"197.51394\"/>\n     <use style=\"fill:#ff0000;stroke:#ff0000;stroke-width:0.5;\" x=\"232.149737\" xlink:href=\"#mb6c9780fc6\" y=\"238.516911\"/>\n     <use style=\"fill:#ff0000;stroke:#ff0000;stroke-width:0.5;\" x=\"263.620938\" xlink:href=\"#mb6c9780fc6\" y=\"165.829825\"/>\n     <use style=\"fill:#ff0000;stroke:#ff0000;stroke-width:0.5;\" x=\"224.951538\" xlink:href=\"#mb6c9780fc6\" y=\"231.061825\"/>\n     <use style=\"fill:#ff0000;stroke:#ff0000;stroke-width:0.5;\" x=\"384.483738\" xlink:href=\"#mb6c9780fc6\" y=\"69.845597\"/>\n     <use style=\"fill:#ff0000;stroke:#ff0000;stroke-width:0.5;\" x=\"363.642437\" xlink:href=\"#mb6c9780fc6\" y=\"22.319425\"/>\n     <use style=\"fill:#ff0000;stroke:#ff0000;stroke-width:0.5;\" x=\"329.827637\" xlink:href=\"#mb6c9780fc6\" y=\"121.099311\"/>\n     <use style=\"fill:#ff0000;stroke:#ff0000;stroke-width:0.5;\" x=\"272.158338\" xlink:href=\"#mb6c9780fc6\" y=\"174.216797\"/>\n     <use style=\"fill:#ff0000;stroke:#ff0000;stroke-width:0.5;\" x=\"276.678137\" xlink:href=\"#mb6c9780fc6\" y=\"183.535654\"/>\n     <use style=\"fill:#ff0000;stroke:#ff0000;stroke-width:0.5;\" x=\"245.206938\" xlink:href=\"#mb6c9780fc6\" y=\"257.154625\"/>\n     <use style=\"fill:#ff0000;stroke:#ff0000;stroke-width:0.5;\" x=\"222.775337\" xlink:href=\"#mb6c9780fc6\" y=\"250.631425\"/>\n     <use style=\"fill:#ff0000;stroke:#ff0000;stroke-width:0.5;\" x=\"225.286338\" xlink:href=\"#mb6c9780fc6\" y=\"243.17634\"/>\n     <use style=\"fill:#ff0000;stroke:#ff0000;stroke-width:0.5;\" x=\"198.837137\" xlink:href=\"#mb6c9780fc6\" y=\"248.767654\"/>\n     <use style=\"fill:#ff0000;stroke:#ff0000;stroke-width:0.5;\" x=\"197.581637\" xlink:href=\"#mb6c9780fc6\" y=\"248.767654\"/>\n     <use style=\"fill:#ff0000;stroke:#ff0000;stroke-width:0.5;\" x=\"221.938337\" xlink:href=\"#mb6c9780fc6\" y=\"240.380683\"/>\n     <use style=\"fill:#ff0000;stroke:#ff0000;stroke-width:0.5;\" x=\"250.982238\" xlink:href=\"#mb6c9780fc6\" y=\"245.971997\"/>\n     <use style=\"fill:#ff0000;stroke:#ff0000;stroke-width:0.5;\" x=\"230.475737\" xlink:href=\"#mb6c9780fc6\" y=\"249.69954\"/>\n     <use style=\"fill:#ff0000;stroke:#ff0000;stroke-width:0.5;\" x=\"227.629938\" xlink:href=\"#mb6c9780fc6\" y=\"228.266168\"/>\n     <use style=\"fill:#ff0000;stroke:#ff0000;stroke-width:0.5;\" x=\"271.153938\" xlink:href=\"#mb6c9780fc6\" y=\"218.015425\"/>\n     <use style=\"fill:#ff0000;stroke:#ff0000;stroke-width:0.5;\" x=\"204.026538\" xlink:href=\"#mb6c9780fc6\" y=\"255.290854\"/>\n     <use style=\"fill:#ff0000;stroke:#ff0000;stroke-width:0.5;\" x=\"219.008837\" xlink:href=\"#mb6c9780fc6\" y=\"256.22274\"/>\n     <use style=\"fill:#ff0000;stroke:#ff0000;stroke-width:0.5;\" x=\"232.568237\" xlink:href=\"#mb6c9780fc6\" y=\"258.086511\"/>\n     <use style=\"fill:#ff0000;stroke:#ff0000;stroke-width:0.5;\" x=\"205.282038\" xlink:href=\"#mb6c9780fc6\" y=\"259.950283\"/>\n     <use style=\"fill:#ff0000;stroke:#ff0000;stroke-width:0.5;\" x=\"226.039637\" xlink:href=\"#mb6c9780fc6\" y=\"232.925597\"/>\n     <use style=\"fill:#ff0000;stroke:#ff0000;stroke-width:0.5;\" x=\"213.066137\" xlink:href=\"#mb6c9780fc6\" y=\"251.563311\"/>\n     <use style=\"fill:#ff0000;stroke:#ff0000;stroke-width:0.5;\" x=\"200.594837\" xlink:href=\"#mb6c9780fc6\" y=\"240.380683\"/>\n     <use style=\"fill:#ff0000;stroke:#ff0000;stroke-width:0.5;\" x=\"188.793138\" xlink:href=\"#mb6c9780fc6\" y=\"250.631425\"/>\n     <use style=\"fill:#ff0000;stroke:#ff0000;stroke-width:0.5;\" x=\"200.427437\" xlink:href=\"#mb6c9780fc6\" y=\"225.470511\"/>\n     <use style=\"fill:#ff0000;stroke:#ff0000;stroke-width:0.5;\" x=\"211.643237\" xlink:href=\"#mb6c9780fc6\" y=\"241.312568\"/>\n     <use style=\"fill:#ff0000;stroke:#ff0000;stroke-width:0.5;\" x=\"208.044138\" xlink:href=\"#mb6c9780fc6\" y=\"239.448797\"/>\n     <use style=\"fill:#ff0000;stroke:#ff0000;stroke-width:0.5;\" x=\"199.255637\" xlink:href=\"#mb6c9780fc6\" y=\"269.26914\"/>\n     <use style=\"fill:#ff0000;stroke:#ff0000;stroke-width:0.5;\" x=\"201.180737\" xlink:href=\"#mb6c9780fc6\" y=\"255.290854\"/>\n     <use style=\"fill:#ff0000;stroke:#ff0000;stroke-width:0.5;\" x=\"210.136637\" xlink:href=\"#mb6c9780fc6\" y=\"231.061825\"/>\n     <use style=\"fill:#ff0000;stroke:#ff0000;stroke-width:0.5;\" x=\"178.916538\" xlink:href=\"#mb6c9780fc6\" y=\"284.179311\"/>\n     <use style=\"fill:#ff0000;stroke:#ff0000;stroke-width:0.5;\" x=\"185.612537\" xlink:href=\"#mb6c9780fc6\" y=\"279.519883\"/>\n     <use style=\"fill:#ff0000;stroke:#ff0000;stroke-width:0.5;\" x=\"247.383138\" xlink:href=\"#mb6c9780fc6\" y=\"262.74594\"/>\n     <use style=\"fill:#ff0000;stroke:#ff0000;stroke-width:0.5;\" x=\"180.925337\" xlink:href=\"#mb6c9780fc6\" y=\"297.225711\"/>\n     <use style=\"fill:#ff0000;stroke:#ff0000;stroke-width:0.5;\" x=\"249.643038\" xlink:href=\"#mb6c9780fc6\" y=\"251.563311\"/>\n     <use style=\"fill:#ff0000;stroke:#ff0000;stroke-width:0.5;\" x=\"238.594637\" xlink:href=\"#mb6c9780fc6\" y=\"247.835768\"/>\n     <use style=\"fill:#ff0000;stroke:#ff0000;stroke-width:0.5;\" x=\"242.444838\" xlink:href=\"#mb6c9780fc6\" y=\"216.151654\"/>\n     <use style=\"fill:#ff0000;stroke:#ff0000;stroke-width:0.5;\" x=\"196.409837\" xlink:href=\"#mb6c9780fc6\" y=\"259.018397\"/>\n     <use style=\"fill:#ff0000;stroke:#ff0000;stroke-width:0.5;\" x=\"190.969337\" xlink:href=\"#mb6c9780fc6\" y=\"285.111197\"/>\n     <use style=\"fill:#ff0000;stroke:#ff0000;stroke-width:0.5;\" x=\"239.347938\" xlink:href=\"#mb6c9780fc6\" y=\"261.814054\"/>\n     <use style=\"fill:#ff0000;stroke:#ff0000;stroke-width:0.5;\" x=\"206.453838\" xlink:href=\"#mb6c9780fc6\" y=\"268.337254\"/>\n     <use style=\"fill:#ff0000;stroke:#ff0000;stroke-width:0.5;\" x=\"249.308237\" xlink:href=\"#mb6c9780fc6\" y=\"271.132911\"/>\n     <use style=\"fill:#ff0000;stroke:#ff0000;stroke-width:0.5;\" x=\"199.339337\" xlink:href=\"#mb6c9780fc6\" y=\"306.544568\"/>\n     <use style=\"fill:#ff0000;stroke:#ff0000;stroke-width:0.5;\" x=\"223.947137\" xlink:href=\"#mb6c9780fc6\" y=\"264.609711\"/>\n     <use style=\"fill:#ff0000;stroke:#ff0000;stroke-width:0.5;\" x=\"225.872238\" xlink:href=\"#mb6c9780fc6\" y=\"300.021368\"/>\n     <use style=\"fill:#ff0000;stroke:#ff0000;stroke-width:0.5;\" x=\"129.198737\" xlink:href=\"#mb6c9780fc6\" y=\"296.293825\"/>\n     <use style=\"fill:#ff0000;stroke:#ff0000;stroke-width:0.5;\" x=\"161.339537\" xlink:href=\"#mb6c9780fc6\" y=\"305.612683\"/>\n     <use style=\"fill:#ff0000;stroke:#ff0000;stroke-width:0.5;\" x=\"166.780037\" xlink:href=\"#mb6c9780fc6\" y=\"285.111197\"/>\n     <use style=\"fill:#ff0000;stroke:#ff0000;stroke-width:0.5;\" x=\"119.489537\" xlink:href=\"#mb6c9780fc6\" y=\"320.522854\"/>\n     <use style=\"fill:#ff0000;stroke:#ff0000;stroke-width:0.5;\" x=\"222.189437\" xlink:href=\"#mb6c9780fc6\" y=\"301.88514\"/>\n     <use style=\"fill:#ff0000;stroke:#ff0000;stroke-width:0.5;\" x=\"180.172037\" xlink:href=\"#mb6c9780fc6\" y=\"285.111197\"/>\n     <use style=\"fill:#ff0000;stroke:#ff0000;stroke-width:0.5;\" x=\"121.414638\" xlink:href=\"#mb6c9780fc6\" y=\"294.430054\"/>\n     <use style=\"fill:#ff0000;stroke:#ff0000;stroke-width:0.5;\" x=\"143.176637\" xlink:href=\"#mb6c9780fc6\" y=\"264.609711\"/>\n     <use style=\"fill:#ff0000;stroke:#ff0000;stroke-width:0.5;\" x=\"177.577338\" xlink:href=\"#mb6c9780fc6\" y=\"286.974968\"/>\n     <use style=\"fill:#ff0000;stroke:#ff0000;stroke-width:0.5;\" x=\"221.519837\" xlink:href=\"#mb6c9780fc6\" y=\"230.12994\"/>\n     <use style=\"fill:#ff0000;stroke:#ff0000;stroke-width:0.5;\" x=\"161.423237\" xlink:href=\"#mb6c9780fc6\" y=\"247.835768\"/>\n     <use style=\"fill:#ff0000;stroke:#ff0000;stroke-width:0.5;\" x=\"128.612837\" xlink:href=\"#mb6c9780fc6\" y=\"287.906854\"/>\n     <use style=\"fill:#ff0000;stroke:#ff0000;stroke-width:0.5;\" x=\"186.951737\" xlink:href=\"#mb6c9780fc6\" y=\"249.69954\"/>\n     <use style=\"fill:#ff0000;stroke:#ff0000;stroke-width:0.5;\" x=\"222.105737\" xlink:href=\"#mb6c9780fc6\" y=\"272.064797\"/>\n     <use style=\"fill:#ff0000;stroke:#ff0000;stroke-width:0.5;\" x=\"224.030838\" xlink:href=\"#mb6c9780fc6\" y=\"285.111197\"/>\n     <use style=\"fill:#ff0000;stroke:#ff0000;stroke-width:0.5;\" x=\"150.374838\" xlink:href=\"#mb6c9780fc6\" y=\"308.40834\"/>\n     <use style=\"fill:#ff0000;stroke:#ff0000;stroke-width:0.5;\" x=\"290.237537\" xlink:href=\"#mb6c9780fc6\" y=\"45.616568\"/>\n     <use style=\"fill:#ff0000;stroke:#ff0000;stroke-width:0.5;\" x=\"216.832637\" xlink:href=\"#mb6c9780fc6\" y=\"204.03714\"/>\n     <use style=\"fill:#ff0000;stroke:#ff0000;stroke-width:0.5;\" x=\"253.995438\" xlink:href=\"#mb6c9780fc6\" y=\"213.355997\"/>\n     <use style=\"fill:#ff0000;stroke:#ff0000;stroke-width:0.5;\" x=\"232.233437\" xlink:href=\"#mb6c9780fc6\" y=\"178.876225\"/>\n     <use style=\"fill:#ff0000;stroke:#ff0000;stroke-width:0.5;\" x=\"319.265653\" xlink:href=\"#mb6c9780fc6\" y=\"-1\"/>\n     <use style=\"fill:#ff0000;stroke:#ff0000;stroke-width:0.5;\" x=\"381.516306\" xlink:href=\"#mb6c9780fc6\" y=\"-1\"/>\n     <use style=\"fill:#ff0000;stroke:#ff0000;stroke-width:0.5;\" x=\"199.088237\" xlink:href=\"#mb6c9780fc6\" y=\"218.947311\"/>\n     <use style=\"fill:#ff0000;stroke:#ff0000;stroke-width:0.5;\" x=\"219.762137\" xlink:href=\"#mb6c9780fc6\" y=\"197.51394\"/>\n     <use style=\"fill:#ff0000;stroke:#ff0000;stroke-width:0.5;\" x=\"350.135839\" xlink:href=\"#mb6c9780fc6\" y=\"-1\"/>\n     <use style=\"fill:#ff0000;stroke:#ff0000;stroke-width:0.5;\" x=\"348.526302\" xlink:href=\"#mb6c9780fc6\" y=\"-1\"/>\n     <use style=\"fill:#ff0000;stroke:#ff0000;stroke-width:0.5;\" x=\"201.013337\" xlink:href=\"#mb6c9780fc6\" y=\"208.696568\"/>\n     <use style=\"fill:#ff0000;stroke:#ff0000;stroke-width:0.5;\" x=\"238.008737\" xlink:href=\"#mb6c9780fc6\" y=\"208.696568\"/>\n     <use style=\"fill:#ff0000;stroke:#ff0000;stroke-width:0.5;\" x=\"244.955837\" xlink:href=\"#mb6c9780fc6\" y=\"222.674854\"/>\n     <use style=\"fill:#ff0000;stroke:#ff0000;stroke-width:0.5;\" x=\"200.845937\" xlink:href=\"#mb6c9780fc6\" y=\"268.337254\"/>\n     <use style=\"fill:#ff0000;stroke:#ff0000;stroke-width:0.5;\" x=\"201.264437\" xlink:href=\"#mb6c9780fc6\" y=\"252.495197\"/>\n     <use style=\"fill:#ff0000;stroke:#ff0000;stroke-width:0.5;\" x=\"175.484838\" xlink:href=\"#mb6c9780fc6\" y=\"215.219768\"/>\n     <use style=\"fill:#ff0000;stroke:#ff0000;stroke-width:0.5;\" x=\"246.127638\" xlink:href=\"#mb6c9780fc6\" y=\"210.56034\"/>\n     <use style=\"fill:#ff0000;stroke:#ff0000;stroke-width:0.5;\" x=\"199.506737\" xlink:href=\"#mb6c9780fc6\" y=\"219.879197\"/>\n     <use style=\"fill:#ff0000;stroke:#ff0000;stroke-width:0.5;\" x=\"257.008638\" xlink:href=\"#mb6c9780fc6\" y=\"156.510968\"/>\n     <use style=\"fill:#ff0000;stroke:#ff0000;stroke-width:0.5;\" x=\"212.982437\" xlink:href=\"#mb6c9780fc6\" y=\"214.287883\"/>\n     <use style=\"fill:#ff0000;stroke:#ff0000;stroke-width:0.5;\" x=\"237.673938\" xlink:href=\"#mb6c9780fc6\" y=\"201.241483\"/>\n     <use style=\"fill:#ff0000;stroke:#ff0000;stroke-width:0.5;\" x=\"283.290437\" xlink:href=\"#mb6c9780fc6\" y=\"151.85154\"/>\n     <use style=\"fill:#ff0000;stroke:#ff0000;stroke-width:0.5;\" x=\"293.334437\" xlink:href=\"#mb6c9780fc6\" y=\"83.823883\"/>\n     <use style=\"fill:#ff0000;stroke:#ff0000;stroke-width:0.5;\" x=\"359.038938\" xlink:href=\"#mb6c9780fc6\" y=\"59.594854\"/>\n     <use style=\"fill:#ff0000;stroke:#ff0000;stroke-width:0.5;\" x=\"223.361237\" xlink:href=\"#mb6c9780fc6\" y=\"93.14274\"/>\n     <use style=\"fill:#ff0000;stroke:#ff0000;stroke-width:0.5;\" x=\"307.981938\" xlink:href=\"#mb6c9780fc6\" y=\"77.300683\"/>\n     <use style=\"fill:#ff0000;stroke:#ff0000;stroke-width:0.5;\" x=\"258.431537\" xlink:href=\"#mb6c9780fc6\" y=\"127.622511\"/>\n     <use style=\"fill:#ff0000;stroke:#ff0000;stroke-width:0.5;\" x=\"178.163237\" xlink:href=\"#mb6c9780fc6\" y=\"184.46754\"/>\n     <use style=\"fill:#ff0000;stroke:#ff0000;stroke-width:0.5;\" x=\"224.114537\" xlink:href=\"#mb6c9780fc6\" y=\"154.647197\"/>\n     <use style=\"fill:#ff0000;stroke:#ff0000;stroke-width:0.5;\" x=\"339.106079\" xlink:href=\"#mb6c9780fc6\" y=\"-1\"/>\n     <use style=\"fill:#ff0000;stroke:#ff0000;stroke-width:0.5;\" x=\"346.526756\" xlink:href=\"#mb6c9780fc6\" y=\"-1\"/>\n     <use style=\"fill:#ff0000;stroke:#ff0000;stroke-width:0.5;\" x=\"276.761838\" xlink:href=\"#mb6c9780fc6\" y=\"132.28194\"/>\n     <use style=\"fill:#ff0000;stroke:#ff0000;stroke-width:0.5;\" x=\"257.845638\" xlink:href=\"#mb6c9780fc6\" y=\"152.783425\"/>\n     <use style=\"fill:#ff0000;stroke:#ff0000;stroke-width:0.5;\" x=\"310.492937\" xlink:href=\"#mb6c9780fc6\" y=\"105.257254\"/>\n     <use style=\"fill:#ff0000;stroke:#ff0000;stroke-width:0.5;\" x=\"290.907137\" xlink:href=\"#mb6c9780fc6\" y=\"85.687654\"/>\n     <use style=\"fill:#ff0000;stroke:#ff0000;stroke-width:0.5;\" x=\"273.162737\" xlink:href=\"#mb6c9780fc6\" y=\"146.260225\"/>\n     <use style=\"fill:#ff0000;stroke:#ff0000;stroke-width:0.5;\" x=\"309.907037\" xlink:href=\"#mb6c9780fc6\" y=\"91.278968\"/>\n     <use style=\"fill:#ff0000;stroke:#ff0000;stroke-width:0.5;\" x=\"278.268437\" xlink:href=\"#mb6c9780fc6\" y=\"140.668911\"/>\n     <use style=\"fill:#ff0000;stroke:#ff0000;stroke-width:0.5;\" x=\"261.863238\" xlink:href=\"#mb6c9780fc6\" y=\"159.306625\"/>\n     <use style=\"fill:#ff0000;stroke:#ff0000;stroke-width:0.5;\" x=\"349.424808\" xlink:href=\"#mb6c9780fc6\" y=\"-1\"/>\n     <use style=\"fill:#ff0000;stroke:#ff0000;stroke-width:0.5;\" x=\"357.348929\" xlink:href=\"#mb6c9780fc6\" y=\"-1\"/>\n     <use style=\"fill:#ff0000;stroke:#ff0000;stroke-width:0.5;\" x=\"319.030338\" xlink:href=\"#mb6c9780fc6\" y=\"120.167425\"/>\n     <use style=\"fill:#ff0000;stroke:#ff0000;stroke-width:0.5;\" x=\"303.964337\" xlink:href=\"#mb6c9780fc6\" y=\"148.123997\"/>\n     <use style=\"fill:#ff0000;stroke:#ff0000;stroke-width:0.5;\" x=\"317.942237\" xlink:href=\"#mb6c9780fc6\" y=\"108.052911\"/>\n     <use style=\"fill:#ff0000;stroke:#ff0000;stroke-width:0.5;\" x=\"292.915937\" xlink:href=\"#mb6c9780fc6\" y=\"105.257254\"/>\n     <use style=\"fill:#ff0000;stroke:#ff0000;stroke-width:0.5;\" x=\"306.307938\" xlink:href=\"#mb6c9780fc6\" y=\"123.894968\"/>\n     <use style=\"fill:#ff0000;stroke:#ff0000;stroke-width:0.5;\" x=\"224.867838\" xlink:href=\"#mb6c9780fc6\" y=\"205.900911\"/>\n     <use style=\"fill:#ff0000;stroke:#ff0000;stroke-width:0.5;\" x=\"346.065437\" xlink:href=\"#mb6c9780fc6\" y=\"36.297711\"/>\n     <use style=\"fill:#ff0000;stroke:#ff0000;stroke-width:0.5;\" x=\"359.195282\" xlink:href=\"#mb6c9780fc6\" y=\"-1\"/>\n     <use style=\"fill:#ff0000;stroke:#ff0000;stroke-width:0.5;\" x=\"357.348516\" xlink:href=\"#mb6c9780fc6\" y=\"-1\"/>\n     <use style=\"fill:#ff0000;stroke:#ff0000;stroke-width:0.5;\" x=\"202.185137\" xlink:href=\"#mb6c9780fc6\" y=\"219.879197\"/>\n     <use style=\"fill:#ff0000;stroke:#ff0000;stroke-width:0.5;\" x=\"238.594637\" xlink:href=\"#mb6c9780fc6\" y=\"203.105254\"/>\n     <use style=\"fill:#ff0000;stroke:#ff0000;stroke-width:0.5;\" x=\"193.145538\" xlink:href=\"#mb6c9780fc6\" y=\"220.811083\"/>\n     <use style=\"fill:#ff0000;stroke:#ff0000;stroke-width:0.5;\" x=\"216.665237\" xlink:href=\"#mb6c9780fc6\" y=\"203.105254\"/>\n     <use style=\"fill:#ff0000;stroke:#ff0000;stroke-width:0.5;\" x=\"156.401238\" xlink:href=\"#mb6c9780fc6\" y=\"244.108225\"/>\n     <use style=\"fill:#ff0000;stroke:#ff0000;stroke-width:0.5;\" x=\"207.960438\" xlink:href=\"#mb6c9780fc6\" y=\"228.266168\"/>\n     <use style=\"fill:#ff0000;stroke:#ff0000;stroke-width:0.5;\" x=\"161.423237\" xlink:href=\"#mb6c9780fc6\" y=\"250.631425\"/>\n     <use style=\"fill:#ff0000;stroke:#ff0000;stroke-width:0.5;\" x=\"195.154338\" xlink:href=\"#mb6c9780fc6\" y=\"221.742968\"/>\n     <use style=\"fill:#ff0000;stroke:#ff0000;stroke-width:0.5;\" x=\"242.695937\" xlink:href=\"#mb6c9780fc6\" y=\"168.625483\"/>\n     <use style=\"fill:#ff0000;stroke:#ff0000;stroke-width:0.5;\" x=\"162.092837\" xlink:href=\"#mb6c9780fc6\" y=\"209.628454\"/>\n     <use style=\"fill:#ff0000;stroke:#ff0000;stroke-width:0.5;\" x=\"226.541837\" xlink:href=\"#mb6c9780fc6\" y=\"197.51394\"/>\n     <use style=\"fill:#ff0000;stroke:#ff0000;stroke-width:0.5;\" x=\"201.934037\" xlink:href=\"#mb6c9780fc6\" y=\"213.355997\"/>\n     <use style=\"fill:#ff0000;stroke:#ff0000;stroke-width:0.5;\" x=\"265.043838\" xlink:href=\"#mb6c9780fc6\" y=\"163.034168\"/>\n     <use style=\"fill:#ff0000;stroke:#ff0000;stroke-width:0.5;\" x=\"207.207137\" xlink:href=\"#mb6c9780fc6\" y=\"230.12994\"/>\n     <use style=\"fill:#ff0000;stroke:#ff0000;stroke-width:0.5;\" x=\"242.528538\" xlink:href=\"#mb6c9780fc6\" y=\"216.151654\"/>\n     <use style=\"fill:#ff0000;stroke:#ff0000;stroke-width:0.5;\" x=\"290.907137\" xlink:href=\"#mb6c9780fc6\" y=\"181.671883\"/>\n     <use style=\"fill:#ff0000;stroke:#ff0000;stroke-width:0.5;\" x=\"225.035237\" xlink:href=\"#mb6c9780fc6\" y=\"228.266168\"/>\n     <use style=\"fill:#ff0000;stroke:#ff0000;stroke-width:0.5;\" x=\"284.880737\" xlink:href=\"#mb6c9780fc6\" y=\"174.216797\"/>\n     <use style=\"fill:#ff0000;stroke:#ff0000;stroke-width:0.5;\" x=\"263.035037\" xlink:href=\"#mb6c9780fc6\" y=\"149.987768\"/>\n     <use style=\"fill:#ff0000;stroke:#ff0000;stroke-width:0.5;\" x=\"400.972637\" xlink:href=\"#mb6c9780fc6\" y=\"13.000568\"/>\n     <use style=\"fill:#ff0000;stroke:#ff0000;stroke-width:0.5;\" x=\"412.072505\" xlink:href=\"#mb6c9780fc6\" y=\"-1\"/>\n     <use style=\"fill:#ff0000;stroke:#ff0000;stroke-width:0.5;\" x=\"422.294118\" xlink:href=\"#mb6c9780fc6\" y=\"-1\"/>\n     <use style=\"fill:#ff0000;stroke:#ff0000;stroke-width:0.5;\" x=\"382.056437\" xlink:href=\"#mb6c9780fc6\" y=\"80.09634\"/>\n     <use style=\"fill:#ff0000;stroke:#ff0000;stroke-width:0.5;\" x=\"308.651538\" xlink:href=\"#mb6c9780fc6\" y=\"136.009483\"/>\n     <use style=\"fill:#ff0000;stroke:#ff0000;stroke-width:0.5;\" x=\"351.273964\" xlink:href=\"#mb6c9780fc6\" y=\"-1\"/>\n     <use style=\"fill:#ff0000;stroke:#ff0000;stroke-width:0.5;\" x=\"349.943785\" xlink:href=\"#mb6c9780fc6\" y=\"-1\"/>\n     <use style=\"fill:#ff0000;stroke:#ff0000;stroke-width:0.5;\" x=\"257.510837\" xlink:href=\"#mb6c9780fc6\" y=\"136.941368\"/>\n     <use style=\"fill:#ff0000;stroke:#ff0000;stroke-width:0.5;\" x=\"209.718138\" xlink:href=\"#mb6c9780fc6\" y=\"204.03714\"/>\n     <use style=\"fill:#ff0000;stroke:#ff0000;stroke-width:0.5;\" x=\"329.492838\" xlink:href=\"#mb6c9780fc6\" y=\"135.077597\"/>\n     <use style=\"fill:#ff0000;stroke:#ff0000;stroke-width:0.5;\" x=\"406.915338\" xlink:href=\"#mb6c9780fc6\" y=\"41.889025\"/>\n     <use style=\"fill:#ff0000;stroke:#ff0000;stroke-width:0.5;\" x=\"401.662336\" xlink:href=\"#mb6c9780fc6\" y=\"-1\"/>\n     <use style=\"fill:#ff0000;stroke:#ff0000;stroke-width:0.5;\" x=\"386.205602\" xlink:href=\"#mb6c9780fc6\" y=\"-1\"/>\n     <use style=\"fill:#ff0000;stroke:#ff0000;stroke-width:0.5;\" x=\"272.074638\" xlink:href=\"#mb6c9780fc6\" y=\"160.238511\"/>\n     <use style=\"fill:#ff0000;stroke:#ff0000;stroke-width:0.5;\" x=\"218.506638\" xlink:href=\"#mb6c9780fc6\" y=\"206.832797\"/>\n     <use style=\"fill:#ff0000;stroke:#ff0000;stroke-width:0.5;\" x=\"264.123138\" xlink:href=\"#mb6c9780fc6\" y=\"196.582054\"/>\n     <use style=\"fill:#ff0000;stroke:#ff0000;stroke-width:0.5;\" x=\"324.973037\" xlink:href=\"#mb6c9780fc6\" y=\"136.941368\"/>\n     <use style=\"fill:#ff0000;stroke:#ff0000;stroke-width:0.5;\" x=\"251.568137\" xlink:href=\"#mb6c9780fc6\" y=\"209.628454\"/>\n     <use style=\"fill:#ff0000;stroke:#ff0000;stroke-width:0.5;\" x=\"262.030637\" xlink:href=\"#mb6c9780fc6\" y=\"213.355997\"/>\n     <use style=\"fill:#ff0000;stroke:#ff0000;stroke-width:0.5;\" x=\"286.387338\" xlink:href=\"#mb6c9780fc6\" y=\"225.470511\"/>\n     <use style=\"fill:#ff0000;stroke:#ff0000;stroke-width:0.5;\" x=\"219.259937\" xlink:href=\"#mb6c9780fc6\" y=\"243.17634\"/>\n     <use style=\"fill:#ff0000;stroke:#ff0000;stroke-width:0.5;\" x=\"241.273037\" xlink:href=\"#mb6c9780fc6\" y=\"223.60674\"/>\n     <use style=\"fill:#ff0000;stroke:#ff0000;stroke-width:0.5;\" x=\"244.202538\" xlink:href=\"#mb6c9780fc6\" y=\"209.628454\"/>\n     <use style=\"fill:#ff0000;stroke:#ff0000;stroke-width:0.5;\" x=\"177.242537\" xlink:href=\"#mb6c9780fc6\" y=\"266.473483\"/>\n     <use style=\"fill:#ff0000;stroke:#ff0000;stroke-width:0.5;\" x=\"178.246938\" xlink:href=\"#mb6c9780fc6\" y=\"258.086511\"/>\n     <use style=\"fill:#ff0000;stroke:#ff0000;stroke-width:0.5;\" x=\"220.348037\" xlink:href=\"#mb6c9780fc6\" y=\"204.03714\"/>\n     <use style=\"fill:#ff0000;stroke:#ff0000;stroke-width:0.5;\" x=\"230.224638\" xlink:href=\"#mb6c9780fc6\" y=\"239.448797\"/>\n     <use style=\"fill:#ff0000;stroke:#ff0000;stroke-width:0.5;\" x=\"247.550537\" xlink:href=\"#mb6c9780fc6\" y=\"202.173368\"/>\n     <use style=\"fill:#ff0000;stroke:#ff0000;stroke-width:0.5;\" x=\"271.405037\" xlink:href=\"#mb6c9780fc6\" y=\"186.331311\"/>\n     <use style=\"fill:#ff0000;stroke:#ff0000;stroke-width:0.5;\" x=\"252.070337\" xlink:href=\"#mb6c9780fc6\" y=\"203.105254\"/>\n     <use style=\"fill:#ff0000;stroke:#ff0000;stroke-width:0.5;\" x=\"247.969037\" xlink:href=\"#mb6c9780fc6\" y=\"199.377711\"/>\n     <use style=\"fill:#ff0000;stroke:#ff0000;stroke-width:0.5;\" x=\"291.409337\" xlink:href=\"#mb6c9780fc6\" y=\"154.647197\"/>\n     <use style=\"fill:#ff0000;stroke:#ff0000;stroke-width:0.5;\" x=\"400.386738\" xlink:href=\"#mb6c9780fc6\" y=\"31.638283\"/>\n     <use style=\"fill:#ff0000;stroke:#ff0000;stroke-width:0.5;\" x=\"220.348037\" xlink:href=\"#mb6c9780fc6\" y=\"226.402397\"/>\n     <use style=\"fill:#ff0000;stroke:#ff0000;stroke-width:0.5;\" x=\"200.929638\" xlink:href=\"#mb6c9780fc6\" y=\"235.721254\"/>\n     <use style=\"fill:#ff0000;stroke:#ff0000;stroke-width:0.5;\" x=\"333.008238\" xlink:href=\"#mb6c9780fc6\" y=\"20.455654\"/>\n     <use style=\"fill:#ff0000;stroke:#ff0000;stroke-width:0.5;\" x=\"373.156183\" xlink:href=\"#mb6c9780fc6\" y=\"-1\"/>\n     <use style=\"fill:#ff0000;stroke:#ff0000;stroke-width:0.5;\" x=\"407.325337\" xlink:href=\"#mb6c9780fc6\" y=\"-1\"/>\n     <use style=\"fill:#ff0000;stroke:#ff0000;stroke-width:0.5;\" x=\"322.880538\" xlink:href=\"#mb6c9780fc6\" y=\"95.006511\"/>\n     <use style=\"fill:#ff0000;stroke:#ff0000;stroke-width:0.5;\" x=\"281.783837\" xlink:href=\"#mb6c9780fc6\" y=\"149.987768\"/>\n     <use style=\"fill:#ff0000;stroke:#ff0000;stroke-width:0.5;\" x=\"311.999538\" xlink:href=\"#mb6c9780fc6\" y=\"115.507997\"/>\n     <use style=\"fill:#ff0000;stroke:#ff0000;stroke-width:0.5;\" x=\"338.532437\" xlink:href=\"#mb6c9780fc6\" y=\"28.842625\"/>\n     <use style=\"fill:#ff0000;stroke:#ff0000;stroke-width:0.5;\" x=\"379.820024\" xlink:href=\"#mb6c9780fc6\" y=\"-1\"/>\n     <use style=\"fill:#ff0000;stroke:#ff0000;stroke-width:0.5;\" x=\"399.442813\" xlink:href=\"#mb6c9780fc6\" y=\"-1\"/>\n     <use style=\"fill:#ff0000;stroke:#ff0000;stroke-width:0.5;\" x=\"322.378337\" xlink:href=\"#mb6c9780fc6\" y=\"141.600797\"/>\n     <use style=\"fill:#ff0000;stroke:#ff0000;stroke-width:0.5;\" x=\"312.250637\" xlink:href=\"#mb6c9780fc6\" y=\"90.347083\"/>\n     <use style=\"fill:#ff0000;stroke:#ff0000;stroke-width:0.5;\" x=\"174.480437\" xlink:href=\"#mb6c9780fc6\" y=\"218.015425\"/>\n     <use style=\"fill:#ff0000;stroke:#ff0000;stroke-width:0.5;\" x=\"296.180238\" xlink:href=\"#mb6c9780fc6\" y=\"144.396454\"/>\n     <use style=\"fill:#ff0000;stroke:#ff0000;stroke-width:0.5;\" x=\"382.993478\" xlink:href=\"#mb6c9780fc6\" y=\"-1\"/>\n     <use style=\"fill:#ff0000;stroke:#ff0000;stroke-width:0.5;\" x=\"364.190704\" xlink:href=\"#mb6c9780fc6\" y=\"-1\"/>\n     <use style=\"fill:#ff0000;stroke:#ff0000;stroke-width:0.5;\" x=\"334.347438\" xlink:href=\"#mb6c9780fc6\" y=\"25.115083\"/>\n     <use style=\"fill:#ff0000;stroke:#ff0000;stroke-width:0.5;\" x=\"204.612437\" xlink:href=\"#mb6c9780fc6\" y=\"237.585025\"/>\n     <use style=\"fill:#ff0000;stroke:#ff0000;stroke-width:0.5;\" x=\"199.255637\" xlink:href=\"#mb6c9780fc6\" y=\"233.857483\"/>\n     <use style=\"fill:#ff0000;stroke:#ff0000;stroke-width:0.5;\" x=\"231.396437\" xlink:href=\"#mb6c9780fc6\" y=\"195.650168\"/>\n     <use style=\"fill:#ff0000;stroke:#ff0000;stroke-width:0.5;\" x=\"256.339038\" xlink:href=\"#mb6c9780fc6\" y=\"203.105254\"/>\n     <use style=\"fill:#ff0000;stroke:#ff0000;stroke-width:0.5;\" x=\"352.845138\" xlink:href=\"#mb6c9780fc6\" y=\"102.461597\"/>\n     <use style=\"fill:#ff0000;stroke:#ff0000;stroke-width:0.5;\" x=\"274.753037\" xlink:href=\"#mb6c9780fc6\" y=\"128.554397\"/>\n     <use style=\"fill:#ff0000;stroke:#ff0000;stroke-width:0.5;\" x=\"282.788237\" xlink:href=\"#mb6c9780fc6\" y=\"132.28194\"/>\n     <use style=\"fill:#ff0000;stroke:#ff0000;stroke-width:0.5;\" x=\"317.356338\" xlink:href=\"#mb6c9780fc6\" y=\"121.099311\"/>\n     <use style=\"fill:#ff0000;stroke:#ff0000;stroke-width:0.5;\" x=\"280.444637\" xlink:href=\"#mb6c9780fc6\" y=\"122.031197\"/>\n     <use style=\"fill:#ff0000;stroke:#ff0000;stroke-width:0.5;\" x=\"251.651837\" xlink:href=\"#mb6c9780fc6\" y=\"159.306625\"/>\n     <use style=\"fill:#ff0000;stroke:#ff0000;stroke-width:0.5;\" x=\"279.272837\" xlink:href=\"#mb6c9780fc6\" y=\"103.393483\"/>\n     <use style=\"fill:#ff0000;stroke:#ff0000;stroke-width:0.5;\" x=\"363.642437\" xlink:href=\"#mb6c9780fc6\" y=\"7.409254\"/>\n     <use style=\"fill:#ff0000;stroke:#ff0000;stroke-width:0.5;\" x=\"292.330037\" xlink:href=\"#mb6c9780fc6\" y=\"100.597825\"/>\n     <use style=\"fill:#ff0000;stroke:#ff0000;stroke-width:0.5;\" x=\"348.994937\" xlink:href=\"#mb6c9780fc6\" y=\"1.81794\"/>\n     <use style=\"fill:#ff0000;stroke:#ff0000;stroke-width:0.5;\" x=\"350.753992\" xlink:href=\"#mb6c9780fc6\" y=\"-1\"/>\n     <use style=\"fill:#ff0000;stroke:#ff0000;stroke-width:0.5;\" x=\"357.745333\" xlink:href=\"#mb6c9780fc6\" y=\"-1\"/>\n     <use style=\"fill:#ff0000;stroke:#ff0000;stroke-width:0.5;\" x=\"302.374038\" xlink:href=\"#mb6c9780fc6\" y=\"130.418168\"/>\n     <use style=\"fill:#ff0000;stroke:#ff0000;stroke-width:0.5;\" x=\"249.224538\" xlink:href=\"#mb6c9780fc6\" y=\"225.470511\"/>\n     <use style=\"fill:#ff0000;stroke:#ff0000;stroke-width:0.5;\" x=\"230.559438\" xlink:href=\"#mb6c9780fc6\" y=\"243.17634\"/>\n     <use style=\"fill:#ff0000;stroke:#ff0000;stroke-width:0.5;\" x=\"228.801738\" xlink:href=\"#mb6c9780fc6\" y=\"214.287883\"/>\n     <use style=\"fill:#ff0000;stroke:#ff0000;stroke-width:0.5;\" x=\"237.673938\" xlink:href=\"#mb6c9780fc6\" y=\"222.674854\"/>\n     <use style=\"fill:#ff0000;stroke:#ff0000;stroke-width:0.5;\" x=\"258.598937\" xlink:href=\"#mb6c9780fc6\" y=\"199.377711\"/>\n     <use style=\"fill:#ff0000;stroke:#ff0000;stroke-width:0.5;\" x=\"283.374138\" xlink:href=\"#mb6c9780fc6\" y=\"164.89794\"/>\n     <use style=\"fill:#ff0000;stroke:#ff0000;stroke-width:0.5;\" x=\"307.396037\" xlink:href=\"#mb6c9780fc6\" y=\"82.891997\"/>\n     <use style=\"fill:#ff0000;stroke:#ff0000;stroke-width:0.5;\" x=\"264.039438\" xlink:href=\"#mb6c9780fc6\" y=\"170.489254\"/>\n     <use style=\"fill:#ff0000;stroke:#ff0000;stroke-width:0.5;\" x=\"221.938337\" xlink:href=\"#mb6c9780fc6\" y=\"207.764683\"/>\n     <use style=\"fill:#ff0000;stroke:#ff0000;stroke-width:0.5;\" x=\"212.061738\" xlink:href=\"#mb6c9780fc6\" y=\"228.266168\"/>\n     <use style=\"fill:#ff0000;stroke:#ff0000;stroke-width:0.5;\" x=\"268.057038\" xlink:href=\"#mb6c9780fc6\" y=\"163.966054\"/>\n     <use style=\"fill:#ff0000;stroke:#ff0000;stroke-width:0.5;\" x=\"257.259738\" xlink:href=\"#mb6c9780fc6\" y=\"177.94434\"/>\n     <use style=\"fill:#ff0000;stroke:#ff0000;stroke-width:0.5;\" x=\"193.731438\" xlink:href=\"#mb6c9780fc6\" y=\"241.312568\"/>\n     <use style=\"fill:#ff0000;stroke:#ff0000;stroke-width:0.5;\" x=\"240.184937\" xlink:href=\"#mb6c9780fc6\" y=\"220.811083\"/>\n     <use style=\"fill:#ff0000;stroke:#ff0000;stroke-width:0.5;\" x=\"298.440138\" xlink:href=\"#mb6c9780fc6\" y=\"160.238511\"/>\n     <use style=\"fill:#ff0000;stroke:#ff0000;stroke-width:0.5;\" x=\"284.211138\" xlink:href=\"#mb6c9780fc6\" y=\"199.377711\"/>\n     <use style=\"fill:#ff0000;stroke:#ff0000;stroke-width:0.5;\" x=\"260.691437\" xlink:href=\"#mb6c9780fc6\" y=\"225.470511\"/>\n     <use style=\"fill:#ff0000;stroke:#ff0000;stroke-width:0.5;\" x=\"252.739938\" xlink:href=\"#mb6c9780fc6\" y=\"184.46754\"/>\n     <use style=\"fill:#ff0000;stroke:#ff0000;stroke-width:0.5;\" x=\"293.501838\" xlink:href=\"#mb6c9780fc6\" y=\"122.031197\"/>\n     <use style=\"fill:#ff0000;stroke:#ff0000;stroke-width:0.5;\" x=\"314.761637\" xlink:href=\"#mb6c9780fc6\" y=\"94.074625\"/>\n     <use style=\"fill:#ff0000;stroke:#ff0000;stroke-width:0.5;\" x=\"262.867637\" xlink:href=\"#mb6c9780fc6\" y=\"165.829825\"/>\n     <use style=\"fill:#ff0000;stroke:#ff0000;stroke-width:0.5;\" x=\"330.162437\" xlink:href=\"#mb6c9780fc6\" y=\"119.23554\"/>\n     <use style=\"fill:#ff0000;stroke:#ff0000;stroke-width:0.5;\" x=\"282.369737\" xlink:href=\"#mb6c9780fc6\" y=\"167.693597\"/>\n     <use style=\"fill:#ff0000;stroke:#ff0000;stroke-width:0.5;\" x=\"264.457938\" xlink:href=\"#mb6c9780fc6\" y=\"218.015425\"/>\n     <use style=\"fill:#ff0000;stroke:#ff0000;stroke-width:0.5;\" x=\"208.964838\" xlink:href=\"#mb6c9780fc6\" y=\"241.312568\"/>\n     <use style=\"fill:#ff0000;stroke:#ff0000;stroke-width:0.5;\" x=\"125.348537\" xlink:href=\"#mb6c9780fc6\" y=\"280.451768\"/>\n     <use style=\"fill:#ff0000;stroke:#ff0000;stroke-width:0.5;\" x=\"221.519837\" xlink:href=\"#mb6c9780fc6\" y=\"224.538625\"/>\n     <use style=\"fill:#ff0000;stroke:#ff0000;stroke-width:0.5;\" x=\"213.233537\" xlink:href=\"#mb6c9780fc6\" y=\"249.69954\"/>\n     <use style=\"fill:#ff0000;stroke:#ff0000;stroke-width:0.5;\" x=\"233.572637\" xlink:href=\"#mb6c9780fc6\" y=\"229.198054\"/>\n     <use style=\"fill:#ff0000;stroke:#ff0000;stroke-width:0.5;\" x=\"258.766338\" xlink:href=\"#mb6c9780fc6\" y=\"208.696568\"/>\n     <use style=\"fill:#ff0000;stroke:#ff0000;stroke-width:0.5;\" x=\"186.616938\" xlink:href=\"#mb6c9780fc6\" y=\"279.519883\"/>\n     <use style=\"fill:#ff0000;stroke:#ff0000;stroke-width:0.5;\" x=\"204.110237\" xlink:href=\"#mb6c9780fc6\" y=\"264.609711\"/>\n     <use style=\"fill:#ff0000;stroke:#ff0000;stroke-width:0.5;\" x=\"193.061838\" xlink:href=\"#mb6c9780fc6\" y=\"245.971997\"/>\n     <use style=\"fill:#ff0000;stroke:#ff0000;stroke-width:0.5;\" x=\"243.281837\" xlink:href=\"#mb6c9780fc6\" y=\"215.219768\"/>\n     <use style=\"fill:#ff0000;stroke:#ff0000;stroke-width:0.5;\" x=\"220.766538\" xlink:href=\"#mb6c9780fc6\" y=\"234.789368\"/>\n     <use style=\"fill:#ff0000;stroke:#ff0000;stroke-width:0.5;\" x=\"246.964638\" xlink:href=\"#mb6c9780fc6\" y=\"208.696568\"/>\n     <use style=\"fill:#ff0000;stroke:#ff0000;stroke-width:0.5;\" x=\"242.779637\" xlink:href=\"#mb6c9780fc6\" y=\"215.219768\"/>\n     <use style=\"fill:#ff0000;stroke:#ff0000;stroke-width:0.5;\" x=\"214.740138\" xlink:href=\"#mb6c9780fc6\" y=\"240.380683\"/>\n     <use style=\"fill:#ff0000;stroke:#ff0000;stroke-width:0.5;\" x=\"186.868038\" xlink:href=\"#mb6c9780fc6\" y=\"258.086511\"/>\n     <use style=\"fill:#ff0000;stroke:#ff0000;stroke-width:0.5;\" x=\"246.043938\" xlink:href=\"#mb6c9780fc6\" y=\"197.51394\"/>\n     <use style=\"fill:#ff0000;stroke:#ff0000;stroke-width:0.5;\" x=\"247.383138\" xlink:href=\"#mb6c9780fc6\" y=\"201.241483\"/>\n     <use style=\"fill:#ff0000;stroke:#ff0000;stroke-width:0.5;\" x=\"237.422838\" xlink:href=\"#mb6c9780fc6\" y=\"216.151654\"/>\n     <use style=\"fill:#ff0000;stroke:#ff0000;stroke-width:0.5;\" x=\"218.255538\" xlink:href=\"#mb6c9780fc6\" y=\"223.60674\"/>\n     <use style=\"fill:#ff0000;stroke:#ff0000;stroke-width:0.5;\" x=\"200.260038\" xlink:href=\"#mb6c9780fc6\" y=\"250.631425\"/>\n     <use style=\"fill:#ff0000;stroke:#ff0000;stroke-width:0.5;\" x=\"239.180537\" xlink:href=\"#mb6c9780fc6\" y=\"219.879197\"/>\n     <use style=\"fill:#ff0000;stroke:#ff0000;stroke-width:0.5;\" x=\"223.361237\" xlink:href=\"#mb6c9780fc6\" y=\"245.971997\"/>\n     <use style=\"fill:#ff0000;stroke:#ff0000;stroke-width:0.5;\" x=\"186.700638\" xlink:href=\"#mb6c9780fc6\" y=\"271.132911\"/>\n     <use style=\"fill:#ff0000;stroke:#ff0000;stroke-width:0.5;\" x=\"213.903137\" xlink:href=\"#mb6c9780fc6\" y=\"249.69954\"/>\n     <use style=\"fill:#ff0000;stroke:#ff0000;stroke-width:0.5;\" x=\"237.757637\" xlink:href=\"#mb6c9780fc6\" y=\"223.60674\"/>\n     <use style=\"fill:#ff0000;stroke:#ff0000;stroke-width:0.5;\" x=\"237.255437\" xlink:href=\"#mb6c9780fc6\" y=\"237.585025\"/>\n     <use style=\"fill:#ff0000;stroke:#ff0000;stroke-width:0.5;\" x=\"214.405337\" xlink:href=\"#mb6c9780fc6\" y=\"233.857483\"/>\n     <use style=\"fill:#ff0000;stroke:#ff0000;stroke-width:0.5;\" x=\"200.343737\" xlink:href=\"#mb6c9780fc6\" y=\"248.767654\"/>\n     <use style=\"fill:#ff0000;stroke:#ff0000;stroke-width:0.5;\" x=\"202.519937\" xlink:href=\"#mb6c9780fc6\" y=\"258.086511\"/>\n     <use style=\"fill:#ff0000;stroke:#ff0000;stroke-width:0.5;\" x=\"216.246737\" xlink:href=\"#mb6c9780fc6\" y=\"238.516911\"/>\n     <use style=\"fill:#ff0000;stroke:#ff0000;stroke-width:0.5;\" x=\"210.052938\" xlink:href=\"#mb6c9780fc6\" y=\"253.427083\"/>\n     <use style=\"fill:#ff0000;stroke:#ff0000;stroke-width:0.5;\" x=\"208.630038\" xlink:href=\"#mb6c9780fc6\" y=\"256.22274\"/>\n     <use style=\"fill:#ff0000;stroke:#ff0000;stroke-width:0.5;\" x=\"315.180137\" xlink:href=\"#mb6c9780fc6\" y=\"125.75874\"/>\n     <use style=\"fill:#ff0000;stroke:#ff0000;stroke-width:0.5;\" x=\"256.506438\" xlink:href=\"#mb6c9780fc6\" y=\"276.724225\"/>\n     <use style=\"fill:#ff0000;stroke:#ff0000;stroke-width:0.5;\" x=\"269.563637\" xlink:href=\"#mb6c9780fc6\" y=\"207.764683\"/>\n     <use style=\"fill:#ff0000;stroke:#ff0000;stroke-width:0.5;\" x=\"284.462237\" xlink:href=\"#mb6c9780fc6\" y=\"139.737025\"/>\n     <use style=\"fill:#ff0000;stroke:#ff0000;stroke-width:0.5;\" x=\"212.480238\" xlink:href=\"#mb6c9780fc6\" y=\"267.405368\"/>\n     <use style=\"fill:#ff0000;stroke:#ff0000;stroke-width:0.5;\" x=\"202.771037\" xlink:href=\"#mb6c9780fc6\" y=\"270.201025\"/>\n     <use style=\"fill:#ff0000;stroke:#ff0000;stroke-width:0.5;\" x=\"254.497638\" xlink:href=\"#mb6c9780fc6\" y=\"215.219768\"/>\n     <use style=\"fill:#ff0000;stroke:#ff0000;stroke-width:0.5;\" x=\"264.457938\" xlink:href=\"#mb6c9780fc6\" y=\"202.173368\"/>\n     <use style=\"fill:#ff0000;stroke:#ff0000;stroke-width:0.5;\" x=\"289.902738\" xlink:href=\"#mb6c9780fc6\" y=\"182.603768\"/>\n     <use style=\"fill:#ff0000;stroke:#ff0000;stroke-width:0.5;\" x=\"252.321438\" xlink:href=\"#mb6c9780fc6\" y=\"217.08354\"/>\n     <use style=\"fill:#ff0000;stroke:#ff0000;stroke-width:0.5;\" x=\"259.770737\" xlink:href=\"#mb6c9780fc6\" y=\"205.900911\"/>\n     <use style=\"fill:#ff0000;stroke:#ff0000;stroke-width:0.5;\" x=\"201.599238\" xlink:href=\"#mb6c9780fc6\" y=\"257.154625\"/>\n     <use style=\"fill:#ff0000;stroke:#ff0000;stroke-width:0.5;\" x=\"272.242037\" xlink:href=\"#mb6c9780fc6\" y=\"149.987768\"/>\n     <use style=\"fill:#ff0000;stroke:#ff0000;stroke-width:0.5;\" x=\"183.101538\" xlink:href=\"#mb6c9780fc6\" y=\"260.882168\"/>\n     <use style=\"fill:#ff0000;stroke:#ff0000;stroke-width:0.5;\" x=\"205.951638\" xlink:href=\"#mb6c9780fc6\" y=\"238.516911\"/>\n     <use style=\"fill:#ff0000;stroke:#ff0000;stroke-width:0.5;\" x=\"229.052837\" xlink:href=\"#mb6c9780fc6\" y=\"264.609711\"/>\n     <use style=\"fill:#ff0000;stroke:#ff0000;stroke-width:0.5;\" x=\"244.369937\" xlink:href=\"#mb6c9780fc6\" y=\"228.266168\"/>\n     <use style=\"fill:#ff0000;stroke:#ff0000;stroke-width:0.5;\" x=\"221.938337\" xlink:href=\"#mb6c9780fc6\" y=\"218.947311\"/>\n     <use style=\"fill:#ff0000;stroke:#ff0000;stroke-width:0.5;\" x=\"220.682838\" xlink:href=\"#mb6c9780fc6\" y=\"219.879197\"/>\n     <use style=\"fill:#ff0000;stroke:#ff0000;stroke-width:0.5;\" x=\"244.621037\" xlink:href=\"#mb6c9780fc6\" y=\"197.51394\"/>\n     <use style=\"fill:#ff0000;stroke:#ff0000;stroke-width:0.5;\" x=\"232.317138\" xlink:href=\"#mb6c9780fc6\" y=\"245.040111\"/>\n     <use style=\"fill:#ff0000;stroke:#ff0000;stroke-width:0.5;\" x=\"157.907838\" xlink:href=\"#mb6c9780fc6\" y=\"236.65314\"/>\n     <use style=\"fill:#ff0000;stroke:#ff0000;stroke-width:0.5;\" x=\"194.819537\" xlink:href=\"#mb6c9780fc6\" y=\"273.928568\"/>\n     <use style=\"fill:#ff0000;stroke:#ff0000;stroke-width:0.5;\" x=\"443.994437\" xlink:href=\"#mb6c9780fc6\" y=\"226.402397\"/>\n     <use style=\"fill:#ff0000;stroke:#ff0000;stroke-width:0.5;\" x=\"7.164137\" xlink:href=\"#mb6c9780fc6\" y=\"174.216797\"/>\n     <use style=\"fill:#ff0000;stroke:#ff0000;stroke-width:0.5;\" x=\"124.511537\" xlink:href=\"#mb6c9780fc6\" y=\"226.402397\"/>\n     <use style=\"fill:#ff0000;stroke:#ff0000;stroke-width:0.5;\" x=\"32.441537\" xlink:href=\"#mb6c9780fc6\" y=\"215.219768\"/>\n     <use style=\"fill:#ff0000;stroke:#ff0000;stroke-width:0.5;\" x=\"112.361182\" xlink:href=\"#mb6c9780fc6\" y=\"-1\"/>\n     <use style=\"fill:#ff0000;stroke:#ff0000;stroke-width:0.5;\" x=\"192.561527\" xlink:href=\"#mb6c9780fc6\" y=\"-1\"/>\n     <use style=\"fill:#ff0000;stroke:#ff0000;stroke-width:0.5;\" x=\"119.740637\" xlink:href=\"#mb6c9780fc6\" y=\"301.88514\"/>\n     <use style=\"fill:#ff0000;stroke:#ff0000;stroke-width:0.5;\" x=\"55.459037\" xlink:href=\"#mb6c9780fc6\" y=\"301.88514\"/>\n     <use style=\"fill:#ff0000;stroke:#ff0000;stroke-width:0.5;\" x=\"321.206538\" xlink:href=\"#mb6c9780fc6\" y=\"290.702511\"/>\n     <use style=\"fill:#ff0000;stroke:#ff0000;stroke-width:0.5;\" x=\"265.629737\" xlink:href=\"#mb6c9780fc6\" y=\"300.953254\"/>\n     <use style=\"fill:#ff0000;stroke:#ff0000;stroke-width:0.5;\" x=\"277.766237\" xlink:href=\"#mb6c9780fc6\" y=\"306.544568\"/>\n     <use style=\"fill:#ff0000;stroke:#ff0000;stroke-width:0.5;\" x=\"243.114437\" xlink:href=\"#mb6c9780fc6\" y=\"308.40834\"/>\n     <use style=\"fill:#ff0000;stroke:#ff0000;stroke-width:0.5;\" x=\"229.973537\" xlink:href=\"#mb6c9780fc6\" y=\"335.433025\"/>\n     <use style=\"fill:#ff0000;stroke:#ff0000;stroke-width:0.5;\" x=\"292.330037\" xlink:href=\"#mb6c9780fc6\" y=\"333.569254\"/>\n     <use style=\"fill:#ff0000;stroke:#ff0000;stroke-width:0.5;\" x=\"256.924937\" xlink:href=\"#mb6c9780fc6\" y=\"328.909825\"/>\n     <use style=\"fill:#ff0000;stroke:#ff0000;stroke-width:0.5;\" x=\"172.471637\" xlink:href=\"#mb6c9780fc6\" y=\"325.182283\"/>\n     <use style=\"fill:#ff0000;stroke:#ff0000;stroke-width:0.5;\" x=\"171.132437\" xlink:href=\"#mb6c9780fc6\" y=\"315.863425\"/>\n     <use style=\"fill:#ff0000;stroke:#ff0000;stroke-width:0.5;\" x=\"74.710037\" xlink:href=\"#mb6c9780fc6\" y=\"348.479425\"/>\n     <use style=\"fill:#ff0000;stroke:#ff0000;stroke-width:0.5;\" x=\"150.793338\" xlink:href=\"#mb6c9780fc6\" y=\"363.389597\"/>\n     <use style=\"fill:#ff0000;stroke:#ff0000;stroke-width:0.5;\" x=\"98.480838\" xlink:href=\"#mb6c9780fc6\" y=\"332.637368\"/>\n     <use style=\"fill:#ff0000;stroke:#ff0000;stroke-width:0.5;\" x=\"127.608437\" xlink:href=\"#mb6c9780fc6\" y=\"361.525825\"/>\n     <use style=\"fill:#ff0000;stroke:#ff0000;stroke-width:0.5;\" x=\"117.564437\" xlink:href=\"#mb6c9780fc6\" y=\"335.433025\"/>\n     <use style=\"fill:#ff0000;stroke:#ff0000;stroke-width:0.5;\" x=\"160.251437\" xlink:href=\"#mb6c9780fc6\" y=\"323.318511\"/>\n     <use style=\"fill:#ff0000;stroke:#ff0000;stroke-width:0.5;\" x=\"187.286538\" xlink:href=\"#mb6c9780fc6\" y=\"289.770625\"/>\n     <use style=\"fill:#ff0000;stroke:#ff0000;stroke-width:0.5;\" x=\"215.577137\" xlink:href=\"#mb6c9780fc6\" y=\"214.287883\"/>\n     <use style=\"fill:#ff0000;stroke:#ff0000;stroke-width:0.5;\" x=\"130.621637\" xlink:href=\"#mb6c9780fc6\" y=\"340.092454\"/>\n     <use style=\"fill:#ff0000;stroke:#ff0000;stroke-width:0.5;\" x=\"227.462537\" xlink:href=\"#mb6c9780fc6\" y=\"301.88514\"/>\n     <use style=\"fill:#ff0000;stroke:#ff0000;stroke-width:0.5;\" x=\"201.850337\" xlink:href=\"#mb6c9780fc6\" y=\"312.135883\"/>\n     <use style=\"fill:#ff0000;stroke:#ff0000;stroke-width:0.5;\" x=\"250.731137\" xlink:href=\"#mb6c9780fc6\" y=\"308.40834\"/>\n     <use style=\"fill:#ff0000;stroke:#ff0000;stroke-width:0.5;\" x=\"245.206938\" xlink:href=\"#mb6c9780fc6\" y=\"313.999654\"/>\n     <use style=\"fill:#ff0000;stroke:#ff0000;stroke-width:0.5;\" x=\"190.132338\" xlink:href=\"#mb6c9780fc6\" y=\"351.275083\"/>\n     <use style=\"fill:#ff0000;stroke:#ff0000;stroke-width:0.5;\" x=\"165.524538\" xlink:href=\"#mb6c9780fc6\" y=\"383.891083\"/>\n     <use style=\"fill:#ff0000;stroke:#ff0000;stroke-width:0.5;\" x=\"198.920838\" xlink:href=\"#mb6c9780fc6\" y=\"371.776568\"/>\n     <use style=\"fill:#ff0000;stroke:#ff0000;stroke-width:0.5;\" x=\"210.220338\" xlink:href=\"#mb6c9780fc6\" y=\"378.299768\"/>\n     <use style=\"fill:#ff0000;stroke:#ff0000;stroke-width:0.5;\" x=\"240.017537\" xlink:href=\"#mb6c9780fc6\" y=\"363.389597\"/>\n     <use style=\"fill:#ff0000;stroke:#ff0000;stroke-width:0.5;\" x=\"245.123238\" xlink:href=\"#mb6c9780fc6\" y=\"317.727197\"/>\n     <use style=\"fill:#ff0000;stroke:#ff0000;stroke-width:0.5;\" x=\"156.819738\" xlink:href=\"#mb6c9780fc6\" y=\"353.138854\"/>\n     <use style=\"fill:#ff0000;stroke:#ff0000;stroke-width:0.5;\" x=\"172.053137\" xlink:href=\"#mb6c9780fc6\" y=\"351.275083\"/>\n     <use style=\"fill:#ff0000;stroke:#ff0000;stroke-width:0.5;\" x=\"184.775537\" xlink:href=\"#mb6c9780fc6\" y=\"383.891083\"/>\n     <use style=\"fill:#ff0000;stroke:#ff0000;stroke-width:0.5;\" x=\"55.459037\" xlink:href=\"#mb6c9780fc6\" y=\"319.590968\"/>\n     <use style=\"fill:#ff0000;stroke:#ff0000;stroke-width:0.5;\" x=\"178.498037\" xlink:href=\"#mb6c9780fc6\" y=\"170.489254\"/>\n     <use style=\"fill:#ff0000;stroke:#ff0000;stroke-width:0.5;\" x=\"179.251337\" xlink:href=\"#mb6c9780fc6\" y=\"270.201025\"/>\n     <use style=\"fill:#ff0000;stroke:#ff0000;stroke-width:0.5;\" x=\"282.620838\" xlink:href=\"#mb6c9780fc6\" y=\"174.216797\"/>\n     <use style=\"fill:#ff0000;stroke:#ff0000;stroke-width:0.5;\" x=\"190.969337\" xlink:href=\"#mb6c9780fc6\" y=\"290.702511\"/>\n     <use style=\"fill:#ff0000;stroke:#ff0000;stroke-width:0.5;\" x=\"266.299338\" xlink:href=\"#mb6c9780fc6\" y=\"270.201025\"/>\n     <use style=\"fill:#ff0000;stroke:#ff0000;stroke-width:0.5;\" x=\"96.472037\" xlink:href=\"#mb6c9780fc6\" y=\"263.677825\"/>\n     <use style=\"fill:#ff0000;stroke:#ff0000;stroke-width:0.5;\" x=\"140.581938\" xlink:href=\"#mb6c9780fc6\" y=\"278.587997\"/>\n     <use style=\"fill:#ff0000;stroke:#ff0000;stroke-width:0.5;\" x=\"87.348738\" xlink:href=\"#mb6c9780fc6\" y=\"365.253368\"/>\n     <use style=\"fill:#ff0000;stroke:#ff0000;stroke-width:0.5;\" x=\"247.634237\" xlink:href=\"#mb6c9780fc6\" y=\"363.389597\"/>\n     <use style=\"fill:#ff0000;stroke:#ff0000;stroke-width:0.5;\" x=\"276.761838\" xlink:href=\"#mb6c9780fc6\" y=\"360.59394\"/>\n     <use style=\"fill:#ff0000;stroke:#ff0000;stroke-width:0.5;\" x=\"153.053238\" xlink:href=\"#mb6c9780fc6\" y=\"333.569254\"/>\n     <use style=\"fill:#ff0000;stroke:#ff0000;stroke-width:0.5;\" x=\"207.709338\" xlink:href=\"#mb6c9780fc6\" y=\"348.479425\"/>\n     <use style=\"fill:#ff0000;stroke:#ff0000;stroke-width:0.5;\" x=\"280.277238\" xlink:href=\"#mb6c9780fc6\" y=\"352.206968\"/>\n     <use style=\"fill:#ff0000;stroke:#ff0000;stroke-width:0.5;\" x=\"245.709137\" xlink:href=\"#mb6c9780fc6\" y=\"274.860454\"/>\n     <use style=\"fill:#ff0000;stroke:#ff0000;stroke-width:0.5;\" x=\"211.810638\" xlink:href=\"#mb6c9780fc6\" y=\"298.157597\"/>\n     <use style=\"fill:#ff0000;stroke:#ff0000;stroke-width:0.5;\" x=\"181.846037\" xlink:href=\"#mb6c9780fc6\" y=\"236.65314\"/>\n     <use style=\"fill:#ff0000;stroke:#ff0000;stroke-width:0.5;\" x=\"219.929537\" xlink:href=\"#mb6c9780fc6\" y=\"305.612683\"/>\n     <use style=\"fill:#ff0000;stroke:#ff0000;stroke-width:0.5;\" x=\"174.898938\" xlink:href=\"#mb6c9780fc6\" y=\"321.45474\"/>\n     <use style=\"fill:#ff0000;stroke:#ff0000;stroke-width:0.5;\" x=\"202.603637\" xlink:href=\"#mb6c9780fc6\" y=\"353.138854\"/>\n     <use style=\"fill:#ff0000;stroke:#ff0000;stroke-width:0.5;\" x=\"197.665337\" xlink:href=\"#mb6c9780fc6\" y=\"335.433025\"/>\n     <use style=\"fill:#ff0000;stroke:#ff0000;stroke-width:0.5;\" x=\"228.215837\" xlink:href=\"#mb6c9780fc6\" y=\"328.909825\"/>\n     <use style=\"fill:#ff0000;stroke:#ff0000;stroke-width:0.5;\" x=\"227.462537\" xlink:href=\"#mb6c9780fc6\" y=\"327.97794\"/>\n     <use style=\"fill:#ff0000;stroke:#ff0000;stroke-width:0.5;\" x=\"243.114437\" xlink:href=\"#mb6c9780fc6\" y=\"341.956225\"/>\n     <use style=\"fill:#ff0000;stroke:#ff0000;stroke-width:0.5;\" x=\"240.436037\" xlink:href=\"#mb6c9780fc6\" y=\"295.36194\"/>\n     <use style=\"fill:#ff0000;stroke:#ff0000;stroke-width:0.5;\" x=\"281.030537\" xlink:href=\"#mb6c9780fc6\" y=\"299.089483\"/>\n     <use style=\"fill:#ff0000;stroke:#ff0000;stroke-width:0.5;\" x=\"246.880938\" xlink:href=\"#mb6c9780fc6\" y=\"280.451768\"/>\n     <use style=\"fill:#ff0000;stroke:#ff0000;stroke-width:0.5;\" x=\"247.801638\" xlink:href=\"#mb6c9780fc6\" y=\"297.225711\"/>\n     <use style=\"fill:#ff0000;stroke:#ff0000;stroke-width:0.5;\" x=\"228.718037\" xlink:href=\"#mb6c9780fc6\" y=\"321.45474\"/>\n     <use style=\"fill:#ff0000;stroke:#ff0000;stroke-width:0.5;\" x=\"263.955737\" xlink:href=\"#mb6c9780fc6\" y=\"305.612683\"/>\n     <use style=\"fill:#ff0000;stroke:#ff0000;stroke-width:0.5;\" x=\"249.894137\" xlink:href=\"#mb6c9780fc6\" y=\"341.02434\"/>\n     <use style=\"fill:#ff0000;stroke:#ff0000;stroke-width:0.5;\" x=\"224.030838\" xlink:href=\"#mb6c9780fc6\" y=\"349.411311\"/>\n     <use style=\"fill:#ff0000;stroke:#ff0000;stroke-width:0.5;\" x=\"205.867937\" xlink:href=\"#mb6c9780fc6\" y=\"352.206968\"/>\n     <use style=\"fill:#ff0000;stroke:#ff0000;stroke-width:0.5;\" x=\"180.088337\" xlink:href=\"#mb6c9780fc6\" y=\"311.203997\"/>\n     <use style=\"fill:#ff0000;stroke:#ff0000;stroke-width:0.5;\" x=\"196.075037\" xlink:href=\"#mb6c9780fc6\" y=\"332.637368\"/>\n     <use style=\"fill:#ff0000;stroke:#ff0000;stroke-width:0.5;\" x=\"245.290637\" xlink:href=\"#mb6c9780fc6\" y=\"271.132911\"/>\n     <use style=\"fill:#ff0000;stroke:#ff0000;stroke-width:0.5;\" x=\"229.638737\" xlink:href=\"#mb6c9780fc6\" y=\"259.018397\"/>\n     <use style=\"fill:#ff0000;stroke:#ff0000;stroke-width:0.5;\" x=\"251.902938\" xlink:href=\"#mb6c9780fc6\" y=\"286.974968\"/>\n     <use style=\"fill:#ff0000;stroke:#ff0000;stroke-width:0.5;\" x=\"199.088237\" xlink:href=\"#mb6c9780fc6\" y=\"329.841711\"/>\n     <use style=\"fill:#ff0000;stroke:#ff0000;stroke-width:0.5;\" x=\"249.726737\" xlink:href=\"#mb6c9780fc6\" y=\"320.522854\"/>\n     <use style=\"fill:#ff0000;stroke:#ff0000;stroke-width:0.5;\" x=\"239.850138\" xlink:href=\"#mb6c9780fc6\" y=\"291.634397\"/>\n     <use style=\"fill:#ff0000;stroke:#ff0000;stroke-width:0.5;\" x=\"232.317138\" xlink:href=\"#mb6c9780fc6\" y=\"313.067768\"/>\n     <use style=\"fill:#ff0000;stroke:#ff0000;stroke-width:0.5;\" x=\"226.792937\" xlink:href=\"#mb6c9780fc6\" y=\"299.089483\"/>\n     <use style=\"fill:#ff0000;stroke:#ff0000;stroke-width:0.5;\" x=\"246.211337\" xlink:href=\"#mb6c9780fc6\" y=\"309.340225\"/>\n     <use style=\"fill:#ff0000;stroke:#ff0000;stroke-width:0.5;\" x=\"273.999737\" xlink:href=\"#mb6c9780fc6\" y=\"305.612683\"/>\n     <use style=\"fill:#ff0000;stroke:#ff0000;stroke-width:0.5;\" x=\"266.131937\" xlink:href=\"#mb6c9780fc6\" y=\"288.83874\"/>\n     <use style=\"fill:#ff0000;stroke:#ff0000;stroke-width:0.5;\" x=\"236.167337\" xlink:href=\"#mb6c9780fc6\" y=\"280.451768\"/>\n     <use style=\"fill:#ff0000;stroke:#ff0000;stroke-width:0.5;\" x=\"327.902537\" xlink:href=\"#mb6c9780fc6\" y=\"264.609711\"/>\n     <use style=\"fill:#ff0000;stroke:#ff0000;stroke-width:0.5;\" x=\"272.242037\" xlink:href=\"#mb6c9780fc6\" y=\"291.634397\"/>\n     <use style=\"fill:#ff0000;stroke:#ff0000;stroke-width:0.5;\" x=\"255.250938\" xlink:href=\"#mb6c9780fc6\" y=\"299.089483\"/>\n     <use style=\"fill:#ff0000;stroke:#ff0000;stroke-width:0.5;\" x=\"209.299638\" xlink:href=\"#mb6c9780fc6\" y=\"312.135883\"/>\n     <use style=\"fill:#ff0000;stroke:#ff0000;stroke-width:0.5;\" x=\"205.951638\" xlink:href=\"#mb6c9780fc6\" y=\"304.680797\"/>\n     <use style=\"fill:#ff0000;stroke:#ff0000;stroke-width:0.5;\" x=\"236.502138\" xlink:href=\"#mb6c9780fc6\" y=\"291.634397\"/>\n     <use style=\"fill:#ff0000;stroke:#ff0000;stroke-width:0.5;\" x=\"218.088138\" xlink:href=\"#mb6c9780fc6\" y=\"244.108225\"/>\n     <use style=\"fill:#ff0000;stroke:#ff0000;stroke-width:0.5;\" x=\"269.982137\" xlink:href=\"#mb6c9780fc6\" y=\"277.656111\"/>\n     <use style=\"fill:#ff0000;stroke:#ff0000;stroke-width:0.5;\" x=\"242.779637\" xlink:href=\"#mb6c9780fc6\" y=\"265.541597\"/>\n     <use style=\"fill:#ff0000;stroke:#ff0000;stroke-width:0.5;\" x=\"237.841338\" xlink:href=\"#mb6c9780fc6\" y=\"248.767654\"/>\n     <use style=\"fill:#ff0000;stroke:#ff0000;stroke-width:0.5;\" x=\"254.246537\" xlink:href=\"#mb6c9780fc6\" y=\"242.244454\"/>\n     <use style=\"fill:#ff0000;stroke:#ff0000;stroke-width:0.5;\" x=\"228.801738\" xlink:href=\"#mb6c9780fc6\" y=\"231.061825\"/>\n     <use style=\"fill:#ff0000;stroke:#ff0000;stroke-width:0.5;\" x=\"191.136738\" xlink:href=\"#mb6c9780fc6\" y=\"245.040111\"/>\n     <use style=\"fill:#ff0000;stroke:#ff0000;stroke-width:0.5;\" x=\"207.290838\" xlink:href=\"#mb6c9780fc6\" y=\"253.427083\"/>\n     <use style=\"fill:#ff0000;stroke:#ff0000;stroke-width:0.5;\" x=\"211.559538\" xlink:href=\"#mb6c9780fc6\" y=\"252.495197\"/>\n     <use style=\"fill:#ff0000;stroke:#ff0000;stroke-width:0.5;\" x=\"205.114638\" xlink:href=\"#mb6c9780fc6\" y=\"252.495197\"/>\n     <use style=\"fill:#ff0000;stroke:#ff0000;stroke-width:0.5;\" x=\"187.286538\" xlink:href=\"#mb6c9780fc6\" y=\"243.17634\"/>\n     <use style=\"fill:#ff0000;stroke:#ff0000;stroke-width:0.5;\" x=\"225.286338\" xlink:href=\"#mb6c9780fc6\" y=\"245.040111\"/>\n     <use style=\"fill:#ff0000;stroke:#ff0000;stroke-width:0.5;\" x=\"230.475737\" xlink:href=\"#mb6c9780fc6\" y=\"247.835768\"/>\n     <use style=\"fill:#ff0000;stroke:#ff0000;stroke-width:0.5;\" x=\"247.885338\" xlink:href=\"#mb6c9780fc6\" y=\"214.287883\"/>\n     <use style=\"fill:#ff0000;stroke:#ff0000;stroke-width:0.5;\" x=\"293.334437\" xlink:href=\"#mb6c9780fc6\" y=\"152.783425\"/>\n     <use style=\"fill:#ff0000;stroke:#ff0000;stroke-width:0.5;\" x=\"163.348337\" xlink:href=\"#mb6c9780fc6\" y=\"301.88514\"/>\n     <use style=\"fill:#ff0000;stroke:#ff0000;stroke-width:0.5;\" x=\"224.867838\" xlink:href=\"#mb6c9780fc6\" y=\"306.544568\"/>\n     <use style=\"fill:#ff0000;stroke:#ff0000;stroke-width:0.5;\" x=\"251.819238\" xlink:href=\"#mb6c9780fc6\" y=\"274.860454\"/>\n     <use style=\"fill:#ff0000;stroke:#ff0000;stroke-width:0.5;\" x=\"153.053238\" xlink:href=\"#mb6c9780fc6\" y=\"318.659083\"/>\n     <use style=\"fill:#ff0000;stroke:#ff0000;stroke-width:0.5;\" x=\"226.792937\" xlink:href=\"#mb6c9780fc6\" y=\"294.430054\"/>\n     <use style=\"fill:#ff0000;stroke:#ff0000;stroke-width:0.5;\" x=\"230.475737\" xlink:href=\"#mb6c9780fc6\" y=\"231.061825\"/>\n     <use style=\"fill:#ff0000;stroke:#ff0000;stroke-width:0.5;\" x=\"231.563838\" xlink:href=\"#mb6c9780fc6\" y=\"216.151654\"/>\n     <use style=\"fill:#ff0000;stroke:#ff0000;stroke-width:0.5;\" x=\"274.083438\" xlink:href=\"#mb6c9780fc6\" y=\"209.628454\"/>\n     <use style=\"fill:#ff0000;stroke:#ff0000;stroke-width:0.5;\" x=\"300.114138\" xlink:href=\"#mb6c9780fc6\" y=\"197.51394\"/>\n     <use style=\"fill:#ff0000;stroke:#ff0000;stroke-width:0.5;\" x=\"191.387837\" xlink:href=\"#mb6c9780fc6\" y=\"227.334283\"/>\n     <use style=\"fill:#ff0000;stroke:#ff0000;stroke-width:0.5;\" x=\"200.511138\" xlink:href=\"#mb6c9780fc6\" y=\"238.516911\"/>\n     <use style=\"fill:#ff0000;stroke:#ff0000;stroke-width:0.5;\" x=\"237.422838\" xlink:href=\"#mb6c9780fc6\" y=\"232.925597\"/>\n     <use style=\"fill:#ff0000;stroke:#ff0000;stroke-width:0.5;\" x=\"220.850237\" xlink:href=\"#mb6c9780fc6\" y=\"252.495197\"/>\n     <use style=\"fill:#ff0000;stroke:#ff0000;stroke-width:0.5;\" x=\"203.356938\" xlink:href=\"#mb6c9780fc6\" y=\"238.516911\"/>\n     <use style=\"fill:#ff0000;stroke:#ff0000;stroke-width:0.5;\" x=\"165.608237\" xlink:href=\"#mb6c9780fc6\" y=\"288.83874\"/>\n     <use style=\"fill:#ff0000;stroke:#ff0000;stroke-width:0.5;\" x=\"162.260237\" xlink:href=\"#mb6c9780fc6\" y=\"365.253368\"/>\n     <use style=\"fill:#ff0000;stroke:#ff0000;stroke-width:0.5;\" x=\"135.392538\" xlink:href=\"#mb6c9780fc6\" y=\"355.002625\"/>\n     <use style=\"fill:#ff0000;stroke:#ff0000;stroke-width:0.5;\" x=\"209.885537\" xlink:href=\"#mb6c9780fc6\" y=\"303.748911\"/>\n     <use style=\"fill:#ff0000;stroke:#ff0000;stroke-width:0.5;\" x=\"209.885537\" xlink:href=\"#mb6c9780fc6\" y=\"243.17634\"/>\n     <use style=\"fill:#ff0000;stroke:#ff0000;stroke-width:0.5;\" x=\"186.784337\" xlink:href=\"#mb6c9780fc6\" y=\"227.334283\"/>\n     <use style=\"fill:#ff0000;stroke:#ff0000;stroke-width:0.5;\" x=\"205.114638\" xlink:href=\"#mb6c9780fc6\" y=\"202.173368\"/>\n     <use style=\"fill:#ff0000;stroke:#ff0000;stroke-width:0.5;\" x=\"183.687437\" xlink:href=\"#mb6c9780fc6\" y=\"215.219768\"/>\n     <use style=\"fill:#ff0000;stroke:#ff0000;stroke-width:0.5;\" x=\"160.251437\" xlink:href=\"#mb6c9780fc6\" y=\"246.903883\"/>\n     <use style=\"fill:#ff0000;stroke:#ff0000;stroke-width:0.5;\" x=\"194.066237\" xlink:href=\"#mb6c9780fc6\" y=\"259.950283\"/>\n     <use style=\"fill:#ff0000;stroke:#ff0000;stroke-width:0.5;\" x=\"212.898737\" xlink:href=\"#mb6c9780fc6\" y=\"232.925597\"/>\n     <use style=\"fill:#ff0000;stroke:#ff0000;stroke-width:0.5;\" x=\"175.233738\" xlink:href=\"#mb6c9780fc6\" y=\"267.405368\"/>\n     <use style=\"fill:#ff0000;stroke:#ff0000;stroke-width:0.5;\" x=\"213.568337\" xlink:href=\"#mb6c9780fc6\" y=\"273.928568\"/>\n     <use style=\"fill:#ff0000;stroke:#ff0000;stroke-width:0.5;\" x=\"260.942538\" xlink:href=\"#mb6c9780fc6\" y=\"221.742968\"/>\n     <use style=\"fill:#ff0000;stroke:#ff0000;stroke-width:0.5;\" x=\"221.352438\" xlink:href=\"#mb6c9780fc6\" y=\"238.516911\"/>\n     <use style=\"fill:#ff0000;stroke:#ff0000;stroke-width:0.5;\" x=\"292.999638\" xlink:href=\"#mb6c9780fc6\" y=\"207.764683\"/>\n     <use style=\"fill:#ff0000;stroke:#ff0000;stroke-width:0.5;\" x=\"277.766237\" xlink:href=\"#mb6c9780fc6\" y=\"225.470511\"/>\n     <use style=\"fill:#ff0000;stroke:#ff0000;stroke-width:0.5;\" x=\"213.819437\" xlink:href=\"#mb6c9780fc6\" y=\"319.590968\"/>\n    </g>\n   </g>\n   <g id=\"patch_3\">\n    <path d=\"M 43.908438 337.296797 \nL 43.908438 11.136797 \n\" style=\"fill:none;stroke:#ffffff;stroke-linecap:square;stroke-linejoin:miter;\"/>\n   </g>\n   <g id=\"patch_4\">\n    <path d=\"M 378.708438 337.296797 \nL 378.708438 11.136797 \n\" style=\"fill:none;stroke:#ffffff;stroke-linecap:square;stroke-linejoin:miter;\"/>\n   </g>\n   <g id=\"patch_5\">\n    <path d=\"M 43.908437 337.296797 \nL 378.708438 337.296797 \n\" style=\"fill:none;stroke:#ffffff;stroke-linecap:square;stroke-linejoin:miter;\"/>\n   </g>\n   <g id=\"patch_6\">\n    <path d=\"M 43.908437 11.136797 \nL 378.708438 11.136797 \n\" style=\"fill:none;stroke:#ffffff;stroke-linecap:square;stroke-linejoin:miter;\"/>\n   </g>\n  </g>\n </g>\n <defs>\n  <clipPath id=\"pb5462ef6cf\">\n   <rect height=\"326.16\" width=\"334.8\" x=\"43.908438\" y=\"11.136797\"/>\n  </clipPath>\n </defs>\n</svg>\n",
      "image/png": "[encoded data removed]"
     },
     "metadata": {}
    }
   ]
  },
  {
   "cell_type": "code",
   "execution_count": 33,
   "metadata": {},
   "outputs": [
    {
     "output_type": "stream",
     "name": "stdout",
     "text": [
      "a value = -34.67062077643857\nb value = [9.10210898]\n"
     ]
    }
   ],
   "source": [
    "linear_regression=linear_model.LinearRegression()\n",
    "linear_regression.fit(X=pd.DataFrame(data_frame['RM']), y=data_frame['Price'])\n",
    "prediction=linear_regression.predict(X=pd.DataFrame(data_frame['RM']))\n",
    "print('a value =', linear_regression.intercept_)\n",
    "print('b value =', linear_regression.coef_)"
   ]
  },
  {
   "cell_type": "code",
   "execution_count": 34,
   "metadata": {},
   "outputs": [
    {
     "output_type": "execute_result",
     "data": {
      "text/plain": [
       "count    5.060000e+02\n",
       "mean     1.899227e-15\n",
       "std      6.609606e+00\n",
       "min     -2.334590e+01\n",
       "25%     -2.547477e+00\n",
       "50%      8.976267e-02\n",
       "75%      2.985532e+00\n",
       "max      3.943314e+01\n",
       "Name: Price, dtype: float64"
      ]
     },
     "metadata": {},
     "execution_count": 34
    }
   ],
   "source": [
    "residuals=data_frame['Price']-prediction\n",
    "residuals.describe()"
   ]
  },
  {
   "cell_type": "code",
   "execution_count": 36,
   "metadata": {},
   "outputs": [
    {
     "output_type": "stream",
     "name": "stdout",
     "text": [
      "R_squared =  0.4835254559913341\n"
     ]
    }
   ],
   "source": [
    "SSE=(residuals**2).sum()\n",
    "SST=((data_frame['Price']-data_frame['Price'].mean())**2).sum()\n",
    "R_squared=1-(SSE/SST)\n",
    "print('R_squared = ', R_squared)"
   ]
  },
  {
   "cell_type": "code",
   "execution_count": 37,
   "metadata": {},
   "outputs": [
    {
     "output_type": "execute_result",
     "data": {
      "text/plain": [
       "[<matplotlib.lines.Line2D at 0x7fe6e41c2100>]"
      ]
     },
     "metadata": {},
     "execution_count": 37
    },
    {
     "output_type": "display_data",
     "data": {
      "text/plain": "<Figure size 432x432 with 1 Axes>",
      "image/svg+xml": "<?xml version=\"1.0\" encoding=\"utf-8\" standalone=\"no\"?>\n<!DOCTYPE svg PUBLIC \"-//W3C//DTD SVG 1.1//EN\"\n  \"http://www.w3.org/Graphics/SVG/1.1/DTD/svg11.dtd\">\n<!-- Created with matplotlib (https://matplotlib.org/) -->\n<svg height=\"379.031016pt\" version=\"1.1\" viewBox=\"0 0 393.553437 379.031016\" width=\"393.553437pt\" xmlns=\"http://www.w3.org/2000/svg\" xmlns:xlink=\"http://www.w3.org/1999/xlink\">\n <metadata>\n  <rdf:RDF xmlns:cc=\"http://creativecommons.org/ns#\" xmlns:dc=\"http://purl.org/dc/elements/1.1/\" xmlns:rdf=\"http://www.w3.org/1999/02/22-rdf-syntax-ns#\">\n   <cc:Work>\n    <dc:type rdf:resource=\"http://purl.org/dc/dcmitype/StillImage\"/>\n    <dc:date>2020-12-01T20:05:37.951493</dc:date>\n    <dc:format>image/svg+xml</dc:format>\n    <dc:creator>\n     <cc:Agent>\n      <dc:title>Matplotlib v3.3.2, https://matplotlib.org/</dc:title>\n     </cc:Agent>\n    </dc:creator>\n   </cc:Work>\n  </rdf:RDF>\n </metadata>\n <defs>\n  <style type=\"text/css\">*{stroke-linecap:butt;stroke-linejoin:round;}</style>\n </defs>\n <g id=\"figure_1\">\n  <g id=\"patch_1\">\n   <path d=\"M 0 379.031016 \nL 393.553437 379.031016 \nL 393.553437 0 \nL 0 0 \nz\n\" style=\"fill:#ffffff;\"/>\n  </g>\n  <g id=\"axes_1\">\n   <g id=\"patch_2\">\n    <path d=\"M 43.908438 337.296797 \nL 378.708438 337.296797 \nL 378.708438 11.136797 \nL 43.908438 11.136797 \nz\n\" style=\"fill:#e5e5e5;\"/>\n   </g>\n   <g id=\"matplotlib.axis_1\">\n    <g id=\"xtick_1\">\n     <g id=\"line2d_1\">\n      <path clip-path=\"url(#p07dee53f93)\" d=\"M 43.908437 337.296797 \nL 43.908437 11.136797 \n\" style=\"fill:none;stroke:#ffffff;stroke-linecap:round;\"/>\n     </g>\n     <g id=\"text_1\">\n      <!-- 4.0 -->\n      <g style=\"fill:#555555;\" transform=\"translate(36.263437 354.670391)scale(0.11 -0.11)\">\n       <defs>\n        <path d=\"M 32.328125 0 \nL 32.328125 17.140625 \nL 1.265625 17.140625 \nL 1.265625 25.203125 \nL 33.9375 71.578125 \nL 41.109375 71.578125 \nL 41.109375 25.203125 \nL 50.78125 25.203125 \nL 50.78125 17.140625 \nL 41.109375 17.140625 \nL 41.109375 0 \nz\nM 32.328125 25.203125 \nL 32.328125 57.46875 \nL 9.90625 25.203125 \nz\n\" id=\"ArialMT-52\"/>\n        <path d=\"M 9.078125 0 \nL 9.078125 10.015625 \nL 19.09375 10.015625 \nL 19.09375 0 \nz\n\" id=\"ArialMT-46\"/>\n        <path d=\"M 4.15625 35.296875 \nQ 4.15625 48 6.765625 55.734375 \nQ 9.375 63.484375 14.515625 67.671875 \nQ 19.671875 71.875 27.484375 71.875 \nQ 33.25 71.875 37.59375 69.546875 \nQ 41.9375 67.234375 44.765625 62.859375 \nQ 47.609375 58.5 49.21875 52.21875 \nQ 50.828125 45.953125 50.828125 35.296875 \nQ 50.828125 22.703125 48.234375 14.96875 \nQ 45.65625 7.234375 40.5 3 \nQ 35.359375 -1.21875 27.484375 -1.21875 \nQ 17.140625 -1.21875 11.234375 6.203125 \nQ 4.15625 15.140625 4.15625 35.296875 \nz\nM 13.1875 35.296875 \nQ 13.1875 17.671875 17.3125 11.828125 \nQ 21.4375 6 27.484375 6 \nQ 33.546875 6 37.671875 11.859375 \nQ 41.796875 17.71875 41.796875 35.296875 \nQ 41.796875 52.984375 37.671875 58.78125 \nQ 33.546875 64.59375 27.390625 64.59375 \nQ 21.34375 64.59375 17.71875 59.46875 \nQ 13.1875 52.9375 13.1875 35.296875 \nz\n\" id=\"ArialMT-48\"/>\n       </defs>\n       <use xlink:href=\"#ArialMT-52\"/>\n       <use x=\"55.615234\" xlink:href=\"#ArialMT-46\"/>\n       <use x=\"83.398438\" xlink:href=\"#ArialMT-48\"/>\n      </g>\n     </g>\n    </g>\n    <g id=\"xtick_2\">\n     <g id=\"line2d_2\">\n      <path clip-path=\"url(#p07dee53f93)\" d=\"M 85.758438 337.296797 \nL 85.758438 11.136797 \n\" style=\"fill:none;stroke:#ffffff;stroke-linecap:round;\"/>\n     </g>\n     <g id=\"text_2\">\n      <!-- 4.5 -->\n      <g style=\"fill:#555555;\" transform=\"translate(78.113438 354.670391)scale(0.11 -0.11)\">\n       <defs>\n        <path d=\"M 4.15625 18.75 \nL 13.375 19.53125 \nQ 14.40625 12.796875 18.140625 9.390625 \nQ 21.875 6 27.15625 6 \nQ 33.5 6 37.890625 10.78125 \nQ 42.28125 15.578125 42.28125 23.484375 \nQ 42.28125 31 38.0625 35.34375 \nQ 33.84375 39.703125 27 39.703125 \nQ 22.75 39.703125 19.328125 37.765625 \nQ 15.921875 35.84375 13.96875 32.765625 \nL 5.71875 33.84375 \nL 12.640625 70.609375 \nL 48.25 70.609375 \nL 48.25 62.203125 \nL 19.671875 62.203125 \nL 15.828125 42.96875 \nQ 22.265625 47.46875 29.34375 47.46875 \nQ 38.71875 47.46875 45.15625 40.96875 \nQ 51.609375 34.46875 51.609375 24.265625 \nQ 51.609375 14.546875 45.953125 7.46875 \nQ 39.0625 -1.21875 27.15625 -1.21875 \nQ 17.390625 -1.21875 11.203125 4.25 \nQ 5.03125 9.71875 4.15625 18.75 \nz\n\" id=\"ArialMT-53\"/>\n       </defs>\n       <use xlink:href=\"#ArialMT-52\"/>\n       <use x=\"55.615234\" xlink:href=\"#ArialMT-46\"/>\n       <use x=\"83.398438\" xlink:href=\"#ArialMT-53\"/>\n      </g>\n     </g>\n    </g>\n    <g id=\"xtick_3\">\n     <g id=\"line2d_3\">\n      <path clip-path=\"url(#p07dee53f93)\" d=\"M 127.608437 337.296797 \nL 127.608437 11.136797 \n\" style=\"fill:none;stroke:#ffffff;stroke-linecap:round;\"/>\n     </g>\n     <g id=\"text_3\">\n      <!-- 5.0 -->\n      <g style=\"fill:#555555;\" transform=\"translate(119.963437 354.670391)scale(0.11 -0.11)\">\n       <use xlink:href=\"#ArialMT-53\"/>\n       <use x=\"55.615234\" xlink:href=\"#ArialMT-46\"/>\n       <use x=\"83.398438\" xlink:href=\"#ArialMT-48\"/>\n      </g>\n     </g>\n    </g>\n    <g id=\"xtick_4\">\n     <g id=\"line2d_4\">\n      <path clip-path=\"url(#p07dee53f93)\" d=\"M 169.458438 337.296797 \nL 169.458438 11.136797 \n\" style=\"fill:none;stroke:#ffffff;stroke-linecap:round;\"/>\n     </g>\n     <g id=\"text_4\">\n      <!-- 5.5 -->\n      <g style=\"fill:#555555;\" transform=\"translate(161.813437 354.670391)scale(0.11 -0.11)\">\n       <use xlink:href=\"#ArialMT-53\"/>\n       <use x=\"55.615234\" xlink:href=\"#ArialMT-46\"/>\n       <use x=\"83.398438\" xlink:href=\"#ArialMT-53\"/>\n      </g>\n     </g>\n    </g>\n    <g id=\"xtick_5\">\n     <g id=\"line2d_5\">\n      <path clip-path=\"url(#p07dee53f93)\" d=\"M 211.308438 337.296797 \nL 211.308438 11.136797 \n\" style=\"fill:none;stroke:#ffffff;stroke-linecap:round;\"/>\n     </g>\n     <g id=\"text_5\">\n      <!-- 6.0 -->\n      <g style=\"fill:#555555;\" transform=\"translate(203.663438 354.670391)scale(0.11 -0.11)\">\n       <defs>\n        <path d=\"M 49.75 54.046875 \nL 41.015625 53.375 \nQ 39.84375 58.546875 37.703125 60.890625 \nQ 34.125 64.65625 28.90625 64.65625 \nQ 24.703125 64.65625 21.53125 62.3125 \nQ 17.390625 59.28125 14.984375 53.46875 \nQ 12.59375 47.65625 12.5 36.921875 \nQ 15.671875 41.75 20.265625 44.09375 \nQ 24.859375 46.4375 29.890625 46.4375 \nQ 38.671875 46.4375 44.84375 39.96875 \nQ 51.03125 33.5 51.03125 23.25 \nQ 51.03125 16.5 48.125 10.71875 \nQ 45.21875 4.9375 40.140625 1.859375 \nQ 35.0625 -1.21875 28.609375 -1.21875 \nQ 17.625 -1.21875 10.6875 6.859375 \nQ 3.765625 14.9375 3.765625 33.5 \nQ 3.765625 54.25 11.421875 63.671875 \nQ 18.109375 71.875 29.4375 71.875 \nQ 37.890625 71.875 43.28125 67.140625 \nQ 48.6875 62.40625 49.75 54.046875 \nz\nM 13.875 23.1875 \nQ 13.875 18.65625 15.796875 14.5 \nQ 17.71875 10.359375 21.1875 8.171875 \nQ 24.65625 6 28.46875 6 \nQ 34.03125 6 38.03125 10.484375 \nQ 42.046875 14.984375 42.046875 22.703125 \nQ 42.046875 30.125 38.078125 34.390625 \nQ 34.125 38.671875 28.125 38.671875 \nQ 22.171875 38.671875 18.015625 34.390625 \nQ 13.875 30.125 13.875 23.1875 \nz\n\" id=\"ArialMT-54\"/>\n       </defs>\n       <use xlink:href=\"#ArialMT-54\"/>\n       <use x=\"55.615234\" xlink:href=\"#ArialMT-46\"/>\n       <use x=\"83.398438\" xlink:href=\"#ArialMT-48\"/>\n      </g>\n     </g>\n    </g>\n    <g id=\"xtick_6\">\n     <g id=\"line2d_6\">\n      <path clip-path=\"url(#p07dee53f93)\" d=\"M 253.158438 337.296797 \nL 253.158438 11.136797 \n\" style=\"fill:none;stroke:#ffffff;stroke-linecap:round;\"/>\n     </g>\n     <g id=\"text_6\">\n      <!-- 6.5 -->\n      <g style=\"fill:#555555;\" transform=\"translate(245.513438 354.670391)scale(0.11 -0.11)\">\n       <use xlink:href=\"#ArialMT-54\"/>\n       <use x=\"55.615234\" xlink:href=\"#ArialMT-46\"/>\n       <use x=\"83.398438\" xlink:href=\"#ArialMT-53\"/>\n      </g>\n     </g>\n    </g>\n    <g id=\"xtick_7\">\n     <g id=\"line2d_7\">\n      <path clip-path=\"url(#p07dee53f93)\" d=\"M 295.008437 337.296797 \nL 295.008437 11.136797 \n\" style=\"fill:none;stroke:#ffffff;stroke-linecap:round;\"/>\n     </g>\n     <g id=\"text_7\">\n      <!-- 7.0 -->\n      <g style=\"fill:#555555;\" transform=\"translate(287.363437 354.670391)scale(0.11 -0.11)\">\n       <defs>\n        <path d=\"M 4.734375 62.203125 \nL 4.734375 70.65625 \nL 51.078125 70.65625 \nL 51.078125 63.8125 \nQ 44.234375 56.546875 37.515625 44.484375 \nQ 30.8125 32.421875 27.15625 19.671875 \nQ 24.515625 10.6875 23.78125 0 \nL 14.75 0 \nQ 14.890625 8.453125 18.0625 20.40625 \nQ 21.234375 32.375 27.171875 43.484375 \nQ 33.109375 54.59375 39.796875 62.203125 \nz\n\" id=\"ArialMT-55\"/>\n       </defs>\n       <use xlink:href=\"#ArialMT-55\"/>\n       <use x=\"55.615234\" xlink:href=\"#ArialMT-46\"/>\n       <use x=\"83.398438\" xlink:href=\"#ArialMT-48\"/>\n      </g>\n     </g>\n    </g>\n    <g id=\"xtick_8\">\n     <g id=\"line2d_8\">\n      <path clip-path=\"url(#p07dee53f93)\" d=\"M 336.858437 337.296797 \nL 336.858437 11.136797 \n\" style=\"fill:none;stroke:#ffffff;stroke-linecap:round;\"/>\n     </g>\n     <g id=\"text_8\">\n      <!-- 7.5 -->\n      <g style=\"fill:#555555;\" transform=\"translate(329.213437 354.670391)scale(0.11 -0.11)\">\n       <use xlink:href=\"#ArialMT-55\"/>\n       <use x=\"55.615234\" xlink:href=\"#ArialMT-46\"/>\n       <use x=\"83.398438\" xlink:href=\"#ArialMT-53\"/>\n      </g>\n     </g>\n    </g>\n    <g id=\"xtick_9\">\n     <g id=\"line2d_9\">\n      <path clip-path=\"url(#p07dee53f93)\" d=\"M 378.708438 337.296797 \nL 378.708438 11.136797 \n\" style=\"fill:none;stroke:#ffffff;stroke-linecap:round;\"/>\n     </g>\n     <g id=\"text_9\">\n      <!-- 8.0 -->\n      <g style=\"fill:#555555;\" transform=\"translate(371.063438 354.670391)scale(0.11 -0.11)\">\n       <defs>\n        <path d=\"M 17.671875 38.8125 \nQ 12.203125 40.828125 9.5625 44.53125 \nQ 6.9375 48.25 6.9375 53.421875 \nQ 6.9375 61.234375 12.546875 66.546875 \nQ 18.171875 71.875 27.484375 71.875 \nQ 36.859375 71.875 42.578125 66.421875 \nQ 48.296875 60.984375 48.296875 53.171875 \nQ 48.296875 48.1875 45.671875 44.5 \nQ 43.0625 40.828125 37.75 38.8125 \nQ 44.34375 36.671875 47.78125 31.875 \nQ 51.21875 27.09375 51.21875 20.453125 \nQ 51.21875 11.28125 44.71875 5.03125 \nQ 38.234375 -1.21875 27.640625 -1.21875 \nQ 17.046875 -1.21875 10.546875 5.046875 \nQ 4.046875 11.328125 4.046875 20.703125 \nQ 4.046875 27.6875 7.59375 32.390625 \nQ 11.140625 37.109375 17.671875 38.8125 \nz\nM 15.921875 53.71875 \nQ 15.921875 48.640625 19.1875 45.40625 \nQ 22.46875 42.1875 27.6875 42.1875 \nQ 32.765625 42.1875 36.015625 45.375 \nQ 39.265625 48.578125 39.265625 53.21875 \nQ 39.265625 58.0625 35.90625 61.359375 \nQ 32.5625 64.65625 27.59375 64.65625 \nQ 22.5625 64.65625 19.234375 61.421875 \nQ 15.921875 58.203125 15.921875 53.71875 \nz\nM 13.09375 20.65625 \nQ 13.09375 16.890625 14.875 13.375 \nQ 16.65625 9.859375 20.171875 7.921875 \nQ 23.6875 6 27.734375 6 \nQ 34.03125 6 38.125 10.046875 \nQ 42.234375 14.109375 42.234375 20.359375 \nQ 42.234375 26.703125 38.015625 30.859375 \nQ 33.796875 35.015625 27.4375 35.015625 \nQ 21.234375 35.015625 17.15625 30.90625 \nQ 13.09375 26.8125 13.09375 20.65625 \nz\n\" id=\"ArialMT-56\"/>\n       </defs>\n       <use xlink:href=\"#ArialMT-56\"/>\n       <use x=\"55.615234\" xlink:href=\"#ArialMT-46\"/>\n       <use x=\"83.398438\" xlink:href=\"#ArialMT-48\"/>\n      </g>\n     </g>\n    </g>\n    <g id=\"text_10\">\n     <!-- RM -->\n     <g style=\"fill:#555555;\" transform=\"translate(201.9775 369.446016)scale(0.12 -0.12)\">\n      <defs>\n       <path d=\"M 7.859375 0 \nL 7.859375 71.578125 \nL 39.59375 71.578125 \nQ 49.171875 71.578125 54.140625 69.640625 \nQ 59.125 67.71875 62.109375 62.828125 \nQ 65.09375 57.953125 65.09375 52.046875 \nQ 65.09375 44.4375 60.15625 39.203125 \nQ 55.21875 33.984375 44.921875 32.5625 \nQ 48.6875 30.765625 50.640625 29 \nQ 54.78125 25.203125 58.5 19.484375 \nL 70.953125 0 \nL 59.03125 0 \nL 49.5625 14.890625 \nQ 45.40625 21.34375 42.71875 24.75 \nQ 40.046875 28.171875 37.921875 29.53125 \nQ 35.796875 30.90625 33.59375 31.453125 \nQ 31.984375 31.78125 28.328125 31.78125 \nL 17.328125 31.78125 \nL 17.328125 0 \nz\nM 17.328125 39.984375 \nL 37.703125 39.984375 \nQ 44.1875 39.984375 47.84375 41.328125 \nQ 51.515625 42.671875 53.421875 45.625 \nQ 55.328125 48.578125 55.328125 52.046875 \nQ 55.328125 57.125 51.640625 60.390625 \nQ 47.953125 63.671875 39.984375 63.671875 \nL 17.328125 63.671875 \nz\n\" id=\"ArialMT-82\"/>\n       <path d=\"M 7.421875 0 \nL 7.421875 71.578125 \nL 21.6875 71.578125 \nL 38.625 20.90625 \nQ 40.96875 13.8125 42.046875 10.296875 \nQ 43.265625 14.203125 45.84375 21.78125 \nL 62.984375 71.578125 \nL 75.734375 71.578125 \nL 75.734375 0 \nL 66.609375 0 \nL 66.609375 59.90625 \nL 45.796875 0 \nL 37.25 0 \nL 16.546875 60.9375 \nL 16.546875 0 \nz\n\" id=\"ArialMT-77\"/>\n      </defs>\n      <use xlink:href=\"#ArialMT-82\"/>\n      <use x=\"72.216797\" xlink:href=\"#ArialMT-77\"/>\n     </g>\n    </g>\n   </g>\n   <g id=\"matplotlib.axis_2\">\n    <g id=\"ytick_1\">\n     <g id=\"line2d_10\">\n      <path clip-path=\"url(#p07dee53f93)\" d=\"M 43.908438 337.296797 \nL 378.708438 337.296797 \n\" style=\"fill:none;stroke:#ffffff;stroke-linecap:round;\"/>\n     </g>\n     <g id=\"text_11\">\n      <!-- 10 -->\n      <g style=\"fill:#555555;\" transform=\"translate(22.174375 341.233594)scale(0.11 -0.11)\">\n       <defs>\n        <path d=\"M 37.25 0 \nL 28.46875 0 \nL 28.46875 56 \nQ 25.296875 52.984375 20.140625 49.953125 \nQ 14.984375 46.921875 10.890625 45.40625 \nL 10.890625 53.90625 \nQ 18.265625 57.375 23.78125 62.296875 \nQ 29.296875 67.234375 31.59375 71.875 \nL 37.25 71.875 \nz\n\" id=\"ArialMT-49\"/>\n       </defs>\n       <use xlink:href=\"#ArialMT-49\"/>\n       <use x=\"55.615234\" xlink:href=\"#ArialMT-48\"/>\n      </g>\n     </g>\n    </g>\n    <g id=\"ytick_2\">\n     <g id=\"line2d_11\">\n      <path clip-path=\"url(#p07dee53f93)\" d=\"M 43.908438 290.702511 \nL 378.708438 290.702511 \n\" style=\"fill:none;stroke:#ffffff;stroke-linecap:round;\"/>\n     </g>\n     <g id=\"text_12\">\n      <!-- 15 -->\n      <g style=\"fill:#555555;\" transform=\"translate(22.174375 294.639308)scale(0.11 -0.11)\">\n       <use xlink:href=\"#ArialMT-49\"/>\n       <use x=\"55.615234\" xlink:href=\"#ArialMT-53\"/>\n      </g>\n     </g>\n    </g>\n    <g id=\"ytick_3\">\n     <g id=\"line2d_12\">\n      <path clip-path=\"url(#p07dee53f93)\" d=\"M 43.908438 244.108225 \nL 378.708438 244.108225 \n\" style=\"fill:none;stroke:#ffffff;stroke-linecap:round;\"/>\n     </g>\n     <g id=\"text_13\">\n      <!-- 20 -->\n      <g style=\"fill:#555555;\" transform=\"translate(22.174375 248.045022)scale(0.11 -0.11)\">\n       <defs>\n        <path d=\"M 50.34375 8.453125 \nL 50.34375 0 \nL 3.03125 0 \nQ 2.9375 3.171875 4.046875 6.109375 \nQ 5.859375 10.9375 9.828125 15.625 \nQ 13.8125 20.3125 21.34375 26.46875 \nQ 33.015625 36.03125 37.109375 41.625 \nQ 41.21875 47.21875 41.21875 52.203125 \nQ 41.21875 57.421875 37.46875 61 \nQ 33.734375 64.59375 27.734375 64.59375 \nQ 21.390625 64.59375 17.578125 60.78125 \nQ 13.765625 56.984375 13.71875 50.25 \nL 4.6875 51.171875 \nQ 5.609375 61.28125 11.65625 66.578125 \nQ 17.71875 71.875 27.9375 71.875 \nQ 38.234375 71.875 44.234375 66.15625 \nQ 50.25 60.453125 50.25 52 \nQ 50.25 47.703125 48.484375 43.546875 \nQ 46.734375 39.40625 42.65625 34.8125 \nQ 38.578125 30.21875 29.109375 22.21875 \nQ 21.1875 15.578125 18.9375 13.203125 \nQ 16.703125 10.84375 15.234375 8.453125 \nz\n\" id=\"ArialMT-50\"/>\n       </defs>\n       <use xlink:href=\"#ArialMT-50\"/>\n       <use x=\"55.615234\" xlink:href=\"#ArialMT-48\"/>\n      </g>\n     </g>\n    </g>\n    <g id=\"ytick_4\">\n     <g id=\"line2d_13\">\n      <path clip-path=\"url(#p07dee53f93)\" d=\"M 43.908438 197.51394 \nL 378.708438 197.51394 \n\" style=\"fill:none;stroke:#ffffff;stroke-linecap:round;\"/>\n     </g>\n     <g id=\"text_14\">\n      <!-- 25 -->\n      <g style=\"fill:#555555;\" transform=\"translate(22.174375 201.450737)scale(0.11 -0.11)\">\n       <use xlink:href=\"#ArialMT-50\"/>\n       <use x=\"55.615234\" xlink:href=\"#ArialMT-53\"/>\n      </g>\n     </g>\n    </g>\n    <g id=\"ytick_5\">\n     <g id=\"line2d_14\">\n      <path clip-path=\"url(#p07dee53f93)\" d=\"M 43.908438 150.919654 \nL 378.708438 150.919654 \n\" style=\"fill:none;stroke:#ffffff;stroke-linecap:round;\"/>\n     </g>\n     <g id=\"text_15\">\n      <!-- 30 -->\n      <g style=\"fill:#555555;\" transform=\"translate(22.174375 154.856451)scale(0.11 -0.11)\">\n       <defs>\n        <path d=\"M 4.203125 18.890625 \nL 12.984375 20.0625 \nQ 14.5 12.59375 18.140625 9.296875 \nQ 21.78125 6 27 6 \nQ 33.203125 6 37.46875 10.296875 \nQ 41.75 14.59375 41.75 20.953125 \nQ 41.75 27 37.796875 30.921875 \nQ 33.84375 34.859375 27.734375 34.859375 \nQ 25.25 34.859375 21.53125 33.890625 \nL 22.515625 41.609375 \nQ 23.390625 41.5 23.921875 41.5 \nQ 29.546875 41.5 34.03125 44.421875 \nQ 38.53125 47.359375 38.53125 53.46875 \nQ 38.53125 58.296875 35.25 61.46875 \nQ 31.984375 64.65625 26.8125 64.65625 \nQ 21.6875 64.65625 18.265625 61.421875 \nQ 14.84375 58.203125 13.875 51.765625 \nL 5.078125 53.328125 \nQ 6.6875 62.15625 12.390625 67.015625 \nQ 18.109375 71.875 26.609375 71.875 \nQ 32.46875 71.875 37.390625 69.359375 \nQ 42.328125 66.84375 44.9375 62.5 \nQ 47.5625 58.15625 47.5625 53.265625 \nQ 47.5625 48.640625 45.0625 44.828125 \nQ 42.578125 41.015625 37.703125 38.765625 \nQ 44.046875 37.3125 47.5625 32.6875 \nQ 51.078125 28.078125 51.078125 21.140625 \nQ 51.078125 11.765625 44.234375 5.25 \nQ 37.40625 -1.265625 26.953125 -1.265625 \nQ 17.53125 -1.265625 11.296875 4.34375 \nQ 5.078125 9.96875 4.203125 18.890625 \nz\n\" id=\"ArialMT-51\"/>\n       </defs>\n       <use xlink:href=\"#ArialMT-51\"/>\n       <use x=\"55.615234\" xlink:href=\"#ArialMT-48\"/>\n      </g>\n     </g>\n    </g>\n    <g id=\"ytick_6\">\n     <g id=\"line2d_15\">\n      <path clip-path=\"url(#p07dee53f93)\" d=\"M 43.908438 104.325368 \nL 378.708438 104.325368 \n\" style=\"fill:none;stroke:#ffffff;stroke-linecap:round;\"/>\n     </g>\n     <g id=\"text_16\">\n      <!-- 35 -->\n      <g style=\"fill:#555555;\" transform=\"translate(22.174375 108.262165)scale(0.11 -0.11)\">\n       <use xlink:href=\"#ArialMT-51\"/>\n       <use x=\"55.615234\" xlink:href=\"#ArialMT-53\"/>\n      </g>\n     </g>\n    </g>\n    <g id=\"ytick_7\">\n     <g id=\"line2d_16\">\n      <path clip-path=\"url(#p07dee53f93)\" d=\"M 43.908438 57.731083 \nL 378.708438 57.731083 \n\" style=\"fill:none;stroke:#ffffff;stroke-linecap:round;\"/>\n     </g>\n     <g id=\"text_17\">\n      <!-- 40 -->\n      <g style=\"fill:#555555;\" transform=\"translate(22.174375 61.667879)scale(0.11 -0.11)\">\n       <use xlink:href=\"#ArialMT-52\"/>\n       <use x=\"55.615234\" xlink:href=\"#ArialMT-48\"/>\n      </g>\n     </g>\n    </g>\n    <g id=\"ytick_8\">\n     <g id=\"line2d_17\">\n      <path clip-path=\"url(#p07dee53f93)\" d=\"M 43.908438 11.136797 \nL 378.708438 11.136797 \n\" style=\"fill:none;stroke:#ffffff;stroke-linecap:round;\"/>\n     </g>\n     <g id=\"text_18\">\n      <!-- 45 -->\n      <g style=\"fill:#555555;\" transform=\"translate(22.174375 15.073594)scale(0.11 -0.11)\">\n       <use xlink:href=\"#ArialMT-52\"/>\n       <use x=\"55.615234\" xlink:href=\"#ArialMT-53\"/>\n      </g>\n     </g>\n    </g>\n    <g id=\"text_19\">\n     <!-- Price -->\n     <g style=\"fill:#555555;\" transform=\"translate(15.789375 187.886484)rotate(-90)scale(0.12 -0.12)\">\n      <defs>\n       <path d=\"M 7.71875 0 \nL 7.71875 71.578125 \nL 34.71875 71.578125 \nQ 41.84375 71.578125 45.609375 70.90625 \nQ 50.875 70.015625 54.4375 67.546875 \nQ 58.015625 65.09375 60.1875 60.640625 \nQ 62.359375 56.203125 62.359375 50.875 \nQ 62.359375 41.75 56.546875 35.421875 \nQ 50.734375 29.109375 35.546875 29.109375 \nL 17.1875 29.109375 \nL 17.1875 0 \nz\nM 17.1875 37.546875 \nL 35.6875 37.546875 \nQ 44.875 37.546875 48.734375 40.96875 \nQ 52.59375 44.390625 52.59375 50.59375 \nQ 52.59375 55.078125 50.3125 58.265625 \nQ 48.046875 61.46875 44.34375 62.5 \nQ 41.9375 63.140625 35.5 63.140625 \nL 17.1875 63.140625 \nz\n\" id=\"ArialMT-80\"/>\n       <path d=\"M 6.5 0 \nL 6.5 51.859375 \nL 14.40625 51.859375 \nL 14.40625 44 \nQ 17.4375 49.515625 20 51.265625 \nQ 22.5625 53.03125 25.640625 53.03125 \nQ 30.078125 53.03125 34.671875 50.203125 \nL 31.640625 42.046875 \nQ 28.421875 43.953125 25.203125 43.953125 \nQ 22.3125 43.953125 20.015625 42.21875 \nQ 17.71875 40.484375 16.75 37.40625 \nQ 15.28125 32.71875 15.28125 27.15625 \nL 15.28125 0 \nz\n\" id=\"ArialMT-114\"/>\n       <path d=\"M 6.640625 61.46875 \nL 6.640625 71.578125 \nL 15.4375 71.578125 \nL 15.4375 61.46875 \nz\nM 6.640625 0 \nL 6.640625 51.859375 \nL 15.4375 51.859375 \nL 15.4375 0 \nz\n\" id=\"ArialMT-105\"/>\n       <path d=\"M 40.4375 19 \nL 49.078125 17.875 \nQ 47.65625 8.9375 41.8125 3.875 \nQ 35.984375 -1.171875 27.484375 -1.171875 \nQ 16.84375 -1.171875 10.375 5.78125 \nQ 3.90625 12.75 3.90625 25.734375 \nQ 3.90625 34.125 6.6875 40.421875 \nQ 9.46875 46.734375 15.15625 49.875 \nQ 20.84375 53.03125 27.546875 53.03125 \nQ 35.984375 53.03125 41.359375 48.75 \nQ 46.734375 44.484375 48.25 36.625 \nL 39.703125 35.296875 \nQ 38.484375 40.53125 35.375 43.15625 \nQ 32.28125 45.796875 27.875 45.796875 \nQ 21.234375 45.796875 17.078125 41.03125 \nQ 12.9375 36.28125 12.9375 25.984375 \nQ 12.9375 15.53125 16.9375 10.796875 \nQ 20.953125 6.0625 27.390625 6.0625 \nQ 32.5625 6.0625 36.03125 9.234375 \nQ 39.5 12.40625 40.4375 19 \nz\n\" id=\"ArialMT-99\"/>\n       <path d=\"M 42.09375 16.703125 \nL 51.171875 15.578125 \nQ 49.03125 7.625 43.21875 3.21875 \nQ 37.40625 -1.171875 28.375 -1.171875 \nQ 17 -1.171875 10.328125 5.828125 \nQ 3.65625 12.84375 3.65625 25.484375 \nQ 3.65625 38.578125 10.390625 45.796875 \nQ 17.140625 53.03125 27.875 53.03125 \nQ 38.28125 53.03125 44.875 45.953125 \nQ 51.46875 38.875 51.46875 26.03125 \nQ 51.46875 25.25 51.421875 23.6875 \nL 12.75 23.6875 \nQ 13.234375 15.140625 17.578125 10.59375 \nQ 21.921875 6.0625 28.421875 6.0625 \nQ 33.25 6.0625 36.671875 8.59375 \nQ 40.09375 11.140625 42.09375 16.703125 \nz\nM 13.234375 30.90625 \nL 42.1875 30.90625 \nQ 41.609375 37.453125 38.875 40.71875 \nQ 34.671875 45.796875 27.984375 45.796875 \nQ 21.921875 45.796875 17.796875 41.75 \nQ 13.671875 37.703125 13.234375 30.90625 \nz\n\" id=\"ArialMT-101\"/>\n      </defs>\n      <use xlink:href=\"#ArialMT-80\"/>\n      <use x=\"66.699219\" xlink:href=\"#ArialMT-114\"/>\n      <use x=\"100\" xlink:href=\"#ArialMT-105\"/>\n      <use x=\"122.216797\" xlink:href=\"#ArialMT-99\"/>\n      <use x=\"172.216797\" xlink:href=\"#ArialMT-101\"/>\n     </g>\n    </g>\n   </g>\n   <g id=\"PathCollection_1\">\n    <defs>\n     <path d=\"M 0 2.236068 \nC 0.593012 2.236068 1.161816 2.000462 1.581139 1.581139 \nC 2.000462 1.161816 2.236068 0.593012 2.236068 0 \nC 2.236068 -0.593012 2.000462 -1.161816 1.581139 -1.581139 \nC 1.161816 -2.000462 0.593012 -2.236068 0 -2.236068 \nC -0.593012 -2.236068 -1.161816 -2.000462 -1.581139 -1.581139 \nC -2.000462 -1.161816 -2.236068 -0.593012 -2.236068 0 \nC -2.236068 0.593012 -2.000462 1.161816 -1.581139 1.581139 \nC -1.161816 2.000462 -0.593012 2.236068 0 2.236068 \nz\n\" id=\"m33b9794b44\" style=\"stroke:#ff0000;stroke-width:0.5;\"/>\n    </defs>\n    <g clip-path=\"url(#p07dee53f93)\">\n     <use style=\"fill:#ff0000;stroke:#ff0000;stroke-width:0.5;\" x=\"259.435937\" xlink:href=\"#m33b9794b44\" y=\"206.832797\"/>\n     <use style=\"fill:#ff0000;stroke:#ff0000;stroke-width:0.5;\" x=\"246.546138\" xlink:href=\"#m33b9794b44\" y=\"229.198054\"/>\n     <use style=\"fill:#ff0000;stroke:#ff0000;stroke-width:0.5;\" x=\"310.492937\" xlink:href=\"#m33b9794b44\" y=\"107.121025\"/>\n     <use style=\"fill:#ff0000;stroke:#ff0000;stroke-width:0.5;\" x=\"294.841038\" xlink:href=\"#m33b9794b44\" y=\"119.23554\"/>\n     <use style=\"fill:#ff0000;stroke:#ff0000;stroke-width:0.5;\" x=\"307.312338\" xlink:href=\"#m33b9794b44\" y=\"93.14274\"/>\n     <use style=\"fill:#ff0000;stroke:#ff0000;stroke-width:0.5;\" x=\"247.299438\" xlink:href=\"#m33b9794b44\" y=\"163.034168\"/>\n     <use style=\"fill:#ff0000;stroke:#ff0000;stroke-width:0.5;\" x=\"212.312837\" xlink:href=\"#m33b9794b44\" y=\"217.08354\"/>\n     <use style=\"fill:#ff0000;stroke:#ff0000;stroke-width:0.5;\" x=\"225.704837\" xlink:href=\"#m33b9794b44\" y=\"177.94434\"/>\n     <use style=\"fill:#ff0000;stroke:#ff0000;stroke-width:0.5;\" x=\"180.423137\" xlink:href=\"#m33b9794b44\" y=\"276.724225\"/>\n     <use style=\"fill:#ff0000;stroke:#ff0000;stroke-width:0.5;\" x=\"211.643237\" xlink:href=\"#m33b9794b44\" y=\"254.358968\"/>\n     <use style=\"fill:#ff0000;stroke:#ff0000;stroke-width:0.5;\" x=\"242.863338\" xlink:href=\"#m33b9794b44\" y=\"290.702511\"/>\n     <use style=\"fill:#ff0000;stroke:#ff0000;stroke-width:0.5;\" x=\"212.061738\" xlink:href=\"#m33b9794b44\" y=\"254.358968\"/>\n     <use style=\"fill:#ff0000;stroke:#ff0000;stroke-width:0.5;\" x=\"202.017738\" xlink:href=\"#m33b9794b44\" y=\"228.266168\"/>\n     <use style=\"fill:#ff0000;stroke:#ff0000;stroke-width:0.5;\" x=\"207.039738\" xlink:href=\"#m33b9794b44\" y=\"240.380683\"/>\n     <use style=\"fill:#ff0000;stroke:#ff0000;stroke-width:0.5;\" x=\"219.343637\" xlink:href=\"#m33b9794b44\" y=\"260.882168\"/>\n     <use style=\"fill:#ff0000;stroke:#ff0000;stroke-width:0.5;\" x=\"197.414237\" xlink:href=\"#m33b9794b44\" y=\"245.040111\"/>\n     <use style=\"fill:#ff0000;stroke:#ff0000;stroke-width:0.5;\" x=\"205.867937\" xlink:href=\"#m33b9794b44\" y=\"215.219768\"/>\n     <use style=\"fill:#ff0000;stroke:#ff0000;stroke-width:0.5;\" x=\"210.471438\" xlink:href=\"#m33b9794b44\" y=\"267.405368\"/>\n     <use style=\"fill:#ff0000;stroke:#ff0000;stroke-width:0.5;\" x=\"165.775638\" xlink:href=\"#m33b9794b44\" y=\"242.244454\"/>\n     <use style=\"fill:#ff0000;stroke:#ff0000;stroke-width:0.5;\" x=\"188.458338\" xlink:href=\"#m33b9794b44\" y=\"260.882168\"/>\n     <use style=\"fill:#ff0000;stroke:#ff0000;stroke-width:0.5;\" x=\"175.317438\" xlink:href=\"#m33b9794b44\" y=\"303.748911\"/>\n     <use style=\"fill:#ff0000;stroke:#ff0000;stroke-width:0.5;\" x=\"208.378938\" xlink:href=\"#m33b9794b44\" y=\"247.835768\"/>\n     <use style=\"fill:#ff0000;stroke:#ff0000;stroke-width:0.5;\" x=\"223.193838\" xlink:href=\"#m33b9794b44\" y=\"288.83874\"/>\n     <use style=\"fill:#ff0000;stroke:#ff0000;stroke-width:0.5;\" x=\"195.656537\" xlink:href=\"#m33b9794b44\" y=\"295.36194\"/>\n     <use style=\"fill:#ff0000;stroke:#ff0000;stroke-width:0.5;\" x=\"204.947238\" xlink:href=\"#m33b9794b44\" y=\"285.111197\"/>\n     <use style=\"fill:#ff0000;stroke:#ff0000;stroke-width:0.5;\" x=\"177.744737\" xlink:href=\"#m33b9794b44\" y=\"300.953254\"/>\n     <use style=\"fill:#ff0000;stroke:#ff0000;stroke-width:0.5;\" x=\"195.656537\" xlink:href=\"#m33b9794b44\" y=\"275.79234\"/>\n     <use style=\"fill:#ff0000;stroke:#ff0000;stroke-width:0.5;\" x=\"215.242337\" xlink:href=\"#m33b9794b44\" y=\"292.566283\"/>\n     <use style=\"fill:#ff0000;stroke:#ff0000;stroke-width:0.5;\" x=\"252.739938\" xlink:href=\"#m33b9794b44\" y=\"259.018397\"/>\n     <use style=\"fill:#ff0000;stroke:#ff0000;stroke-width:0.5;\" x=\"267.722238\" xlink:href=\"#m33b9794b44\" y=\"234.789368\"/>\n     <use style=\"fill:#ff0000;stroke:#ff0000;stroke-width:0.5;\" x=\"187.286538\" xlink:href=\"#m33b9794b44\" y=\"312.135883\"/>\n     <use style=\"fill:#ff0000;stroke:#ff0000;stroke-width:0.5;\" x=\"217.334837\" xlink:href=\"#m33b9794b44\" y=\"295.36194\"/>\n     <use style=\"fill:#ff0000;stroke:#ff0000;stroke-width:0.5;\" x=\"207.123438\" xlink:href=\"#m33b9794b44\" y=\"307.476454\"/>\n     <use style=\"fill:#ff0000;stroke:#ff0000;stroke-width:0.5;\" x=\"186.282137\" xlink:href=\"#m33b9794b44\" y=\"308.40834\"/>\n     <use style=\"fill:#ff0000;stroke:#ff0000;stroke-width:0.5;\" x=\"219.343637\" xlink:href=\"#m33b9794b44\" y=\"304.680797\"/>\n     <use style=\"fill:#ff0000;stroke:#ff0000;stroke-width:0.5;\" x=\"205.700537\" xlink:href=\"#m33b9794b44\" y=\"254.358968\"/>\n     <use style=\"fill:#ff0000;stroke:#ff0000;stroke-width:0.5;\" x=\"198.000137\" xlink:href=\"#m33b9794b44\" y=\"244.108225\"/>\n     <use style=\"fill:#ff0000;stroke:#ff0000;stroke-width:0.5;\" x=\"198.753437\" xlink:href=\"#m33b9794b44\" y=\"234.789368\"/>\n     <use style=\"fill:#ff0000;stroke:#ff0000;stroke-width:0.5;\" x=\"208.462638\" xlink:href=\"#m33b9794b44\" y=\"200.309597\"/>\n     <use style=\"fill:#ff0000;stroke:#ff0000;stroke-width:0.5;\" x=\"261.109937\" xlink:href=\"#m33b9794b44\" y=\"143.464568\"/>\n     <use style=\"fill:#ff0000;stroke:#ff0000;stroke-width:0.5;\" x=\"297.017238\" xlink:href=\"#m33b9794b44\" y=\"105.257254\"/>\n     <use style=\"fill:#ff0000;stroke:#ff0000;stroke-width:0.5;\" x=\"275.757437\" xlink:href=\"#m33b9794b44\" y=\"182.603768\"/>\n     <use style=\"fill:#ff0000;stroke:#ff0000;stroke-width:0.5;\" x=\"225.453737\" xlink:href=\"#m33b9794b44\" y=\"194.718283\"/>\n     <use style=\"fill:#ff0000;stroke:#ff0000;stroke-width:0.5;\" x=\"228.969138\" xlink:href=\"#m33b9794b44\" y=\"200.309597\"/>\n     <use style=\"fill:#ff0000;stroke:#ff0000;stroke-width:0.5;\" x=\"217.083737\" xlink:href=\"#m33b9794b44\" y=\"232.925597\"/>\n     <use style=\"fill:#ff0000;stroke:#ff0000;stroke-width:0.5;\" x=\"184.691838\" xlink:href=\"#m33b9794b44\" y=\"250.631425\"/>\n     <use style=\"fill:#ff0000;stroke:#ff0000;stroke-width:0.5;\" x=\"193.396637\" xlink:href=\"#m33b9794b44\" y=\"244.108225\"/>\n     <use style=\"fill:#ff0000;stroke:#ff0000;stroke-width:0.5;\" x=\"213.819437\" xlink:href=\"#m33b9794b44\" y=\"275.79234\"/>\n     <use style=\"fill:#ff0000;stroke:#ff0000;stroke-width:0.5;\" x=\"161.004737\" xlink:href=\"#m33b9794b44\" y=\"296.293825\"/>\n     <use style=\"fill:#ff0000;stroke:#ff0000;stroke-width:0.5;\" x=\"177.995837\" xlink:href=\"#m33b9794b44\" y=\"249.69954\"/>\n     <use style=\"fill:#ff0000;stroke:#ff0000;stroke-width:0.5;\" x=\"208.211538\" xlink:href=\"#m33b9794b44\" y=\"246.903883\"/>\n     <use style=\"fill:#ff0000;stroke:#ff0000;stroke-width:0.5;\" x=\"220.933938\" xlink:href=\"#m33b9794b44\" y=\"239.448797\"/>\n     <use style=\"fill:#ff0000;stroke:#ff0000;stroke-width:0.5;\" x=\"254.079138\" xlink:href=\"#m33b9794b44\" y=\"197.51394\"/>\n     <use style=\"fill:#ff0000;stroke:#ff0000;stroke-width:0.5;\" x=\"211.141038\" xlink:href=\"#m33b9794b44\" y=\"212.424111\"/>\n     <use style=\"fill:#ff0000;stroke:#ff0000;stroke-width:0.5;\" x=\"201.934037\" xlink:href=\"#m33b9794b44\" y=\"254.358968\"/>\n     <use style=\"fill:#ff0000;stroke:#ff0000;stroke-width:0.5;\" x=\"315.849738\" xlink:href=\"#m33b9794b44\" y=\"100.597825\"/>\n     <use style=\"fill:#ff0000;stroke:#ff0000;stroke-width:0.5;\" x=\"243.365538\" xlink:href=\"#m33b9794b44\" y=\"200.309597\"/>\n     <use style=\"fill:#ff0000;stroke:#ff0000;stroke-width:0.5;\" x=\"279.607637\" xlink:href=\"#m33b9794b44\" y=\"136.009483\"/>\n     <use style=\"fill:#ff0000;stroke:#ff0000;stroke-width:0.5;\" x=\"223.444937\" xlink:href=\"#m33b9794b44\" y=\"213.355997\"/>\n     <use style=\"fill:#ff0000;stroke:#ff0000;stroke-width:0.5;\" x=\"205.198337\" xlink:href=\"#m33b9794b44\" y=\"247.835768\"/>\n     <use style=\"fill:#ff0000;stroke:#ff0000;stroke-width:0.5;\" x=\"189.630137\" xlink:href=\"#m33b9794b44\" y=\"256.22274\"/>\n     <use style=\"fill:#ff0000;stroke:#ff0000;stroke-width:0.5;\" x=\"208.462638\" xlink:href=\"#m33b9794b44\" y=\"281.383654\"/>\n     <use style=\"fill:#ff0000;stroke:#ff0000;stroke-width:0.5;\" x=\"249.475638\" xlink:href=\"#m33b9794b44\" y=\"223.60674\"/>\n     <use style=\"fill:#ff0000;stroke:#ff0000;stroke-width:0.5;\" x=\"275.087837\" xlink:href=\"#m33b9794b44\" y=\"197.51394\"/>\n     <use style=\"fill:#ff0000;stroke:#ff0000;stroke-width:0.5;\" x=\"303.713238\" xlink:href=\"#m33b9794b44\" y=\"122.963083\"/>\n     <use style=\"fill:#ff0000;stroke:#ff0000;stroke-width:0.5;\" x=\"235.581438\" xlink:href=\"#m33b9794b44\" y=\"211.492225\"/>\n     <use style=\"fill:#ff0000;stroke:#ff0000;stroke-width:0.5;\" x=\"193.480337\" xlink:href=\"#m33b9794b44\" y=\"249.69954\"/>\n     <use style=\"fill:#ff0000;stroke:#ff0000;stroke-width:0.5;\" x=\"201.097037\" xlink:href=\"#m33b9794b44\" y=\"225.470511\"/>\n     <use style=\"fill:#ff0000;stroke:#ff0000;stroke-width:0.5;\" x=\"177.326238\" xlink:href=\"#m33b9794b44\" y=\"268.337254\"/>\n     <use style=\"fill:#ff0000;stroke:#ff0000;stroke-width:0.5;\" x=\"201.682937\" xlink:href=\"#m33b9794b44\" y=\"235.721254\"/>\n     <use style=\"fill:#ff0000;stroke:#ff0000;stroke-width:0.5;\" x=\"246.211337\" xlink:href=\"#m33b9794b44\" y=\"204.969025\"/>\n     <use style=\"fill:#ff0000;stroke:#ff0000;stroke-width:0.5;\" x=\"208.044138\" xlink:href=\"#m33b9794b44\" y=\"228.266168\"/>\n     <use style=\"fill:#ff0000;stroke:#ff0000;stroke-width:0.5;\" x=\"216.748938\" xlink:href=\"#m33b9794b44\" y=\"218.015425\"/>\n     <use style=\"fill:#ff0000;stroke:#ff0000;stroke-width:0.5;\" x=\"231.814937\" xlink:href=\"#m33b9794b44\" y=\"212.424111\"/>\n     <use style=\"fill:#ff0000;stroke:#ff0000;stroke-width:0.5;\" x=\"234.158538\" xlink:href=\"#m33b9794b44\" y=\"205.900911\"/>\n     <use style=\"fill:#ff0000;stroke:#ff0000;stroke-width:0.5;\" x=\"235.246637\" xlink:href=\"#m33b9794b44\" y=\"231.061825\"/>\n     <use style=\"fill:#ff0000;stroke:#ff0000;stroke-width:0.5;\" x=\"234.660738\" xlink:href=\"#m33b9794b44\" y=\"244.108225\"/>\n     <use style=\"fill:#ff0000;stroke:#ff0000;stroke-width:0.5;\" x=\"223.026437\" xlink:href=\"#m33b9794b44\" y=\"236.65314\"/>\n     <use style=\"fill:#ff0000;stroke:#ff0000;stroke-width:0.5;\" x=\"230.726838\" xlink:href=\"#m33b9794b44\" y=\"232.925597\"/>\n     <use style=\"fill:#ff0000;stroke:#ff0000;stroke-width:0.5;\" x=\"200.762237\" xlink:href=\"#m33b9794b44\" y=\"241.312568\"/>\n     <use style=\"fill:#ff0000;stroke:#ff0000;stroke-width:0.5;\" x=\"272.158338\" xlink:href=\"#m33b9794b44\" y=\"169.557368\"/>\n     <use style=\"fill:#ff0000;stroke:#ff0000;stroke-width:0.5;\" x=\"263.118738\" xlink:href=\"#m33b9794b44\" y=\"207.764683\"/>\n     <use style=\"fill:#ff0000;stroke:#ff0000;stroke-width:0.5;\" x=\"236.585837\" xlink:href=\"#m33b9794b44\" y=\"199.377711\"/>\n     <use style=\"fill:#ff0000;stroke:#ff0000;stroke-width:0.5;\" x=\"225.286338\" xlink:href=\"#m33b9794b44\" y=\"217.08354\"/>\n     <use style=\"fill:#ff0000;stroke:#ff0000;stroke-width:0.5;\" x=\"243.867738\" xlink:href=\"#m33b9794b44\" y=\"207.764683\"/>\n     <use style=\"fill:#ff0000;stroke:#ff0000;stroke-width:0.5;\" x=\"264.039438\" xlink:href=\"#m33b9794b44\" y=\"182.603768\"/>\n     <use style=\"fill:#ff0000;stroke:#ff0000;stroke-width:0.5;\" x=\"212.563937\" xlink:href=\"#m33b9794b44\" y=\"220.811083\"/>\n     <use style=\"fill:#ff0000;stroke:#ff0000;stroke-width:0.5;\" x=\"221.436138\" xlink:href=\"#m33b9794b44\" y=\"223.60674\"/>\n     <use style=\"fill:#ff0000;stroke:#ff0000;stroke-width:0.5;\" x=\"295.594337\" xlink:href=\"#m33b9794b44\" y=\"210.56034\"/>\n     <use style=\"fill:#ff0000;stroke:#ff0000;stroke-width:0.5;\" x=\"301.620737\" xlink:href=\"#m33b9794b44\" y=\"163.034168\"/>\n     <use style=\"fill:#ff0000;stroke:#ff0000;stroke-width:0.5;\" x=\"246.211337\" xlink:href=\"#m33b9794b44\" y=\"219.879197\"/>\n     <use style=\"fill:#ff0000;stroke:#ff0000;stroke-width:0.5;\" x=\"245.206938\" xlink:href=\"#m33b9794b44\" y=\"225.470511\"/>\n     <use style=\"fill:#ff0000;stroke:#ff0000;stroke-width:0.5;\" x=\"248.303838\" xlink:href=\"#m33b9794b44\" y=\"217.08354\"/>\n     <use style=\"fill:#ff0000;stroke:#ff0000;stroke-width:0.5;\" x=\"228.969138\" xlink:href=\"#m33b9794b44\" y=\"197.51394\"/>\n     <use style=\"fill:#ff0000;stroke:#ff0000;stroke-width:0.5;\" x=\"232.149737\" xlink:href=\"#m33b9794b44\" y=\"238.516911\"/>\n     <use style=\"fill:#ff0000;stroke:#ff0000;stroke-width:0.5;\" x=\"263.620938\" xlink:href=\"#m33b9794b44\" y=\"165.829825\"/>\n     <use style=\"fill:#ff0000;stroke:#ff0000;stroke-width:0.5;\" x=\"224.951538\" xlink:href=\"#m33b9794b44\" y=\"231.061825\"/>\n     <use style=\"fill:#ff0000;stroke:#ff0000;stroke-width:0.5;\" x=\"384.483738\" xlink:href=\"#m33b9794b44\" y=\"69.845597\"/>\n     <use style=\"fill:#ff0000;stroke:#ff0000;stroke-width:0.5;\" x=\"363.642437\" xlink:href=\"#m33b9794b44\" y=\"22.319425\"/>\n     <use style=\"fill:#ff0000;stroke:#ff0000;stroke-width:0.5;\" x=\"329.827637\" xlink:href=\"#m33b9794b44\" y=\"121.099311\"/>\n     <use style=\"fill:#ff0000;stroke:#ff0000;stroke-width:0.5;\" x=\"272.158338\" xlink:href=\"#m33b9794b44\" y=\"174.216797\"/>\n     <use style=\"fill:#ff0000;stroke:#ff0000;stroke-width:0.5;\" x=\"276.678137\" xlink:href=\"#m33b9794b44\" y=\"183.535654\"/>\n     <use style=\"fill:#ff0000;stroke:#ff0000;stroke-width:0.5;\" x=\"245.206938\" xlink:href=\"#m33b9794b44\" y=\"257.154625\"/>\n     <use style=\"fill:#ff0000;stroke:#ff0000;stroke-width:0.5;\" x=\"222.775337\" xlink:href=\"#m33b9794b44\" y=\"250.631425\"/>\n     <use style=\"fill:#ff0000;stroke:#ff0000;stroke-width:0.5;\" x=\"225.286338\" xlink:href=\"#m33b9794b44\" y=\"243.17634\"/>\n     <use style=\"fill:#ff0000;stroke:#ff0000;stroke-width:0.5;\" x=\"198.837137\" xlink:href=\"#m33b9794b44\" y=\"248.767654\"/>\n     <use style=\"fill:#ff0000;stroke:#ff0000;stroke-width:0.5;\" x=\"197.581637\" xlink:href=\"#m33b9794b44\" y=\"248.767654\"/>\n     <use style=\"fill:#ff0000;stroke:#ff0000;stroke-width:0.5;\" x=\"221.938337\" xlink:href=\"#m33b9794b44\" y=\"240.380683\"/>\n     <use style=\"fill:#ff0000;stroke:#ff0000;stroke-width:0.5;\" x=\"250.982238\" xlink:href=\"#m33b9794b44\" y=\"245.971997\"/>\n     <use style=\"fill:#ff0000;stroke:#ff0000;stroke-width:0.5;\" x=\"230.475737\" xlink:href=\"#m33b9794b44\" y=\"249.69954\"/>\n     <use style=\"fill:#ff0000;stroke:#ff0000;stroke-width:0.5;\" x=\"227.629938\" xlink:href=\"#m33b9794b44\" y=\"228.266168\"/>\n     <use style=\"fill:#ff0000;stroke:#ff0000;stroke-width:0.5;\" x=\"271.153938\" xlink:href=\"#m33b9794b44\" y=\"218.015425\"/>\n     <use style=\"fill:#ff0000;stroke:#ff0000;stroke-width:0.5;\" x=\"204.026538\" xlink:href=\"#m33b9794b44\" y=\"255.290854\"/>\n     <use style=\"fill:#ff0000;stroke:#ff0000;stroke-width:0.5;\" x=\"219.008837\" xlink:href=\"#m33b9794b44\" y=\"256.22274\"/>\n     <use style=\"fill:#ff0000;stroke:#ff0000;stroke-width:0.5;\" x=\"232.568237\" xlink:href=\"#m33b9794b44\" y=\"258.086511\"/>\n     <use style=\"fill:#ff0000;stroke:#ff0000;stroke-width:0.5;\" x=\"205.282038\" xlink:href=\"#m33b9794b44\" y=\"259.950283\"/>\n     <use style=\"fill:#ff0000;stroke:#ff0000;stroke-width:0.5;\" x=\"226.039637\" xlink:href=\"#m33b9794b44\" y=\"232.925597\"/>\n     <use style=\"fill:#ff0000;stroke:#ff0000;stroke-width:0.5;\" x=\"213.066137\" xlink:href=\"#m33b9794b44\" y=\"251.563311\"/>\n     <use style=\"fill:#ff0000;stroke:#ff0000;stroke-width:0.5;\" x=\"200.594837\" xlink:href=\"#m33b9794b44\" y=\"240.380683\"/>\n     <use style=\"fill:#ff0000;stroke:#ff0000;stroke-width:0.5;\" x=\"188.793138\" xlink:href=\"#m33b9794b44\" y=\"250.631425\"/>\n     <use style=\"fill:#ff0000;stroke:#ff0000;stroke-width:0.5;\" x=\"200.427437\" xlink:href=\"#m33b9794b44\" y=\"225.470511\"/>\n     <use style=\"fill:#ff0000;stroke:#ff0000;stroke-width:0.5;\" x=\"211.643237\" xlink:href=\"#m33b9794b44\" y=\"241.312568\"/>\n     <use style=\"fill:#ff0000;stroke:#ff0000;stroke-width:0.5;\" x=\"208.044138\" xlink:href=\"#m33b9794b44\" y=\"239.448797\"/>\n     <use style=\"fill:#ff0000;stroke:#ff0000;stroke-width:0.5;\" x=\"199.255637\" xlink:href=\"#m33b9794b44\" y=\"269.26914\"/>\n     <use style=\"fill:#ff0000;stroke:#ff0000;stroke-width:0.5;\" x=\"201.180737\" xlink:href=\"#m33b9794b44\" y=\"255.290854\"/>\n     <use style=\"fill:#ff0000;stroke:#ff0000;stroke-width:0.5;\" x=\"210.136637\" xlink:href=\"#m33b9794b44\" y=\"231.061825\"/>\n     <use style=\"fill:#ff0000;stroke:#ff0000;stroke-width:0.5;\" x=\"178.916538\" xlink:href=\"#m33b9794b44\" y=\"284.179311\"/>\n     <use style=\"fill:#ff0000;stroke:#ff0000;stroke-width:0.5;\" x=\"185.612537\" xlink:href=\"#m33b9794b44\" y=\"279.519883\"/>\n     <use style=\"fill:#ff0000;stroke:#ff0000;stroke-width:0.5;\" x=\"247.383138\" xlink:href=\"#m33b9794b44\" y=\"262.74594\"/>\n     <use style=\"fill:#ff0000;stroke:#ff0000;stroke-width:0.5;\" x=\"180.925337\" xlink:href=\"#m33b9794b44\" y=\"297.225711\"/>\n     <use style=\"fill:#ff0000;stroke:#ff0000;stroke-width:0.5;\" x=\"249.643038\" xlink:href=\"#m33b9794b44\" y=\"251.563311\"/>\n     <use style=\"fill:#ff0000;stroke:#ff0000;stroke-width:0.5;\" x=\"238.594637\" xlink:href=\"#m33b9794b44\" y=\"247.835768\"/>\n     <use style=\"fill:#ff0000;stroke:#ff0000;stroke-width:0.5;\" x=\"242.444838\" xlink:href=\"#m33b9794b44\" y=\"216.151654\"/>\n     <use style=\"fill:#ff0000;stroke:#ff0000;stroke-width:0.5;\" x=\"196.409837\" xlink:href=\"#m33b9794b44\" y=\"259.018397\"/>\n     <use style=\"fill:#ff0000;stroke:#ff0000;stroke-width:0.5;\" x=\"190.969337\" xlink:href=\"#m33b9794b44\" y=\"285.111197\"/>\n     <use style=\"fill:#ff0000;stroke:#ff0000;stroke-width:0.5;\" x=\"239.347938\" xlink:href=\"#m33b9794b44\" y=\"261.814054\"/>\n     <use style=\"fill:#ff0000;stroke:#ff0000;stroke-width:0.5;\" x=\"206.453838\" xlink:href=\"#m33b9794b44\" y=\"268.337254\"/>\n     <use style=\"fill:#ff0000;stroke:#ff0000;stroke-width:0.5;\" x=\"249.308237\" xlink:href=\"#m33b9794b44\" y=\"271.132911\"/>\n     <use style=\"fill:#ff0000;stroke:#ff0000;stroke-width:0.5;\" x=\"199.339337\" xlink:href=\"#m33b9794b44\" y=\"306.544568\"/>\n     <use style=\"fill:#ff0000;stroke:#ff0000;stroke-width:0.5;\" x=\"223.947137\" xlink:href=\"#m33b9794b44\" y=\"264.609711\"/>\n     <use style=\"fill:#ff0000;stroke:#ff0000;stroke-width:0.5;\" x=\"225.872238\" xlink:href=\"#m33b9794b44\" y=\"300.021368\"/>\n     <use style=\"fill:#ff0000;stroke:#ff0000;stroke-width:0.5;\" x=\"129.198737\" xlink:href=\"#m33b9794b44\" y=\"296.293825\"/>\n     <use style=\"fill:#ff0000;stroke:#ff0000;stroke-width:0.5;\" x=\"161.339537\" xlink:href=\"#m33b9794b44\" y=\"305.612683\"/>\n     <use style=\"fill:#ff0000;stroke:#ff0000;stroke-width:0.5;\" x=\"166.780037\" xlink:href=\"#m33b9794b44\" y=\"285.111197\"/>\n     <use style=\"fill:#ff0000;stroke:#ff0000;stroke-width:0.5;\" x=\"119.489537\" xlink:href=\"#m33b9794b44\" y=\"320.522854\"/>\n     <use style=\"fill:#ff0000;stroke:#ff0000;stroke-width:0.5;\" x=\"222.189437\" xlink:href=\"#m33b9794b44\" y=\"301.88514\"/>\n     <use style=\"fill:#ff0000;stroke:#ff0000;stroke-width:0.5;\" x=\"180.172037\" xlink:href=\"#m33b9794b44\" y=\"285.111197\"/>\n     <use style=\"fill:#ff0000;stroke:#ff0000;stroke-width:0.5;\" x=\"121.414638\" xlink:href=\"#m33b9794b44\" y=\"294.430054\"/>\n     <use style=\"fill:#ff0000;stroke:#ff0000;stroke-width:0.5;\" x=\"143.176637\" xlink:href=\"#m33b9794b44\" y=\"264.609711\"/>\n     <use style=\"fill:#ff0000;stroke:#ff0000;stroke-width:0.5;\" x=\"177.577338\" xlink:href=\"#m33b9794b44\" y=\"286.974968\"/>\n     <use style=\"fill:#ff0000;stroke:#ff0000;stroke-width:0.5;\" x=\"221.519837\" xlink:href=\"#m33b9794b44\" y=\"230.12994\"/>\n     <use style=\"fill:#ff0000;stroke:#ff0000;stroke-width:0.5;\" x=\"161.423237\" xlink:href=\"#m33b9794b44\" y=\"247.835768\"/>\n     <use style=\"fill:#ff0000;stroke:#ff0000;stroke-width:0.5;\" x=\"128.612837\" xlink:href=\"#m33b9794b44\" y=\"287.906854\"/>\n     <use style=\"fill:#ff0000;stroke:#ff0000;stroke-width:0.5;\" x=\"186.951737\" xlink:href=\"#m33b9794b44\" y=\"249.69954\"/>\n     <use style=\"fill:#ff0000;stroke:#ff0000;stroke-width:0.5;\" x=\"222.105737\" xlink:href=\"#m33b9794b44\" y=\"272.064797\"/>\n     <use style=\"fill:#ff0000;stroke:#ff0000;stroke-width:0.5;\" x=\"224.030838\" xlink:href=\"#m33b9794b44\" y=\"285.111197\"/>\n     <use style=\"fill:#ff0000;stroke:#ff0000;stroke-width:0.5;\" x=\"150.374838\" xlink:href=\"#m33b9794b44\" y=\"308.40834\"/>\n     <use style=\"fill:#ff0000;stroke:#ff0000;stroke-width:0.5;\" x=\"290.237537\" xlink:href=\"#m33b9794b44\" y=\"45.616568\"/>\n     <use style=\"fill:#ff0000;stroke:#ff0000;stroke-width:0.5;\" x=\"216.832637\" xlink:href=\"#m33b9794b44\" y=\"204.03714\"/>\n     <use style=\"fill:#ff0000;stroke:#ff0000;stroke-width:0.5;\" x=\"253.995438\" xlink:href=\"#m33b9794b44\" y=\"213.355997\"/>\n     <use style=\"fill:#ff0000;stroke:#ff0000;stroke-width:0.5;\" x=\"232.233437\" xlink:href=\"#m33b9794b44\" y=\"178.876225\"/>\n     <use style=\"fill:#ff0000;stroke:#ff0000;stroke-width:0.5;\" x=\"319.265653\" xlink:href=\"#m33b9794b44\" y=\"-1\"/>\n     <use style=\"fill:#ff0000;stroke:#ff0000;stroke-width:0.5;\" x=\"381.516306\" xlink:href=\"#m33b9794b44\" y=\"-1\"/>\n     <use style=\"fill:#ff0000;stroke:#ff0000;stroke-width:0.5;\" x=\"199.088237\" xlink:href=\"#m33b9794b44\" y=\"218.947311\"/>\n     <use style=\"fill:#ff0000;stroke:#ff0000;stroke-width:0.5;\" x=\"219.762137\" xlink:href=\"#m33b9794b44\" y=\"197.51394\"/>\n     <use style=\"fill:#ff0000;stroke:#ff0000;stroke-width:0.5;\" x=\"350.135839\" xlink:href=\"#m33b9794b44\" y=\"-1\"/>\n     <use style=\"fill:#ff0000;stroke:#ff0000;stroke-width:0.5;\" x=\"348.526302\" xlink:href=\"#m33b9794b44\" y=\"-1\"/>\n     <use style=\"fill:#ff0000;stroke:#ff0000;stroke-width:0.5;\" x=\"201.013337\" xlink:href=\"#m33b9794b44\" y=\"208.696568\"/>\n     <use style=\"fill:#ff0000;stroke:#ff0000;stroke-width:0.5;\" x=\"238.008737\" xlink:href=\"#m33b9794b44\" y=\"208.696568\"/>\n     <use style=\"fill:#ff0000;stroke:#ff0000;stroke-width:0.5;\" x=\"244.955837\" xlink:href=\"#m33b9794b44\" y=\"222.674854\"/>\n     <use style=\"fill:#ff0000;stroke:#ff0000;stroke-width:0.5;\" x=\"200.845937\" xlink:href=\"#m33b9794b44\" y=\"268.337254\"/>\n     <use style=\"fill:#ff0000;stroke:#ff0000;stroke-width:0.5;\" x=\"201.264437\" xlink:href=\"#m33b9794b44\" y=\"252.495197\"/>\n     <use style=\"fill:#ff0000;stroke:#ff0000;stroke-width:0.5;\" x=\"175.484838\" xlink:href=\"#m33b9794b44\" y=\"215.219768\"/>\n     <use style=\"fill:#ff0000;stroke:#ff0000;stroke-width:0.5;\" x=\"246.127638\" xlink:href=\"#m33b9794b44\" y=\"210.56034\"/>\n     <use style=\"fill:#ff0000;stroke:#ff0000;stroke-width:0.5;\" x=\"199.506737\" xlink:href=\"#m33b9794b44\" y=\"219.879197\"/>\n     <use style=\"fill:#ff0000;stroke:#ff0000;stroke-width:0.5;\" x=\"257.008638\" xlink:href=\"#m33b9794b44\" y=\"156.510968\"/>\n     <use style=\"fill:#ff0000;stroke:#ff0000;stroke-width:0.5;\" x=\"212.982437\" xlink:href=\"#m33b9794b44\" y=\"214.287883\"/>\n     <use style=\"fill:#ff0000;stroke:#ff0000;stroke-width:0.5;\" x=\"237.673938\" xlink:href=\"#m33b9794b44\" y=\"201.241483\"/>\n     <use style=\"fill:#ff0000;stroke:#ff0000;stroke-width:0.5;\" x=\"283.290437\" xlink:href=\"#m33b9794b44\" y=\"151.85154\"/>\n     <use style=\"fill:#ff0000;stroke:#ff0000;stroke-width:0.5;\" x=\"293.334437\" xlink:href=\"#m33b9794b44\" y=\"83.823883\"/>\n     <use style=\"fill:#ff0000;stroke:#ff0000;stroke-width:0.5;\" x=\"359.038938\" xlink:href=\"#m33b9794b44\" y=\"59.594854\"/>\n     <use style=\"fill:#ff0000;stroke:#ff0000;stroke-width:0.5;\" x=\"223.361237\" xlink:href=\"#m33b9794b44\" y=\"93.14274\"/>\n     <use style=\"fill:#ff0000;stroke:#ff0000;stroke-width:0.5;\" x=\"307.981938\" xlink:href=\"#m33b9794b44\" y=\"77.300683\"/>\n     <use style=\"fill:#ff0000;stroke:#ff0000;stroke-width:0.5;\" x=\"258.431537\" xlink:href=\"#m33b9794b44\" y=\"127.622511\"/>\n     <use style=\"fill:#ff0000;stroke:#ff0000;stroke-width:0.5;\" x=\"178.163237\" xlink:href=\"#m33b9794b44\" y=\"184.46754\"/>\n     <use style=\"fill:#ff0000;stroke:#ff0000;stroke-width:0.5;\" x=\"224.114537\" xlink:href=\"#m33b9794b44\" y=\"154.647197\"/>\n     <use style=\"fill:#ff0000;stroke:#ff0000;stroke-width:0.5;\" x=\"339.106079\" xlink:href=\"#m33b9794b44\" y=\"-1\"/>\n     <use style=\"fill:#ff0000;stroke:#ff0000;stroke-width:0.5;\" x=\"346.526756\" xlink:href=\"#m33b9794b44\" y=\"-1\"/>\n     <use style=\"fill:#ff0000;stroke:#ff0000;stroke-width:0.5;\" x=\"276.761838\" xlink:href=\"#m33b9794b44\" y=\"132.28194\"/>\n     <use style=\"fill:#ff0000;stroke:#ff0000;stroke-width:0.5;\" x=\"257.845638\" xlink:href=\"#m33b9794b44\" y=\"152.783425\"/>\n     <use style=\"fill:#ff0000;stroke:#ff0000;stroke-width:0.5;\" x=\"310.492937\" xlink:href=\"#m33b9794b44\" y=\"105.257254\"/>\n     <use style=\"fill:#ff0000;stroke:#ff0000;stroke-width:0.5;\" x=\"290.907137\" xlink:href=\"#m33b9794b44\" y=\"85.687654\"/>\n     <use style=\"fill:#ff0000;stroke:#ff0000;stroke-width:0.5;\" x=\"273.162737\" xlink:href=\"#m33b9794b44\" y=\"146.260225\"/>\n     <use style=\"fill:#ff0000;stroke:#ff0000;stroke-width:0.5;\" x=\"309.907037\" xlink:href=\"#m33b9794b44\" y=\"91.278968\"/>\n     <use style=\"fill:#ff0000;stroke:#ff0000;stroke-width:0.5;\" x=\"278.268437\" xlink:href=\"#m33b9794b44\" y=\"140.668911\"/>\n     <use style=\"fill:#ff0000;stroke:#ff0000;stroke-width:0.5;\" x=\"261.863238\" xlink:href=\"#m33b9794b44\" y=\"159.306625\"/>\n     <use style=\"fill:#ff0000;stroke:#ff0000;stroke-width:0.5;\" x=\"349.424808\" xlink:href=\"#m33b9794b44\" y=\"-1\"/>\n     <use style=\"fill:#ff0000;stroke:#ff0000;stroke-width:0.5;\" x=\"357.348929\" xlink:href=\"#m33b9794b44\" y=\"-1\"/>\n     <use style=\"fill:#ff0000;stroke:#ff0000;stroke-width:0.5;\" x=\"319.030338\" xlink:href=\"#m33b9794b44\" y=\"120.167425\"/>\n     <use style=\"fill:#ff0000;stroke:#ff0000;stroke-width:0.5;\" x=\"303.964337\" xlink:href=\"#m33b9794b44\" y=\"148.123997\"/>\n     <use style=\"fill:#ff0000;stroke:#ff0000;stroke-width:0.5;\" x=\"317.942237\" xlink:href=\"#m33b9794b44\" y=\"108.052911\"/>\n     <use style=\"fill:#ff0000;stroke:#ff0000;stroke-width:0.5;\" x=\"292.915937\" xlink:href=\"#m33b9794b44\" y=\"105.257254\"/>\n     <use style=\"fill:#ff0000;stroke:#ff0000;stroke-width:0.5;\" x=\"306.307938\" xlink:href=\"#m33b9794b44\" y=\"123.894968\"/>\n     <use style=\"fill:#ff0000;stroke:#ff0000;stroke-width:0.5;\" x=\"224.867838\" xlink:href=\"#m33b9794b44\" y=\"205.900911\"/>\n     <use style=\"fill:#ff0000;stroke:#ff0000;stroke-width:0.5;\" x=\"346.065437\" xlink:href=\"#m33b9794b44\" y=\"36.297711\"/>\n     <use style=\"fill:#ff0000;stroke:#ff0000;stroke-width:0.5;\" x=\"359.195282\" xlink:href=\"#m33b9794b44\" y=\"-1\"/>\n     <use style=\"fill:#ff0000;stroke:#ff0000;stroke-width:0.5;\" x=\"357.348516\" xlink:href=\"#m33b9794b44\" y=\"-1\"/>\n     <use style=\"fill:#ff0000;stroke:#ff0000;stroke-width:0.5;\" x=\"202.185137\" xlink:href=\"#m33b9794b44\" y=\"219.879197\"/>\n     <use style=\"fill:#ff0000;stroke:#ff0000;stroke-width:0.5;\" x=\"238.594637\" xlink:href=\"#m33b9794b44\" y=\"203.105254\"/>\n     <use style=\"fill:#ff0000;stroke:#ff0000;stroke-width:0.5;\" x=\"193.145538\" xlink:href=\"#m33b9794b44\" y=\"220.811083\"/>\n     <use style=\"fill:#ff0000;stroke:#ff0000;stroke-width:0.5;\" x=\"216.665237\" xlink:href=\"#m33b9794b44\" y=\"203.105254\"/>\n     <use style=\"fill:#ff0000;stroke:#ff0000;stroke-width:0.5;\" x=\"156.401238\" xlink:href=\"#m33b9794b44\" y=\"244.108225\"/>\n     <use style=\"fill:#ff0000;stroke:#ff0000;stroke-width:0.5;\" x=\"207.960438\" xlink:href=\"#m33b9794b44\" y=\"228.266168\"/>\n     <use style=\"fill:#ff0000;stroke:#ff0000;stroke-width:0.5;\" x=\"161.423237\" xlink:href=\"#m33b9794b44\" y=\"250.631425\"/>\n     <use style=\"fill:#ff0000;stroke:#ff0000;stroke-width:0.5;\" x=\"195.154338\" xlink:href=\"#m33b9794b44\" y=\"221.742968\"/>\n     <use style=\"fill:#ff0000;stroke:#ff0000;stroke-width:0.5;\" x=\"242.695937\" xlink:href=\"#m33b9794b44\" y=\"168.625483\"/>\n     <use style=\"fill:#ff0000;stroke:#ff0000;stroke-width:0.5;\" x=\"162.092837\" xlink:href=\"#m33b9794b44\" y=\"209.628454\"/>\n     <use style=\"fill:#ff0000;stroke:#ff0000;stroke-width:0.5;\" x=\"226.541837\" xlink:href=\"#m33b9794b44\" y=\"197.51394\"/>\n     <use style=\"fill:#ff0000;stroke:#ff0000;stroke-width:0.5;\" x=\"201.934037\" xlink:href=\"#m33b9794b44\" y=\"213.355997\"/>\n     <use style=\"fill:#ff0000;stroke:#ff0000;stroke-width:0.5;\" x=\"265.043838\" xlink:href=\"#m33b9794b44\" y=\"163.034168\"/>\n     <use style=\"fill:#ff0000;stroke:#ff0000;stroke-width:0.5;\" x=\"207.207137\" xlink:href=\"#m33b9794b44\" y=\"230.12994\"/>\n     <use style=\"fill:#ff0000;stroke:#ff0000;stroke-width:0.5;\" x=\"242.528538\" xlink:href=\"#m33b9794b44\" y=\"216.151654\"/>\n     <use style=\"fill:#ff0000;stroke:#ff0000;stroke-width:0.5;\" x=\"290.907137\" xlink:href=\"#m33b9794b44\" y=\"181.671883\"/>\n     <use style=\"fill:#ff0000;stroke:#ff0000;stroke-width:0.5;\" x=\"225.035237\" xlink:href=\"#m33b9794b44\" y=\"228.266168\"/>\n     <use style=\"fill:#ff0000;stroke:#ff0000;stroke-width:0.5;\" x=\"284.880737\" xlink:href=\"#m33b9794b44\" y=\"174.216797\"/>\n     <use style=\"fill:#ff0000;stroke:#ff0000;stroke-width:0.5;\" x=\"263.035037\" xlink:href=\"#m33b9794b44\" y=\"149.987768\"/>\n     <use style=\"fill:#ff0000;stroke:#ff0000;stroke-width:0.5;\" x=\"400.972637\" xlink:href=\"#m33b9794b44\" y=\"13.000568\"/>\n     <use style=\"fill:#ff0000;stroke:#ff0000;stroke-width:0.5;\" x=\"412.072505\" xlink:href=\"#m33b9794b44\" y=\"-1\"/>\n     <use style=\"fill:#ff0000;stroke:#ff0000;stroke-width:0.5;\" x=\"422.294118\" xlink:href=\"#m33b9794b44\" y=\"-1\"/>\n     <use style=\"fill:#ff0000;stroke:#ff0000;stroke-width:0.5;\" x=\"382.056437\" xlink:href=\"#m33b9794b44\" y=\"80.09634\"/>\n     <use style=\"fill:#ff0000;stroke:#ff0000;stroke-width:0.5;\" x=\"308.651538\" xlink:href=\"#m33b9794b44\" y=\"136.009483\"/>\n     <use style=\"fill:#ff0000;stroke:#ff0000;stroke-width:0.5;\" x=\"351.273964\" xlink:href=\"#m33b9794b44\" y=\"-1\"/>\n     <use style=\"fill:#ff0000;stroke:#ff0000;stroke-width:0.5;\" x=\"349.943785\" xlink:href=\"#m33b9794b44\" y=\"-1\"/>\n     <use style=\"fill:#ff0000;stroke:#ff0000;stroke-width:0.5;\" x=\"257.510837\" xlink:href=\"#m33b9794b44\" y=\"136.941368\"/>\n     <use style=\"fill:#ff0000;stroke:#ff0000;stroke-width:0.5;\" x=\"209.718138\" xlink:href=\"#m33b9794b44\" y=\"204.03714\"/>\n     <use style=\"fill:#ff0000;stroke:#ff0000;stroke-width:0.5;\" x=\"329.492838\" xlink:href=\"#m33b9794b44\" y=\"135.077597\"/>\n     <use style=\"fill:#ff0000;stroke:#ff0000;stroke-width:0.5;\" x=\"406.915338\" xlink:href=\"#m33b9794b44\" y=\"41.889025\"/>\n     <use style=\"fill:#ff0000;stroke:#ff0000;stroke-width:0.5;\" x=\"401.662336\" xlink:href=\"#m33b9794b44\" y=\"-1\"/>\n     <use style=\"fill:#ff0000;stroke:#ff0000;stroke-width:0.5;\" x=\"386.205602\" xlink:href=\"#m33b9794b44\" y=\"-1\"/>\n     <use style=\"fill:#ff0000;stroke:#ff0000;stroke-width:0.5;\" x=\"272.074638\" xlink:href=\"#m33b9794b44\" y=\"160.238511\"/>\n     <use style=\"fill:#ff0000;stroke:#ff0000;stroke-width:0.5;\" x=\"218.506638\" xlink:href=\"#m33b9794b44\" y=\"206.832797\"/>\n     <use style=\"fill:#ff0000;stroke:#ff0000;stroke-width:0.5;\" x=\"264.123138\" xlink:href=\"#m33b9794b44\" y=\"196.582054\"/>\n     <use style=\"fill:#ff0000;stroke:#ff0000;stroke-width:0.5;\" x=\"324.973037\" xlink:href=\"#m33b9794b44\" y=\"136.941368\"/>\n     <use style=\"fill:#ff0000;stroke:#ff0000;stroke-width:0.5;\" x=\"251.568137\" xlink:href=\"#m33b9794b44\" y=\"209.628454\"/>\n     <use style=\"fill:#ff0000;stroke:#ff0000;stroke-width:0.5;\" x=\"262.030637\" xlink:href=\"#m33b9794b44\" y=\"213.355997\"/>\n     <use style=\"fill:#ff0000;stroke:#ff0000;stroke-width:0.5;\" x=\"286.387338\" xlink:href=\"#m33b9794b44\" y=\"225.470511\"/>\n     <use style=\"fill:#ff0000;stroke:#ff0000;stroke-width:0.5;\" x=\"219.259937\" xlink:href=\"#m33b9794b44\" y=\"243.17634\"/>\n     <use style=\"fill:#ff0000;stroke:#ff0000;stroke-width:0.5;\" x=\"241.273037\" xlink:href=\"#m33b9794b44\" y=\"223.60674\"/>\n     <use style=\"fill:#ff0000;stroke:#ff0000;stroke-width:0.5;\" x=\"244.202538\" xlink:href=\"#m33b9794b44\" y=\"209.628454\"/>\n     <use style=\"fill:#ff0000;stroke:#ff0000;stroke-width:0.5;\" x=\"177.242537\" xlink:href=\"#m33b9794b44\" y=\"266.473483\"/>\n     <use style=\"fill:#ff0000;stroke:#ff0000;stroke-width:0.5;\" x=\"178.246938\" xlink:href=\"#m33b9794b44\" y=\"258.086511\"/>\n     <use style=\"fill:#ff0000;stroke:#ff0000;stroke-width:0.5;\" x=\"220.348037\" xlink:href=\"#m33b9794b44\" y=\"204.03714\"/>\n     <use style=\"fill:#ff0000;stroke:#ff0000;stroke-width:0.5;\" x=\"230.224638\" xlink:href=\"#m33b9794b44\" y=\"239.448797\"/>\n     <use style=\"fill:#ff0000;stroke:#ff0000;stroke-width:0.5;\" x=\"247.550537\" xlink:href=\"#m33b9794b44\" y=\"202.173368\"/>\n     <use style=\"fill:#ff0000;stroke:#ff0000;stroke-width:0.5;\" x=\"271.405037\" xlink:href=\"#m33b9794b44\" y=\"186.331311\"/>\n     <use style=\"fill:#ff0000;stroke:#ff0000;stroke-width:0.5;\" x=\"252.070337\" xlink:href=\"#m33b9794b44\" y=\"203.105254\"/>\n     <use style=\"fill:#ff0000;stroke:#ff0000;stroke-width:0.5;\" x=\"247.969037\" xlink:href=\"#m33b9794b44\" y=\"199.377711\"/>\n     <use style=\"fill:#ff0000;stroke:#ff0000;stroke-width:0.5;\" x=\"291.409337\" xlink:href=\"#m33b9794b44\" y=\"154.647197\"/>\n     <use style=\"fill:#ff0000;stroke:#ff0000;stroke-width:0.5;\" x=\"400.386738\" xlink:href=\"#m33b9794b44\" y=\"31.638283\"/>\n     <use style=\"fill:#ff0000;stroke:#ff0000;stroke-width:0.5;\" x=\"220.348037\" xlink:href=\"#m33b9794b44\" y=\"226.402397\"/>\n     <use style=\"fill:#ff0000;stroke:#ff0000;stroke-width:0.5;\" x=\"200.929638\" xlink:href=\"#m33b9794b44\" y=\"235.721254\"/>\n     <use style=\"fill:#ff0000;stroke:#ff0000;stroke-width:0.5;\" x=\"333.008238\" xlink:href=\"#m33b9794b44\" y=\"20.455654\"/>\n     <use style=\"fill:#ff0000;stroke:#ff0000;stroke-width:0.5;\" x=\"373.156183\" xlink:href=\"#m33b9794b44\" y=\"-1\"/>\n     <use style=\"fill:#ff0000;stroke:#ff0000;stroke-width:0.5;\" x=\"407.325337\" xlink:href=\"#m33b9794b44\" y=\"-1\"/>\n     <use style=\"fill:#ff0000;stroke:#ff0000;stroke-width:0.5;\" x=\"322.880538\" xlink:href=\"#m33b9794b44\" y=\"95.006511\"/>\n     <use style=\"fill:#ff0000;stroke:#ff0000;stroke-width:0.5;\" x=\"281.783837\" xlink:href=\"#m33b9794b44\" y=\"149.987768\"/>\n     <use style=\"fill:#ff0000;stroke:#ff0000;stroke-width:0.5;\" x=\"311.999538\" xlink:href=\"#m33b9794b44\" y=\"115.507997\"/>\n     <use style=\"fill:#ff0000;stroke:#ff0000;stroke-width:0.5;\" x=\"338.532437\" xlink:href=\"#m33b9794b44\" y=\"28.842625\"/>\n     <use style=\"fill:#ff0000;stroke:#ff0000;stroke-width:0.5;\" x=\"379.820024\" xlink:href=\"#m33b9794b44\" y=\"-1\"/>\n     <use style=\"fill:#ff0000;stroke:#ff0000;stroke-width:0.5;\" x=\"399.442813\" xlink:href=\"#m33b9794b44\" y=\"-1\"/>\n     <use style=\"fill:#ff0000;stroke:#ff0000;stroke-width:0.5;\" x=\"322.378337\" xlink:href=\"#m33b9794b44\" y=\"141.600797\"/>\n     <use style=\"fill:#ff0000;stroke:#ff0000;stroke-width:0.5;\" x=\"312.250637\" xlink:href=\"#m33b9794b44\" y=\"90.347083\"/>\n     <use style=\"fill:#ff0000;stroke:#ff0000;stroke-width:0.5;\" x=\"174.480437\" xlink:href=\"#m33b9794b44\" y=\"218.015425\"/>\n     <use style=\"fill:#ff0000;stroke:#ff0000;stroke-width:0.5;\" x=\"296.180238\" xlink:href=\"#m33b9794b44\" y=\"144.396454\"/>\n     <use style=\"fill:#ff0000;stroke:#ff0000;stroke-width:0.5;\" x=\"382.993478\" xlink:href=\"#m33b9794b44\" y=\"-1\"/>\n     <use style=\"fill:#ff0000;stroke:#ff0000;stroke-width:0.5;\" x=\"364.190704\" xlink:href=\"#m33b9794b44\" y=\"-1\"/>\n     <use style=\"fill:#ff0000;stroke:#ff0000;stroke-width:0.5;\" x=\"334.347438\" xlink:href=\"#m33b9794b44\" y=\"25.115083\"/>\n     <use style=\"fill:#ff0000;stroke:#ff0000;stroke-width:0.5;\" x=\"204.612437\" xlink:href=\"#m33b9794b44\" y=\"237.585025\"/>\n     <use style=\"fill:#ff0000;stroke:#ff0000;stroke-width:0.5;\" x=\"199.255637\" xlink:href=\"#m33b9794b44\" y=\"233.857483\"/>\n     <use style=\"fill:#ff0000;stroke:#ff0000;stroke-width:0.5;\" x=\"231.396437\" xlink:href=\"#m33b9794b44\" y=\"195.650168\"/>\n     <use style=\"fill:#ff0000;stroke:#ff0000;stroke-width:0.5;\" x=\"256.339038\" xlink:href=\"#m33b9794b44\" y=\"203.105254\"/>\n     <use style=\"fill:#ff0000;stroke:#ff0000;stroke-width:0.5;\" x=\"352.845138\" xlink:href=\"#m33b9794b44\" y=\"102.461597\"/>\n     <use style=\"fill:#ff0000;stroke:#ff0000;stroke-width:0.5;\" x=\"274.753037\" xlink:href=\"#m33b9794b44\" y=\"128.554397\"/>\n     <use style=\"fill:#ff0000;stroke:#ff0000;stroke-width:0.5;\" x=\"282.788237\" xlink:href=\"#m33b9794b44\" y=\"132.28194\"/>\n     <use style=\"fill:#ff0000;stroke:#ff0000;stroke-width:0.5;\" x=\"317.356338\" xlink:href=\"#m33b9794b44\" y=\"121.099311\"/>\n     <use style=\"fill:#ff0000;stroke:#ff0000;stroke-width:0.5;\" x=\"280.444637\" xlink:href=\"#m33b9794b44\" y=\"122.031197\"/>\n     <use style=\"fill:#ff0000;stroke:#ff0000;stroke-width:0.5;\" x=\"251.651837\" xlink:href=\"#m33b9794b44\" y=\"159.306625\"/>\n     <use style=\"fill:#ff0000;stroke:#ff0000;stroke-width:0.5;\" x=\"279.272837\" xlink:href=\"#m33b9794b44\" y=\"103.393483\"/>\n     <use style=\"fill:#ff0000;stroke:#ff0000;stroke-width:0.5;\" x=\"363.642437\" xlink:href=\"#m33b9794b44\" y=\"7.409254\"/>\n     <use style=\"fill:#ff0000;stroke:#ff0000;stroke-width:0.5;\" x=\"292.330037\" xlink:href=\"#m33b9794b44\" y=\"100.597825\"/>\n     <use style=\"fill:#ff0000;stroke:#ff0000;stroke-width:0.5;\" x=\"348.994937\" xlink:href=\"#m33b9794b44\" y=\"1.81794\"/>\n     <use style=\"fill:#ff0000;stroke:#ff0000;stroke-width:0.5;\" x=\"350.753992\" xlink:href=\"#m33b9794b44\" y=\"-1\"/>\n     <use style=\"fill:#ff0000;stroke:#ff0000;stroke-width:0.5;\" x=\"357.745333\" xlink:href=\"#m33b9794b44\" y=\"-1\"/>\n     <use style=\"fill:#ff0000;stroke:#ff0000;stroke-width:0.5;\" x=\"302.374038\" xlink:href=\"#m33b9794b44\" y=\"130.418168\"/>\n     <use style=\"fill:#ff0000;stroke:#ff0000;stroke-width:0.5;\" x=\"249.224538\" xlink:href=\"#m33b9794b44\" y=\"225.470511\"/>\n     <use style=\"fill:#ff0000;stroke:#ff0000;stroke-width:0.5;\" x=\"230.559438\" xlink:href=\"#m33b9794b44\" y=\"243.17634\"/>\n     <use style=\"fill:#ff0000;stroke:#ff0000;stroke-width:0.5;\" x=\"228.801738\" xlink:href=\"#m33b9794b44\" y=\"214.287883\"/>\n     <use style=\"fill:#ff0000;stroke:#ff0000;stroke-width:0.5;\" x=\"237.673938\" xlink:href=\"#m33b9794b44\" y=\"222.674854\"/>\n     <use style=\"fill:#ff0000;stroke:#ff0000;stroke-width:0.5;\" x=\"258.598937\" xlink:href=\"#m33b9794b44\" y=\"199.377711\"/>\n     <use style=\"fill:#ff0000;stroke:#ff0000;stroke-width:0.5;\" x=\"283.374138\" xlink:href=\"#m33b9794b44\" y=\"164.89794\"/>\n     <use style=\"fill:#ff0000;stroke:#ff0000;stroke-width:0.5;\" x=\"307.396037\" xlink:href=\"#m33b9794b44\" y=\"82.891997\"/>\n     <use style=\"fill:#ff0000;stroke:#ff0000;stroke-width:0.5;\" x=\"264.039438\" xlink:href=\"#m33b9794b44\" y=\"170.489254\"/>\n     <use style=\"fill:#ff0000;stroke:#ff0000;stroke-width:0.5;\" x=\"221.938337\" xlink:href=\"#m33b9794b44\" y=\"207.764683\"/>\n     <use style=\"fill:#ff0000;stroke:#ff0000;stroke-width:0.5;\" x=\"212.061738\" xlink:href=\"#m33b9794b44\" y=\"228.266168\"/>\n     <use style=\"fill:#ff0000;stroke:#ff0000;stroke-width:0.5;\" x=\"268.057038\" xlink:href=\"#m33b9794b44\" y=\"163.966054\"/>\n     <use style=\"fill:#ff0000;stroke:#ff0000;stroke-width:0.5;\" x=\"257.259738\" xlink:href=\"#m33b9794b44\" y=\"177.94434\"/>\n     <use style=\"fill:#ff0000;stroke:#ff0000;stroke-width:0.5;\" x=\"193.731438\" xlink:href=\"#m33b9794b44\" y=\"241.312568\"/>\n     <use style=\"fill:#ff0000;stroke:#ff0000;stroke-width:0.5;\" x=\"240.184937\" xlink:href=\"#m33b9794b44\" y=\"220.811083\"/>\n     <use style=\"fill:#ff0000;stroke:#ff0000;stroke-width:0.5;\" x=\"298.440138\" xlink:href=\"#m33b9794b44\" y=\"160.238511\"/>\n     <use style=\"fill:#ff0000;stroke:#ff0000;stroke-width:0.5;\" x=\"284.211138\" xlink:href=\"#m33b9794b44\" y=\"199.377711\"/>\n     <use style=\"fill:#ff0000;stroke:#ff0000;stroke-width:0.5;\" x=\"260.691437\" xlink:href=\"#m33b9794b44\" y=\"225.470511\"/>\n     <use style=\"fill:#ff0000;stroke:#ff0000;stroke-width:0.5;\" x=\"252.739938\" xlink:href=\"#m33b9794b44\" y=\"184.46754\"/>\n     <use style=\"fill:#ff0000;stroke:#ff0000;stroke-width:0.5;\" x=\"293.501838\" xlink:href=\"#m33b9794b44\" y=\"122.031197\"/>\n     <use style=\"fill:#ff0000;stroke:#ff0000;stroke-width:0.5;\" x=\"314.761637\" xlink:href=\"#m33b9794b44\" y=\"94.074625\"/>\n     <use style=\"fill:#ff0000;stroke:#ff0000;stroke-width:0.5;\" x=\"262.867637\" xlink:href=\"#m33b9794b44\" y=\"165.829825\"/>\n     <use style=\"fill:#ff0000;stroke:#ff0000;stroke-width:0.5;\" x=\"330.162437\" xlink:href=\"#m33b9794b44\" y=\"119.23554\"/>\n     <use style=\"fill:#ff0000;stroke:#ff0000;stroke-width:0.5;\" x=\"282.369737\" xlink:href=\"#m33b9794b44\" y=\"167.693597\"/>\n     <use style=\"fill:#ff0000;stroke:#ff0000;stroke-width:0.5;\" x=\"264.457938\" xlink:href=\"#m33b9794b44\" y=\"218.015425\"/>\n     <use style=\"fill:#ff0000;stroke:#ff0000;stroke-width:0.5;\" x=\"208.964838\" xlink:href=\"#m33b9794b44\" y=\"241.312568\"/>\n     <use style=\"fill:#ff0000;stroke:#ff0000;stroke-width:0.5;\" x=\"125.348537\" xlink:href=\"#m33b9794b44\" y=\"280.451768\"/>\n     <use style=\"fill:#ff0000;stroke:#ff0000;stroke-width:0.5;\" x=\"221.519837\" xlink:href=\"#m33b9794b44\" y=\"224.538625\"/>\n     <use style=\"fill:#ff0000;stroke:#ff0000;stroke-width:0.5;\" x=\"213.233537\" xlink:href=\"#m33b9794b44\" y=\"249.69954\"/>\n     <use style=\"fill:#ff0000;stroke:#ff0000;stroke-width:0.5;\" x=\"233.572637\" xlink:href=\"#m33b9794b44\" y=\"229.198054\"/>\n     <use style=\"fill:#ff0000;stroke:#ff0000;stroke-width:0.5;\" x=\"258.766338\" xlink:href=\"#m33b9794b44\" y=\"208.696568\"/>\n     <use style=\"fill:#ff0000;stroke:#ff0000;stroke-width:0.5;\" x=\"186.616938\" xlink:href=\"#m33b9794b44\" y=\"279.519883\"/>\n     <use style=\"fill:#ff0000;stroke:#ff0000;stroke-width:0.5;\" x=\"204.110237\" xlink:href=\"#m33b9794b44\" y=\"264.609711\"/>\n     <use style=\"fill:#ff0000;stroke:#ff0000;stroke-width:0.5;\" x=\"193.061838\" xlink:href=\"#m33b9794b44\" y=\"245.971997\"/>\n     <use style=\"fill:#ff0000;stroke:#ff0000;stroke-width:0.5;\" x=\"243.281837\" xlink:href=\"#m33b9794b44\" y=\"215.219768\"/>\n     <use style=\"fill:#ff0000;stroke:#ff0000;stroke-width:0.5;\" x=\"220.766538\" xlink:href=\"#m33b9794b44\" y=\"234.789368\"/>\n     <use style=\"fill:#ff0000;stroke:#ff0000;stroke-width:0.5;\" x=\"246.964638\" xlink:href=\"#m33b9794b44\" y=\"208.696568\"/>\n     <use style=\"fill:#ff0000;stroke:#ff0000;stroke-width:0.5;\" x=\"242.779637\" xlink:href=\"#m33b9794b44\" y=\"215.219768\"/>\n     <use style=\"fill:#ff0000;stroke:#ff0000;stroke-width:0.5;\" x=\"214.740138\" xlink:href=\"#m33b9794b44\" y=\"240.380683\"/>\n     <use style=\"fill:#ff0000;stroke:#ff0000;stroke-width:0.5;\" x=\"186.868038\" xlink:href=\"#m33b9794b44\" y=\"258.086511\"/>\n     <use style=\"fill:#ff0000;stroke:#ff0000;stroke-width:0.5;\" x=\"246.043938\" xlink:href=\"#m33b9794b44\" y=\"197.51394\"/>\n     <use style=\"fill:#ff0000;stroke:#ff0000;stroke-width:0.5;\" x=\"247.383138\" xlink:href=\"#m33b9794b44\" y=\"201.241483\"/>\n     <use style=\"fill:#ff0000;stroke:#ff0000;stroke-width:0.5;\" x=\"237.422838\" xlink:href=\"#m33b9794b44\" y=\"216.151654\"/>\n     <use style=\"fill:#ff0000;stroke:#ff0000;stroke-width:0.5;\" x=\"218.255538\" xlink:href=\"#m33b9794b44\" y=\"223.60674\"/>\n     <use style=\"fill:#ff0000;stroke:#ff0000;stroke-width:0.5;\" x=\"200.260038\" xlink:href=\"#m33b9794b44\" y=\"250.631425\"/>\n     <use style=\"fill:#ff0000;stroke:#ff0000;stroke-width:0.5;\" x=\"239.180537\" xlink:href=\"#m33b9794b44\" y=\"219.879197\"/>\n     <use style=\"fill:#ff0000;stroke:#ff0000;stroke-width:0.5;\" x=\"223.361237\" xlink:href=\"#m33b9794b44\" y=\"245.971997\"/>\n     <use style=\"fill:#ff0000;stroke:#ff0000;stroke-width:0.5;\" x=\"186.700638\" xlink:href=\"#m33b9794b44\" y=\"271.132911\"/>\n     <use style=\"fill:#ff0000;stroke:#ff0000;stroke-width:0.5;\" x=\"213.903137\" xlink:href=\"#m33b9794b44\" y=\"249.69954\"/>\n     <use style=\"fill:#ff0000;stroke:#ff0000;stroke-width:0.5;\" x=\"237.757637\" xlink:href=\"#m33b9794b44\" y=\"223.60674\"/>\n     <use style=\"fill:#ff0000;stroke:#ff0000;stroke-width:0.5;\" x=\"237.255437\" xlink:href=\"#m33b9794b44\" y=\"237.585025\"/>\n     <use style=\"fill:#ff0000;stroke:#ff0000;stroke-width:0.5;\" x=\"214.405337\" xlink:href=\"#m33b9794b44\" y=\"233.857483\"/>\n     <use style=\"fill:#ff0000;stroke:#ff0000;stroke-width:0.5;\" x=\"200.343737\" xlink:href=\"#m33b9794b44\" y=\"248.767654\"/>\n     <use style=\"fill:#ff0000;stroke:#ff0000;stroke-width:0.5;\" x=\"202.519937\" xlink:href=\"#m33b9794b44\" y=\"258.086511\"/>\n     <use style=\"fill:#ff0000;stroke:#ff0000;stroke-width:0.5;\" x=\"216.246737\" xlink:href=\"#m33b9794b44\" y=\"238.516911\"/>\n     <use style=\"fill:#ff0000;stroke:#ff0000;stroke-width:0.5;\" x=\"210.052938\" xlink:href=\"#m33b9794b44\" y=\"253.427083\"/>\n     <use style=\"fill:#ff0000;stroke:#ff0000;stroke-width:0.5;\" x=\"208.630038\" xlink:href=\"#m33b9794b44\" y=\"256.22274\"/>\n     <use style=\"fill:#ff0000;stroke:#ff0000;stroke-width:0.5;\" x=\"315.180137\" xlink:href=\"#m33b9794b44\" y=\"125.75874\"/>\n     <use style=\"fill:#ff0000;stroke:#ff0000;stroke-width:0.5;\" x=\"256.506438\" xlink:href=\"#m33b9794b44\" y=\"276.724225\"/>\n     <use style=\"fill:#ff0000;stroke:#ff0000;stroke-width:0.5;\" x=\"269.563637\" xlink:href=\"#m33b9794b44\" y=\"207.764683\"/>\n     <use style=\"fill:#ff0000;stroke:#ff0000;stroke-width:0.5;\" x=\"284.462237\" xlink:href=\"#m33b9794b44\" y=\"139.737025\"/>\n     <use style=\"fill:#ff0000;stroke:#ff0000;stroke-width:0.5;\" x=\"212.480238\" xlink:href=\"#m33b9794b44\" y=\"267.405368\"/>\n     <use style=\"fill:#ff0000;stroke:#ff0000;stroke-width:0.5;\" x=\"202.771037\" xlink:href=\"#m33b9794b44\" y=\"270.201025\"/>\n     <use style=\"fill:#ff0000;stroke:#ff0000;stroke-width:0.5;\" x=\"254.497638\" xlink:href=\"#m33b9794b44\" y=\"215.219768\"/>\n     <use style=\"fill:#ff0000;stroke:#ff0000;stroke-width:0.5;\" x=\"264.457938\" xlink:href=\"#m33b9794b44\" y=\"202.173368\"/>\n     <use style=\"fill:#ff0000;stroke:#ff0000;stroke-width:0.5;\" x=\"289.902738\" xlink:href=\"#m33b9794b44\" y=\"182.603768\"/>\n     <use style=\"fill:#ff0000;stroke:#ff0000;stroke-width:0.5;\" x=\"252.321438\" xlink:href=\"#m33b9794b44\" y=\"217.08354\"/>\n     <use style=\"fill:#ff0000;stroke:#ff0000;stroke-width:0.5;\" x=\"259.770737\" xlink:href=\"#m33b9794b44\" y=\"205.900911\"/>\n     <use style=\"fill:#ff0000;stroke:#ff0000;stroke-width:0.5;\" x=\"201.599238\" xlink:href=\"#m33b9794b44\" y=\"257.154625\"/>\n     <use style=\"fill:#ff0000;stroke:#ff0000;stroke-width:0.5;\" x=\"272.242037\" xlink:href=\"#m33b9794b44\" y=\"149.987768\"/>\n     <use style=\"fill:#ff0000;stroke:#ff0000;stroke-width:0.5;\" x=\"183.101538\" xlink:href=\"#m33b9794b44\" y=\"260.882168\"/>\n     <use style=\"fill:#ff0000;stroke:#ff0000;stroke-width:0.5;\" x=\"205.951638\" xlink:href=\"#m33b9794b44\" y=\"238.516911\"/>\n     <use style=\"fill:#ff0000;stroke:#ff0000;stroke-width:0.5;\" x=\"229.052837\" xlink:href=\"#m33b9794b44\" y=\"264.609711\"/>\n     <use style=\"fill:#ff0000;stroke:#ff0000;stroke-width:0.5;\" x=\"244.369937\" xlink:href=\"#m33b9794b44\" y=\"228.266168\"/>\n     <use style=\"fill:#ff0000;stroke:#ff0000;stroke-width:0.5;\" x=\"221.938337\" xlink:href=\"#m33b9794b44\" y=\"218.947311\"/>\n     <use style=\"fill:#ff0000;stroke:#ff0000;stroke-width:0.5;\" x=\"220.682838\" xlink:href=\"#m33b9794b44\" y=\"219.879197\"/>\n     <use style=\"fill:#ff0000;stroke:#ff0000;stroke-width:0.5;\" x=\"244.621037\" xlink:href=\"#m33b9794b44\" y=\"197.51394\"/>\n     <use style=\"fill:#ff0000;stroke:#ff0000;stroke-width:0.5;\" x=\"232.317138\" xlink:href=\"#m33b9794b44\" y=\"245.040111\"/>\n     <use style=\"fill:#ff0000;stroke:#ff0000;stroke-width:0.5;\" x=\"157.907838\" xlink:href=\"#m33b9794b44\" y=\"236.65314\"/>\n     <use style=\"fill:#ff0000;stroke:#ff0000;stroke-width:0.5;\" x=\"194.819537\" xlink:href=\"#m33b9794b44\" y=\"273.928568\"/>\n     <use style=\"fill:#ff0000;stroke:#ff0000;stroke-width:0.5;\" x=\"443.994437\" xlink:href=\"#m33b9794b44\" y=\"226.402397\"/>\n     <use style=\"fill:#ff0000;stroke:#ff0000;stroke-width:0.5;\" x=\"7.164137\" xlink:href=\"#m33b9794b44\" y=\"174.216797\"/>\n     <use style=\"fill:#ff0000;stroke:#ff0000;stroke-width:0.5;\" x=\"124.511537\" xlink:href=\"#m33b9794b44\" y=\"226.402397\"/>\n     <use style=\"fill:#ff0000;stroke:#ff0000;stroke-width:0.5;\" x=\"32.441537\" xlink:href=\"#m33b9794b44\" y=\"215.219768\"/>\n     <use style=\"fill:#ff0000;stroke:#ff0000;stroke-width:0.5;\" x=\"112.361182\" xlink:href=\"#m33b9794b44\" y=\"-1\"/>\n     <use style=\"fill:#ff0000;stroke:#ff0000;stroke-width:0.5;\" x=\"192.561527\" xlink:href=\"#m33b9794b44\" y=\"-1\"/>\n     <use style=\"fill:#ff0000;stroke:#ff0000;stroke-width:0.5;\" x=\"119.740637\" xlink:href=\"#m33b9794b44\" y=\"301.88514\"/>\n     <use style=\"fill:#ff0000;stroke:#ff0000;stroke-width:0.5;\" x=\"55.459037\" xlink:href=\"#m33b9794b44\" y=\"301.88514\"/>\n     <use style=\"fill:#ff0000;stroke:#ff0000;stroke-width:0.5;\" x=\"321.206538\" xlink:href=\"#m33b9794b44\" y=\"290.702511\"/>\n     <use style=\"fill:#ff0000;stroke:#ff0000;stroke-width:0.5;\" x=\"265.629737\" xlink:href=\"#m33b9794b44\" y=\"300.953254\"/>\n     <use style=\"fill:#ff0000;stroke:#ff0000;stroke-width:0.5;\" x=\"277.766237\" xlink:href=\"#m33b9794b44\" y=\"306.544568\"/>\n     <use style=\"fill:#ff0000;stroke:#ff0000;stroke-width:0.5;\" x=\"243.114437\" xlink:href=\"#m33b9794b44\" y=\"308.40834\"/>\n     <use style=\"fill:#ff0000;stroke:#ff0000;stroke-width:0.5;\" x=\"229.973537\" xlink:href=\"#m33b9794b44\" y=\"335.433025\"/>\n     <use style=\"fill:#ff0000;stroke:#ff0000;stroke-width:0.5;\" x=\"292.330037\" xlink:href=\"#m33b9794b44\" y=\"333.569254\"/>\n     <use style=\"fill:#ff0000;stroke:#ff0000;stroke-width:0.5;\" x=\"256.924937\" xlink:href=\"#m33b9794b44\" y=\"328.909825\"/>\n     <use style=\"fill:#ff0000;stroke:#ff0000;stroke-width:0.5;\" x=\"172.471637\" xlink:href=\"#m33b9794b44\" y=\"325.182283\"/>\n     <use style=\"fill:#ff0000;stroke:#ff0000;stroke-width:0.5;\" x=\"171.132437\" xlink:href=\"#m33b9794b44\" y=\"315.863425\"/>\n     <use style=\"fill:#ff0000;stroke:#ff0000;stroke-width:0.5;\" x=\"74.710037\" xlink:href=\"#m33b9794b44\" y=\"348.479425\"/>\n     <use style=\"fill:#ff0000;stroke:#ff0000;stroke-width:0.5;\" x=\"150.793338\" xlink:href=\"#m33b9794b44\" y=\"363.389597\"/>\n     <use style=\"fill:#ff0000;stroke:#ff0000;stroke-width:0.5;\" x=\"98.480838\" xlink:href=\"#m33b9794b44\" y=\"332.637368\"/>\n     <use style=\"fill:#ff0000;stroke:#ff0000;stroke-width:0.5;\" x=\"127.608437\" xlink:href=\"#m33b9794b44\" y=\"361.525825\"/>\n     <use style=\"fill:#ff0000;stroke:#ff0000;stroke-width:0.5;\" x=\"117.564437\" xlink:href=\"#m33b9794b44\" y=\"335.433025\"/>\n     <use style=\"fill:#ff0000;stroke:#ff0000;stroke-width:0.5;\" x=\"160.251437\" xlink:href=\"#m33b9794b44\" y=\"323.318511\"/>\n     <use style=\"fill:#ff0000;stroke:#ff0000;stroke-width:0.5;\" x=\"187.286538\" xlink:href=\"#m33b9794b44\" y=\"289.770625\"/>\n     <use style=\"fill:#ff0000;stroke:#ff0000;stroke-width:0.5;\" x=\"215.577137\" xlink:href=\"#m33b9794b44\" y=\"214.287883\"/>\n     <use style=\"fill:#ff0000;stroke:#ff0000;stroke-width:0.5;\" x=\"130.621637\" xlink:href=\"#m33b9794b44\" y=\"340.092454\"/>\n     <use style=\"fill:#ff0000;stroke:#ff0000;stroke-width:0.5;\" x=\"227.462537\" xlink:href=\"#m33b9794b44\" y=\"301.88514\"/>\n     <use style=\"fill:#ff0000;stroke:#ff0000;stroke-width:0.5;\" x=\"201.850337\" xlink:href=\"#m33b9794b44\" y=\"312.135883\"/>\n     <use style=\"fill:#ff0000;stroke:#ff0000;stroke-width:0.5;\" x=\"250.731137\" xlink:href=\"#m33b9794b44\" y=\"308.40834\"/>\n     <use style=\"fill:#ff0000;stroke:#ff0000;stroke-width:0.5;\" x=\"245.206938\" xlink:href=\"#m33b9794b44\" y=\"313.999654\"/>\n     <use style=\"fill:#ff0000;stroke:#ff0000;stroke-width:0.5;\" x=\"190.132338\" xlink:href=\"#m33b9794b44\" y=\"351.275083\"/>\n     <use style=\"fill:#ff0000;stroke:#ff0000;stroke-width:0.5;\" x=\"165.524538\" xlink:href=\"#m33b9794b44\" y=\"383.891083\"/>\n     <use style=\"fill:#ff0000;stroke:#ff0000;stroke-width:0.5;\" x=\"198.920838\" xlink:href=\"#m33b9794b44\" y=\"371.776568\"/>\n     <use style=\"fill:#ff0000;stroke:#ff0000;stroke-width:0.5;\" x=\"210.220338\" xlink:href=\"#m33b9794b44\" y=\"378.299768\"/>\n     <use style=\"fill:#ff0000;stroke:#ff0000;stroke-width:0.5;\" x=\"240.017537\" xlink:href=\"#m33b9794b44\" y=\"363.389597\"/>\n     <use style=\"fill:#ff0000;stroke:#ff0000;stroke-width:0.5;\" x=\"245.123238\" xlink:href=\"#m33b9794b44\" y=\"317.727197\"/>\n     <use style=\"fill:#ff0000;stroke:#ff0000;stroke-width:0.5;\" x=\"156.819738\" xlink:href=\"#m33b9794b44\" y=\"353.138854\"/>\n     <use style=\"fill:#ff0000;stroke:#ff0000;stroke-width:0.5;\" x=\"172.053137\" xlink:href=\"#m33b9794b44\" y=\"351.275083\"/>\n     <use style=\"fill:#ff0000;stroke:#ff0000;stroke-width:0.5;\" x=\"184.775537\" xlink:href=\"#m33b9794b44\" y=\"383.891083\"/>\n     <use style=\"fill:#ff0000;stroke:#ff0000;stroke-width:0.5;\" x=\"55.459037\" xlink:href=\"#m33b9794b44\" y=\"319.590968\"/>\n     <use style=\"fill:#ff0000;stroke:#ff0000;stroke-width:0.5;\" x=\"178.498037\" xlink:href=\"#m33b9794b44\" y=\"170.489254\"/>\n     <use style=\"fill:#ff0000;stroke:#ff0000;stroke-width:0.5;\" x=\"179.251337\" xlink:href=\"#m33b9794b44\" y=\"270.201025\"/>\n     <use style=\"fill:#ff0000;stroke:#ff0000;stroke-width:0.5;\" x=\"282.620838\" xlink:href=\"#m33b9794b44\" y=\"174.216797\"/>\n     <use style=\"fill:#ff0000;stroke:#ff0000;stroke-width:0.5;\" x=\"190.969337\" xlink:href=\"#m33b9794b44\" y=\"290.702511\"/>\n     <use style=\"fill:#ff0000;stroke:#ff0000;stroke-width:0.5;\" x=\"266.299338\" xlink:href=\"#m33b9794b44\" y=\"270.201025\"/>\n     <use style=\"fill:#ff0000;stroke:#ff0000;stroke-width:0.5;\" x=\"96.472037\" xlink:href=\"#m33b9794b44\" y=\"263.677825\"/>\n     <use style=\"fill:#ff0000;stroke:#ff0000;stroke-width:0.5;\" x=\"140.581938\" xlink:href=\"#m33b9794b44\" y=\"278.587997\"/>\n     <use style=\"fill:#ff0000;stroke:#ff0000;stroke-width:0.5;\" x=\"87.348738\" xlink:href=\"#m33b9794b44\" y=\"365.253368\"/>\n     <use style=\"fill:#ff0000;stroke:#ff0000;stroke-width:0.5;\" x=\"247.634237\" xlink:href=\"#m33b9794b44\" y=\"363.389597\"/>\n     <use style=\"fill:#ff0000;stroke:#ff0000;stroke-width:0.5;\" x=\"276.761838\" xlink:href=\"#m33b9794b44\" y=\"360.59394\"/>\n     <use style=\"fill:#ff0000;stroke:#ff0000;stroke-width:0.5;\" x=\"153.053238\" xlink:href=\"#m33b9794b44\" y=\"333.569254\"/>\n     <use style=\"fill:#ff0000;stroke:#ff0000;stroke-width:0.5;\" x=\"207.709338\" xlink:href=\"#m33b9794b44\" y=\"348.479425\"/>\n     <use style=\"fill:#ff0000;stroke:#ff0000;stroke-width:0.5;\" x=\"280.277238\" xlink:href=\"#m33b9794b44\" y=\"352.206968\"/>\n     <use style=\"fill:#ff0000;stroke:#ff0000;stroke-width:0.5;\" x=\"245.709137\" xlink:href=\"#m33b9794b44\" y=\"274.860454\"/>\n     <use style=\"fill:#ff0000;stroke:#ff0000;stroke-width:0.5;\" x=\"211.810638\" xlink:href=\"#m33b9794b44\" y=\"298.157597\"/>\n     <use style=\"fill:#ff0000;stroke:#ff0000;stroke-width:0.5;\" x=\"181.846037\" xlink:href=\"#m33b9794b44\" y=\"236.65314\"/>\n     <use style=\"fill:#ff0000;stroke:#ff0000;stroke-width:0.5;\" x=\"219.929537\" xlink:href=\"#m33b9794b44\" y=\"305.612683\"/>\n     <use style=\"fill:#ff0000;stroke:#ff0000;stroke-width:0.5;\" x=\"174.898938\" xlink:href=\"#m33b9794b44\" y=\"321.45474\"/>\n     <use style=\"fill:#ff0000;stroke:#ff0000;stroke-width:0.5;\" x=\"202.603637\" xlink:href=\"#m33b9794b44\" y=\"353.138854\"/>\n     <use style=\"fill:#ff0000;stroke:#ff0000;stroke-width:0.5;\" x=\"197.665337\" xlink:href=\"#m33b9794b44\" y=\"335.433025\"/>\n     <use style=\"fill:#ff0000;stroke:#ff0000;stroke-width:0.5;\" x=\"228.215837\" xlink:href=\"#m33b9794b44\" y=\"328.909825\"/>\n     <use style=\"fill:#ff0000;stroke:#ff0000;stroke-width:0.5;\" x=\"227.462537\" xlink:href=\"#m33b9794b44\" y=\"327.97794\"/>\n     <use style=\"fill:#ff0000;stroke:#ff0000;stroke-width:0.5;\" x=\"243.114437\" xlink:href=\"#m33b9794b44\" y=\"341.956225\"/>\n     <use style=\"fill:#ff0000;stroke:#ff0000;stroke-width:0.5;\" x=\"240.436037\" xlink:href=\"#m33b9794b44\" y=\"295.36194\"/>\n     <use style=\"fill:#ff0000;stroke:#ff0000;stroke-width:0.5;\" x=\"281.030537\" xlink:href=\"#m33b9794b44\" y=\"299.089483\"/>\n     <use style=\"fill:#ff0000;stroke:#ff0000;stroke-width:0.5;\" x=\"246.880938\" xlink:href=\"#m33b9794b44\" y=\"280.451768\"/>\n     <use style=\"fill:#ff0000;stroke:#ff0000;stroke-width:0.5;\" x=\"247.801638\" xlink:href=\"#m33b9794b44\" y=\"297.225711\"/>\n     <use style=\"fill:#ff0000;stroke:#ff0000;stroke-width:0.5;\" x=\"228.718037\" xlink:href=\"#m33b9794b44\" y=\"321.45474\"/>\n     <use style=\"fill:#ff0000;stroke:#ff0000;stroke-width:0.5;\" x=\"263.955737\" xlink:href=\"#m33b9794b44\" y=\"305.612683\"/>\n     <use style=\"fill:#ff0000;stroke:#ff0000;stroke-width:0.5;\" x=\"249.894137\" xlink:href=\"#m33b9794b44\" y=\"341.02434\"/>\n     <use style=\"fill:#ff0000;stroke:#ff0000;stroke-width:0.5;\" x=\"224.030838\" xlink:href=\"#m33b9794b44\" y=\"349.411311\"/>\n     <use style=\"fill:#ff0000;stroke:#ff0000;stroke-width:0.5;\" x=\"205.867937\" xlink:href=\"#m33b9794b44\" y=\"352.206968\"/>\n     <use style=\"fill:#ff0000;stroke:#ff0000;stroke-width:0.5;\" x=\"180.088337\" xlink:href=\"#m33b9794b44\" y=\"311.203997\"/>\n     <use style=\"fill:#ff0000;stroke:#ff0000;stroke-width:0.5;\" x=\"196.075037\" xlink:href=\"#m33b9794b44\" y=\"332.637368\"/>\n     <use style=\"fill:#ff0000;stroke:#ff0000;stroke-width:0.5;\" x=\"245.290637\" xlink:href=\"#m33b9794b44\" y=\"271.132911\"/>\n     <use style=\"fill:#ff0000;stroke:#ff0000;stroke-width:0.5;\" x=\"229.638737\" xlink:href=\"#m33b9794b44\" y=\"259.018397\"/>\n     <use style=\"fill:#ff0000;stroke:#ff0000;stroke-width:0.5;\" x=\"251.902938\" xlink:href=\"#m33b9794b44\" y=\"286.974968\"/>\n     <use style=\"fill:#ff0000;stroke:#ff0000;stroke-width:0.5;\" x=\"199.088237\" xlink:href=\"#m33b9794b44\" y=\"329.841711\"/>\n     <use style=\"fill:#ff0000;stroke:#ff0000;stroke-width:0.5;\" x=\"249.726737\" xlink:href=\"#m33b9794b44\" y=\"320.522854\"/>\n     <use style=\"fill:#ff0000;stroke:#ff0000;stroke-width:0.5;\" x=\"239.850138\" xlink:href=\"#m33b9794b44\" y=\"291.634397\"/>\n     <use style=\"fill:#ff0000;stroke:#ff0000;stroke-width:0.5;\" x=\"232.317138\" xlink:href=\"#m33b9794b44\" y=\"313.067768\"/>\n     <use style=\"fill:#ff0000;stroke:#ff0000;stroke-width:0.5;\" x=\"226.792937\" xlink:href=\"#m33b9794b44\" y=\"299.089483\"/>\n     <use style=\"fill:#ff0000;stroke:#ff0000;stroke-width:0.5;\" x=\"246.211337\" xlink:href=\"#m33b9794b44\" y=\"309.340225\"/>\n     <use style=\"fill:#ff0000;stroke:#ff0000;stroke-width:0.5;\" x=\"273.999737\" xlink:href=\"#m33b9794b44\" y=\"305.612683\"/>\n     <use style=\"fill:#ff0000;stroke:#ff0000;stroke-width:0.5;\" x=\"266.131937\" xlink:href=\"#m33b9794b44\" y=\"288.83874\"/>\n     <use style=\"fill:#ff0000;stroke:#ff0000;stroke-width:0.5;\" x=\"236.167337\" xlink:href=\"#m33b9794b44\" y=\"280.451768\"/>\n     <use style=\"fill:#ff0000;stroke:#ff0000;stroke-width:0.5;\" x=\"327.902537\" xlink:href=\"#m33b9794b44\" y=\"264.609711\"/>\n     <use style=\"fill:#ff0000;stroke:#ff0000;stroke-width:0.5;\" x=\"272.242037\" xlink:href=\"#m33b9794b44\" y=\"291.634397\"/>\n     <use style=\"fill:#ff0000;stroke:#ff0000;stroke-width:0.5;\" x=\"255.250938\" xlink:href=\"#m33b9794b44\" y=\"299.089483\"/>\n     <use style=\"fill:#ff0000;stroke:#ff0000;stroke-width:0.5;\" x=\"209.299638\" xlink:href=\"#m33b9794b44\" y=\"312.135883\"/>\n     <use style=\"fill:#ff0000;stroke:#ff0000;stroke-width:0.5;\" x=\"205.951638\" xlink:href=\"#m33b9794b44\" y=\"304.680797\"/>\n     <use style=\"fill:#ff0000;stroke:#ff0000;stroke-width:0.5;\" x=\"236.502138\" xlink:href=\"#m33b9794b44\" y=\"291.634397\"/>\n     <use style=\"fill:#ff0000;stroke:#ff0000;stroke-width:0.5;\" x=\"218.088138\" xlink:href=\"#m33b9794b44\" y=\"244.108225\"/>\n     <use style=\"fill:#ff0000;stroke:#ff0000;stroke-width:0.5;\" x=\"269.982137\" xlink:href=\"#m33b9794b44\" y=\"277.656111\"/>\n     <use style=\"fill:#ff0000;stroke:#ff0000;stroke-width:0.5;\" x=\"242.779637\" xlink:href=\"#m33b9794b44\" y=\"265.541597\"/>\n     <use style=\"fill:#ff0000;stroke:#ff0000;stroke-width:0.5;\" x=\"237.841338\" xlink:href=\"#m33b9794b44\" y=\"248.767654\"/>\n     <use style=\"fill:#ff0000;stroke:#ff0000;stroke-width:0.5;\" x=\"254.246537\" xlink:href=\"#m33b9794b44\" y=\"242.244454\"/>\n     <use style=\"fill:#ff0000;stroke:#ff0000;stroke-width:0.5;\" x=\"228.801738\" xlink:href=\"#m33b9794b44\" y=\"231.061825\"/>\n     <use style=\"fill:#ff0000;stroke:#ff0000;stroke-width:0.5;\" x=\"191.136738\" xlink:href=\"#m33b9794b44\" y=\"245.040111\"/>\n     <use style=\"fill:#ff0000;stroke:#ff0000;stroke-width:0.5;\" x=\"207.290838\" xlink:href=\"#m33b9794b44\" y=\"253.427083\"/>\n     <use style=\"fill:#ff0000;stroke:#ff0000;stroke-width:0.5;\" x=\"211.559538\" xlink:href=\"#m33b9794b44\" y=\"252.495197\"/>\n     <use style=\"fill:#ff0000;stroke:#ff0000;stroke-width:0.5;\" x=\"205.114638\" xlink:href=\"#m33b9794b44\" y=\"252.495197\"/>\n     <use style=\"fill:#ff0000;stroke:#ff0000;stroke-width:0.5;\" x=\"187.286538\" xlink:href=\"#m33b9794b44\" y=\"243.17634\"/>\n     <use style=\"fill:#ff0000;stroke:#ff0000;stroke-width:0.5;\" x=\"225.286338\" xlink:href=\"#m33b9794b44\" y=\"245.040111\"/>\n     <use style=\"fill:#ff0000;stroke:#ff0000;stroke-width:0.5;\" x=\"230.475737\" xlink:href=\"#m33b9794b44\" y=\"247.835768\"/>\n     <use style=\"fill:#ff0000;stroke:#ff0000;stroke-width:0.5;\" x=\"247.885338\" xlink:href=\"#m33b9794b44\" y=\"214.287883\"/>\n     <use style=\"fill:#ff0000;stroke:#ff0000;stroke-width:0.5;\" x=\"293.334437\" xlink:href=\"#m33b9794b44\" y=\"152.783425\"/>\n     <use style=\"fill:#ff0000;stroke:#ff0000;stroke-width:0.5;\" x=\"163.348337\" xlink:href=\"#m33b9794b44\" y=\"301.88514\"/>\n     <use style=\"fill:#ff0000;stroke:#ff0000;stroke-width:0.5;\" x=\"224.867838\" xlink:href=\"#m33b9794b44\" y=\"306.544568\"/>\n     <use style=\"fill:#ff0000;stroke:#ff0000;stroke-width:0.5;\" x=\"251.819238\" xlink:href=\"#m33b9794b44\" y=\"274.860454\"/>\n     <use style=\"fill:#ff0000;stroke:#ff0000;stroke-width:0.5;\" x=\"153.053238\" xlink:href=\"#m33b9794b44\" y=\"318.659083\"/>\n     <use style=\"fill:#ff0000;stroke:#ff0000;stroke-width:0.5;\" x=\"226.792937\" xlink:href=\"#m33b9794b44\" y=\"294.430054\"/>\n     <use style=\"fill:#ff0000;stroke:#ff0000;stroke-width:0.5;\" x=\"230.475737\" xlink:href=\"#m33b9794b44\" y=\"231.061825\"/>\n     <use style=\"fill:#ff0000;stroke:#ff0000;stroke-width:0.5;\" x=\"231.563838\" xlink:href=\"#m33b9794b44\" y=\"216.151654\"/>\n     <use style=\"fill:#ff0000;stroke:#ff0000;stroke-width:0.5;\" x=\"274.083438\" xlink:href=\"#m33b9794b44\" y=\"209.628454\"/>\n     <use style=\"fill:#ff0000;stroke:#ff0000;stroke-width:0.5;\" x=\"300.114138\" xlink:href=\"#m33b9794b44\" y=\"197.51394\"/>\n     <use style=\"fill:#ff0000;stroke:#ff0000;stroke-width:0.5;\" x=\"191.387837\" xlink:href=\"#m33b9794b44\" y=\"227.334283\"/>\n     <use style=\"fill:#ff0000;stroke:#ff0000;stroke-width:0.5;\" x=\"200.511138\" xlink:href=\"#m33b9794b44\" y=\"238.516911\"/>\n     <use style=\"fill:#ff0000;stroke:#ff0000;stroke-width:0.5;\" x=\"237.422838\" xlink:href=\"#m33b9794b44\" y=\"232.925597\"/>\n     <use style=\"fill:#ff0000;stroke:#ff0000;stroke-width:0.5;\" x=\"220.850237\" xlink:href=\"#m33b9794b44\" y=\"252.495197\"/>\n     <use style=\"fill:#ff0000;stroke:#ff0000;stroke-width:0.5;\" x=\"203.356938\" xlink:href=\"#m33b9794b44\" y=\"238.516911\"/>\n     <use style=\"fill:#ff0000;stroke:#ff0000;stroke-width:0.5;\" x=\"165.608237\" xlink:href=\"#m33b9794b44\" y=\"288.83874\"/>\n     <use style=\"fill:#ff0000;stroke:#ff0000;stroke-width:0.5;\" x=\"162.260237\" xlink:href=\"#m33b9794b44\" y=\"365.253368\"/>\n     <use style=\"fill:#ff0000;stroke:#ff0000;stroke-width:0.5;\" x=\"135.392538\" xlink:href=\"#m33b9794b44\" y=\"355.002625\"/>\n     <use style=\"fill:#ff0000;stroke:#ff0000;stroke-width:0.5;\" x=\"209.885537\" xlink:href=\"#m33b9794b44\" y=\"303.748911\"/>\n     <use style=\"fill:#ff0000;stroke:#ff0000;stroke-width:0.5;\" x=\"209.885537\" xlink:href=\"#m33b9794b44\" y=\"243.17634\"/>\n     <use style=\"fill:#ff0000;stroke:#ff0000;stroke-width:0.5;\" x=\"186.784337\" xlink:href=\"#m33b9794b44\" y=\"227.334283\"/>\n     <use style=\"fill:#ff0000;stroke:#ff0000;stroke-width:0.5;\" x=\"205.114638\" xlink:href=\"#m33b9794b44\" y=\"202.173368\"/>\n     <use style=\"fill:#ff0000;stroke:#ff0000;stroke-width:0.5;\" x=\"183.687437\" xlink:href=\"#m33b9794b44\" y=\"215.219768\"/>\n     <use style=\"fill:#ff0000;stroke:#ff0000;stroke-width:0.5;\" x=\"160.251437\" xlink:href=\"#m33b9794b44\" y=\"246.903883\"/>\n     <use style=\"fill:#ff0000;stroke:#ff0000;stroke-width:0.5;\" x=\"194.066237\" xlink:href=\"#m33b9794b44\" y=\"259.950283\"/>\n     <use style=\"fill:#ff0000;stroke:#ff0000;stroke-width:0.5;\" x=\"212.898737\" xlink:href=\"#m33b9794b44\" y=\"232.925597\"/>\n     <use style=\"fill:#ff0000;stroke:#ff0000;stroke-width:0.5;\" x=\"175.233738\" xlink:href=\"#m33b9794b44\" y=\"267.405368\"/>\n     <use style=\"fill:#ff0000;stroke:#ff0000;stroke-width:0.5;\" x=\"213.568337\" xlink:href=\"#m33b9794b44\" y=\"273.928568\"/>\n     <use style=\"fill:#ff0000;stroke:#ff0000;stroke-width:0.5;\" x=\"260.942538\" xlink:href=\"#m33b9794b44\" y=\"221.742968\"/>\n     <use style=\"fill:#ff0000;stroke:#ff0000;stroke-width:0.5;\" x=\"221.352438\" xlink:href=\"#m33b9794b44\" y=\"238.516911\"/>\n     <use style=\"fill:#ff0000;stroke:#ff0000;stroke-width:0.5;\" x=\"292.999638\" xlink:href=\"#m33b9794b44\" y=\"207.764683\"/>\n     <use style=\"fill:#ff0000;stroke:#ff0000;stroke-width:0.5;\" x=\"277.766237\" xlink:href=\"#m33b9794b44\" y=\"225.470511\"/>\n     <use style=\"fill:#ff0000;stroke:#ff0000;stroke-width:0.5;\" x=\"213.819437\" xlink:href=\"#m33b9794b44\" y=\"319.590968\"/>\n    </g>\n   </g>\n   <g id=\"line2d_18\">\n    <path clip-path=\"url(#p07dee53f93)\" d=\"M 259.435937 195.87619 \nL 119.489537 337.697325 \nL 394.553437 58.948643 \nM 394.553437 58.948643 \nL 156.401238 300.291153 \nL 394.553437 58.948643 \nM 394.553437 58.948643 \nL 209.718138 246.260014 \nL 394.553437 58.948643 \nM 394.553437 58.948643 \nL 177.242537 279.170661 \nL 394.553437 58.948643 \nM 394.553437 58.948643 \nL 200.929638 255.166246 \nL 394.553437 58.948643 \nM 394.553437 58.948643 \nL 281.783837 173.228915 \nL 394.553437 58.948643 \nM 394.553437 58.948643 \nL 174.480437 281.969762 \nL 394.553437 58.948643 \nM 394.553437 58.948643 \nL 125.348537 331.759838 \nL 394.553437 58.948643 \nM 394.553437 58.948643 \nL 77.715457 380.031016 \nM 77.715457 380.031016 \nL 124.511537 332.60805 \nL 77.715457 380.031016 \nM 77.715457 380.031016 \nL 296.347637 158.470017 \nL 77.715457 380.031016 \nM 77.715457 380.031016 \nL 321.206538 133.278105 \nL 77.715457 380.031016 \nM 77.715457 380.031016 \nL 250.731137 204.6976 \nL 77.715457 380.031016 \nM 77.715457 380.031016 \nL 327.902537 126.492405 \nL 213.819437 242.103773 \n\" style=\"fill:none;stroke:#0000ff;stroke-linecap:round;stroke-width:1.5;\"/>\n   </g>\n   <g id=\"patch_3\">\n    <path d=\"M 43.908438 337.296797 \nL 43.908438 11.136797 \n\" style=\"fill:none;stroke:#ffffff;stroke-linecap:square;stroke-linejoin:miter;\"/>\n   </g>\n   <g id=\"patch_4\">\n    <path d=\"M 378.708438 337.296797 \nL 378.708438 11.136797 \n\" style=\"fill:none;stroke:#ffffff;stroke-linecap:square;stroke-linejoin:miter;\"/>\n   </g>\n   <g id=\"patch_5\">\n    <path d=\"M 43.908437 337.296797 \nL 378.708438 337.296797 \n\" style=\"fill:none;stroke:#ffffff;stroke-linecap:square;stroke-linejoin:miter;\"/>\n   </g>\n   <g id=\"patch_6\">\n    <path d=\"M 43.908437 11.136797 \nL 378.708438 11.136797 \n\" style=\"fill:none;stroke:#ffffff;stroke-linecap:square;stroke-linejoin:miter;\"/>\n   </g>\n  </g>\n </g>\n <defs>\n  <clipPath id=\"p07dee53f93\">\n   <rect height=\"326.16\" width=\"334.8\" x=\"43.908438\" y=\"11.136797\"/>\n  </clipPath>\n </defs>\n</svg>\n",
      "image/png": "[encoded data removed]"
     },
     "metadata": {}
    }
   ],
   "source": [
    "data_frame.plot(kind='scatter',x='RM',y='Price',figsize=(6,6),color='red',xlim=(4,8),ylim=(10,45))\n",
    "plt.plot(data_frame['RM'], prediction, color='blue')"
   ]
  },
  {
   "cell_type": "code",
   "execution_count": 38,
   "metadata": {},
   "outputs": [
    {
     "output_type": "stream",
     "name": "stdout",
     "text": [
      "score= 0.48352545599133423\nMean_squared_Error =  43.60055177116956\nRMSE =  6.603071389222561\n"
     ]
    }
   ],
   "source": [
    "print('score=', linear_regression.score(X=pd.DataFrame(data_frame['RM']), y=data_frame['Price']))\n",
    "print('Mean_squared_Error = ', mean_squared_error(prediction, data_frame['Price']))\n",
    "print('RMSE = ', mean_squared_error(prediction, data_frame['Price'])**0.5)"
   ]
  },
  {
   "cell_type": "code",
   "execution_count": null,
   "metadata": {},
   "outputs": [],
   "source": []
  }
 ],
 "metadata": {
  "kernelspec": {
   "display_name": "Python 3",
   "language": "python",
   "name": "python3"
  },
  "language_info": {
   "codemirror_mode": {
    "name": "ipython",
    "version": 3
   },
   "file_extension": ".py",
   "mimetype": "text/x-python",
   "name": "python",
   "nbconvert_exporter": "python",
   "pygments_lexer": "ipython3",
   "version": "3.8.5-final"
  }
 },
 "nbformat": 4,
 "nbformat_minor": 4
}